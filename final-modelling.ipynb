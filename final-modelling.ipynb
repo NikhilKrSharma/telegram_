{
 "cells": [
  {
   "cell_type": "code",
   "execution_count": 2,
   "metadata": {},
   "outputs": [],
   "source": [
    "import os\n",
    "import emoji\n",
    "import pickle\n",
    "import collections\n",
    "import pandas as pd\n",
    "from nltk.corpus import stopwords\n",
    "from sklearn.linear_model import RidgeClassifier\n",
    "from sklearn.feature_extraction.text import CountVectorizer"
   ]
  },
  {
   "cell_type": "markdown",
   "metadata": {},
   "source": [
    "# Create Model and save assets"
   ]
  },
  {
   "cell_type": "code",
   "execution_count": 67,
   "metadata": {},
   "outputs": [
    {
     "data": {
      "text/plain": [
       "RidgeClassifier(random_state=0)"
      ]
     },
     "execution_count": 67,
     "metadata": {},
     "output_type": "execute_result"
    }
   ],
   "source": [
    "df = pd.read_excel(r'data-labeled\\combined-super-clean-data.xlsx')\n",
    "df = df[df['label'].isin(['positive', 'negative', 'neutral'])]\n",
    "df.columns = ['data', 'label']\n",
    "\n",
    "stop_words = set(stopwords.words('english'))\n",
    "count_vector_one_gram = CountVectorizer(stop_words=stop_words, strip_accents='unicode', ngram_range=(1,1))\n",
    "count_vector_one_gram.fit(df['data'].astype('str'))\n",
    "X_count_vectorizer_one_gram = count_vector_one_gram.transform(df['data'].astype('str'))\n",
    "\n",
    "clf = RidgeClassifier(random_state=0)\n",
    "clf.fit(X_count_vectorizer_one_gram, df['label'])"
   ]
  },
  {
   "cell_type": "code",
   "execution_count": 68,
   "metadata": {},
   "outputs": [],
   "source": [
    "if not os.path.isdir('model-assets'):\n",
    "    os.makedirs('model-assets')\n",
    "\n",
    "with open(r'model-assets/feature.pkl', 'wb') as f:\n",
    "    pickle.dump(count_vector_one_gram, f)\n",
    "\n",
    "with open(r'model-assets/model.pkl', 'wb') as f:\n",
    "    pickle.dump(clf, f)"
   ]
  },
  {
   "cell_type": "markdown",
   "metadata": {},
   "source": [
    "# Use model for Prediction"
   ]
  },
  {
   "cell_type": "code",
   "execution_count": 1,
   "metadata": {},
   "outputs": [],
   "source": [
    "def clean_data(df):\n",
    "\n",
    "    df['clean'] = df['raw_data'].apply(lambda x: str(x).replace('\\n', ' '))\n",
    "    df['clean'] = df['clean'].str.replace(pat='(@\\w+)', repl='', regex=True)\n",
    "    df['clean'] = df['clean'].replace(to_replace=' +', value=' ', regex=True)\n",
    "    \n",
    "    # df['clean'] = df['raw_data'].astype(str).apply(lambda x: ' '.join([y for y in x.split() if len(y)<15]))\n",
    "    df['clean'] = df['clean'].astype(str).str.replace(r\"\"\"[#*+\\\\\\(\\)_!:\\-\\[\\]<>']\"\"\", '', regex=True)\n",
    "    df['clean'] = df['clean'].astype(str).str.replace(r\"\"\"(\\.{2,})\"\"\", '.', regex=True)\n",
    "    df['clean'] = df['clean'].astype(str).str.replace(r\"\"\"[-a-zA-Z0-9@:%_\\+.~#?&//=]{2,256}\\.[a-z]{2,4}\\b(\\/[-a-zA-Z0-9@:%_\\+.~#?&//=]*)?\"\"\", '<<<URL>>>', regex=True)\n",
    "    df['clean'] = df['clean'].astype(str).str.replace(r\"\"\"\\$(\\d+\\.?,?)+\"\"\", '<<<AMOUNT>>>', regex=True)\n",
    "    df['clean'] = df['clean'].astype(str).str.replace(r\"\"\"(\\d+%)\"\"\", '<<<PERCENTAGE>>>', regex=True)\n",
    "    df['clean'] = df['clean'].apply(lambda x: emoji.demojize(x, delimiters=(\" ___\", \"___ \")))\n",
    "    df['clean'] = df['clean'].astype(str).str.replace(r'[\\',\\?\\(\\)!@#$\\+-\\.\\/\\^*~|\\{\\}=\\d/]+', '', regex=True)\n",
    "    df['word_count'] = df['clean'].apply(lambda x: len(str(x).split()))\n",
    "    df = df[df['word_count'] > 2]\n",
    "    df['clean'] = df['clean'].str.lower()\n",
    "    df = df.loc[:, ['raw_data', 'clean', 'label']]\n",
    "    \n",
    "    return df['clean']"
   ]
  },
  {
   "cell_type": "code",
   "execution_count": 6,
   "metadata": {},
   "outputs": [],
   "source": [
    "def load_assets(feature_pkl_path, model_pkl_path):\n",
    "    with open(feature_pkl_path, 'rb') as f:\n",
    "        vectorizer = pickle.load(f)\n",
    "\n",
    "    with open(model_pkl_path, 'rb') as f:\n",
    "        model = pickle.load(f)\n",
    "\n",
    "    return (vectorizer, model)"
   ]
  },
  {
   "cell_type": "code",
   "execution_count": 7,
   "metadata": {},
   "outputs": [],
   "source": [
    "def generate_featue(vectorizer, df):\n",
    "    \n",
    "    features = vectorizer.transform(df)\n",
    "    \n",
    "    return features"
   ]
  },
  {
   "cell_type": "markdown",
   "metadata": {},
   "source": [
    "# USAGE"
   ]
  },
  {
   "cell_type": "code",
   "execution_count": 1,
   "metadata": {},
   "outputs": [],
   "source": [
    "raw_data = '''**âš¡ï¸Craft Brewing Business Features Launch of 1st Craft Beer NFT on Blingâš¡ï¸\n",
    "\n",
    "Trace **doing good work!!\n",
    "\n",
    "https://twitter.com/7bridgesbrewing/status/1445638656966881280?s=21\n",
    "\n",
    "Read more: https://bit.ly/TraceNFTBeer-CraftBrew\"\n",
    "\"âš¡ï¸**#CyberTrade is well on its way to become most anticipated Blockchain game of the year! \n",
    "\n",
    "https://twitter.com/CyberTradeGame/status/1445765127190368259?s=20 \n",
    "**\n",
    "**27 000 Pre-Registered users in 24 hours! \n",
    "**\n",
    "**Go to**ðŸ‘‰**[PRE-REGISTER](https://cybertrade.game/whitelist) and join the New era of #NFTgaming!**\"\n",
    "\"NFT farming on kawaii islands marketplace!!\n",
    "\n",
    "https://twitter.com/kawaii_islands/status/1445797046921965568\"\n",
    "\"Wallfair #whitelist is now open \n",
    "\n",
    "https://twitter.com/joinwallfair/status/1445815427549081602\"\n",
    "\"Get ready to watch movies with Crypto ðŸŽ¬ \n",
    "\n",
    "https://twitter.com/CEOAdam/status/1445538907324497920\"\n",
    "JUST IN: The Mexican Stock Exchange (BMV) is now considering listing crypto futures on its derivatives exchange.\n",
    "\"**Just another day and another Bitcoin pump** âš¡ï¸\n",
    "\n",
    "https://twitter.com/BitcoinMagazine/status/1445740489114669063\"\n",
    "\"**Uptober is real!!!\n",
    "**\n",
    "https://twitter.com/CryptoDaku_/status/1445669281740439554\"\n",
    "\"ðŸ¤**Amasa x IoTex**ðŸ¤\n",
    "\n",
    "https://twitter.com/Amasa_io/status/1445751950411173888\"\n",
    "\"Time for Next AMA: We have AMA with The Panther Protocol team\n",
    "\n",
    "Panther is a End-to-end privacy protocol for digital assets.\n",
    "\n",
    "https://www.pantherprotocol.io/\n",
    "https://t.me/pantherprotocol\n",
    "\n",
    "Reward: as usual :) we always have rewards :)\n",
    "Countdown: https://tinyurl.com/c6wsnhxn\n",
    "Venue: https://t.me/cryptodakurobinhooders\"\n",
    "\"Time for Next AMA: We have AMA with Demole team\n",
    "\n",
    "Demole is the first playable 3D RPG game in the NFT ecosystem consisting of multiple earning and gameplay mechanics.\n",
    "\n",
    "https://demole.io/\n",
    "https://t.me/demole_ioCommunity\n",
    "\n",
    "Reward: as usual :) we always have rewards :)\n",
    "Countdown: https://tinyurl.com/9vhptb2b \n",
    "Venue: https://t.me/cryptodakurobinhooders\"\n",
    "\"**Panther announces partnership with Bumper!** ðŸ”¥ðŸ”¥\n",
    "\n",
    "Another important partnership announcement! We have entered into a partnership agreement that aims to benefit retail and institutional users alike and the benefits to both parties are manyfold.\n",
    "\n",
    "Together, Panther and Bumper aim to provide DeFi users with a seamless, safe, and private DeFi user experience. We will also create workflows that allow institutions and fintechs (and their users) to enter DeFi and enjoy the Bumper Protocolâ€™s volatility protection systems, all the while staying compliant with world-class KYC and AML standards.\n",
    "\n",
    "https://twitter.com/ZKPanther/status/1445797651966881803\"\n",
    "\"**Demole x GateLabs**ðŸ”¥\n",
    "\n",
    "https://twitter.com/demoleio/status/1445721329013977099\"\n",
    "\"https://bit.ly/3oDcm47\n",
    "\n",
    "Netvrk spacesip partnership\"\n",
    "\"ðŸ’«ðŸ’« **RENA, the governance token for the worldâ€™s first highly-personalized, NFT metaverse game Warena is now available on the CoinMarketCap** ðŸ’«ðŸ’«\n",
    "\n",
    "â€œObviously itâ€™s an important step for us to take,â€ said Minh Doan, co-founder of Warena, â€œCoinMarketCap is the world's most-referenced price-tracking website for crypto assets. They empower retail users to make informed, detailed conclusions. In the end, being a listed token builds upon the already-sound reputation of Warena.â€\n",
    "\n",
    "**RENA on CoinMarketCap\n",
    "**https://coinmarketcap.com/currencies/warena/\n",
    "\n",
    "**READ MORE **ðŸ‘‡ðŸ‘‡\n",
    "https://teamwarena.medium.com/rena-now-listed-on-coinmarketcap-c588153e3a7\n",
    "\n",
    "**LIKE AND SHARE** ðŸ‘\n",
    "https://twitter.com/WarenaOfficial/status/1445730053019484172?s=20\"\n",
    "\"**THE APES ARE COMING THIS OCTOBER!! **ðŸ˜±\n",
    "\n",
    "Mines of Dalarnia â€œMining Apesâ€ NFT Collection is coming this October 14th. So stay tuned, Miners! \n",
    "\n",
    "The final 10,000 mining apes are selected randomly, and although everyone is unique, some combinations will be âœ¨rarerâœ¨ than others. \n",
    "\n",
    "Mining apes are different from each other through physical attributes, accessories, and equipments. ðŸ’\n",
    "\n",
    "Soooâ€¦. Which mining ape do you think you'll get? ðŸ™Š\"\n",
    "\"Geist Finance will launch on October 6th, 2021 at 10:00am UTC. GEIST emissions will begin one hour after the protocol launches, to ensure that all early users have an opportunity to participate.\n",
    "\n",
    "https://t.me/geist_finance\n",
    "\n",
    "https://medium.com/@geistfantom/launch-announcement-geist-finance-db160c97313e\n",
    "\n",
    "- Move funds to FTM Chain or other bridges https://anyswap.exchange\n",
    "\n",
    "RPC URL: https://rpc.ftm.tools/\n",
    "Chain ID: 250\n",
    "Currency Symbol: FTM\n",
    "Block Explorer URL: https://ftmscan.com/\n",
    "\n",
    "Ape as usual DYOR!! your money your responsibilty\"\n",
    "\"**Realm Tearser App launch on android and ios \n",
    "\n",
    "**https://twitter.com/Enter_Realm/status/1445708153329315847\"\n",
    "\"https://twitter.com/MRPHSupplyChain/status/1445491026299273218\n",
    "\n",
    "MRPH!! rebrand and move up!!\"\n",
    "\"We have got it covered for our developer community on all fronts with our [4 layer solution](https://twitter.com/merkleNetwork/status/1445686502076272641). ðŸ¦¾\n",
    "\n",
    "ðŸ“œCheck out our whitepaper for detailed information - \n",
    "https://merkle.network/files/whitepaper_v1_0.pdf\n",
    "\n",
    "#Interoperability #oracles #architecture $ETH $BNB $MATIC $DOT $AVAX $SOL $MERKLE\n",
    "\n",
    "**ðŸ—£ Retweet**: https://twitter.com/merkleNetwork/status/1445686502076272641\"\n",
    "\"â˜ ï¸**Latest Episode of the Rugpull Series is here**â˜ ï¸\n",
    "\n",
    "The developer behind the** NFT project, 'Evil Ape,** suddenly **disappeared** along with its Twitter account, website, and **$2.7 million.** \n",
    "\n",
    "https://www.vice.com/en/article/y3dyem/investors-spent-millions-on-evolved-apes-nfts-then-they-got-scammed?utm_source=VICE_Twitter\"\n",
    "\n",
    "\"**Dark Frontiers IGO on GameStarter in live!!!**ðŸš€\n",
    "\n",
    "IGO ends on Oct 6th, 19:00 UTC\n",
    "\n",
    "https://twitter.com/gamestarter_co/status/1445464584026951687?s=20\"\n",
    "\"Crypto to become legal in Brazil ðŸ‡§ðŸ‡·??\n",
    "\n",
    "Brazilâ€™s Congress will discuss a bill to regulate the companies operating in the cryptocurrency sector and increases penalties for crypto pyramid schemes and other illegal activities. \n",
    "\n",
    "**A big step towards mass adoption of crypto **âš¡ï¸\"\n",
    "\"**Warena (RENA)** Quadruple IDO will be held on \n",
    "\n",
    "**ðŸ”¹DAO Maker** (7 Oct) \n",
    "**ðŸ”¹Red Kite** (7 Oct) \n",
    "**ðŸ”¹GameFi** (7 Oct) \n",
    "**ðŸ”¹PAID Ignition** (8 Oct)\n",
    "\n",
    "ðŸš€Public Sale/IDO Price: $0.165\n",
    "ðŸš€Private Sale Price: $0.165\n",
    "ðŸš€Initial Marketcap: $420,000\n",
    "\n",
    "https://twitter.com/WarenaOfficial/status/1445642759130402829?s=20\"\n",
    "\"**HeroVerse Marketplace will open at 12:00 UTC 7th Oct \n",
    "\n",
    "**https://heroverse-game.medium.com/heroverse-sets-to-boost-its-marketplace-as-an-one-stop-shop-4b8644d8b4fb\"\n",
    "\"Kevin Oâ€™Leary Now Has More Crypto Than Gold - What about you ðŸ‘€?\n",
    "\n",
    "https://twitter.com/BTCTN/status/1445321275547824130\"\n",
    "\"A nation state buying Bitcoin dips âœ¨ - We have come a long way now!!\n",
    "\n",
    "https://twitter.com/BitcoinMagazine/status/1445429295627870215\"\n",
    "\"\"\"Insufficiently bullish on NFTs\"\"\"\"\n",
    "\n",
    "https://twitter.com/punk6529/status/1443921334837338114\"\n",
    "\"**JUST IN: A**rab Bank Switzerland has announced that they have chosen to partner with **Tezos** to provide its clients with innovative, compliant on-chain digital financial products. \n",
    "\n",
    "**What does this mean?**\n",
    "\n",
    "Arab Bank Switzerland will now provide institutional-grade storage, staking, and trading services for tez (XTZ).\"\n",
    "\"It's been a wild ride for Bitcoin in 2021!! And it now beats stocks, commodities to become **best-performing asset of 2021**âš¡ï¸\n",
    "\n",
    "https://twitter.com/Bitcoin/status/1445155518608142336\"\n",
    "\"**Polytrade MVP to be Unveiled on 13-14th October!!!\n",
    "\n",
    "**https://twitter.com/Polytrade_fin/status/1445383162385813517?s=20\"\n",
    "\"âš¡ï¸**Pre-Register for alpha test of Revolutionary NFT game #CyberTrade is officialy open! âš¡ï¸\n",
    "\n",
    "**Everybody who enter event will receive **â€œAlpha event gold chief skinâ€** for their #NFT fighter in **CyberTrade** on launch\n",
    "\n",
    "https://twitter.com/CyberTradeGame/status/1445400497955954695?s=20\"\n",
    "\"**Nasdaq Down, S&P 500 Down, and Bitcoin UP **âš¡ï¸**\n",
    "**\n",
    "It's the first week of **Uptober** and Bitcoin and alts are showing resilience to other correlated markets.\n",
    "\n",
    "But can they \"\"keep their head when all about them are losing theirs\"\" and truly become an independent market?\n",
    "\n",
    "Complete Read hereðŸ‘‡\n",
    "\n",
    "https://b21.ghost.io/b21-ddd-oct-04-2021\"\n",
    "\"**MyMasterWar Testnet will be live on Oct 8 **ðŸ’¥\n",
    "\n",
    "https://mymasterwar.medium.com/invitation-to-join-the-gamified-mymasterwar-testnet-become-the-lucky-mat-warriors-5d94fac4c167\n",
    "\n",
    "**Apply Now to Get Testnet Access:** https://forms.gle/uF28saDn2TVxgsn98\"\n",
    "\"**ðŸš€Demole X Venture Capitals**ðŸš€\n",
    "\n",
    "https://twitter.com/demoleio/status/1445393068685991950?s=20\"\n",
    "\"**THE APES ARE HERE!! **ðŸ¦\n",
    "\n",
    "#nftsale\n",
    "\n",
    "Learn more about this collection by reading through our blog below. ðŸ‘‡\n",
    "https://minesofdalarnia.medium.com/mines-of-dalarnia-mining-apes-nft-collection-9aaee00c2fe6\"\n",
    "\"**The race to cater to institutional investors who want to wager on cryptocurrency is heating up **ðŸ”¥\n",
    "\n",
    "Today U.S. Bank - 5th biggest retail bank in the nation, announced today that its cryptocurrency custody services are now live and available to their Global Fund Services clients.\n",
    "\n",
    "According to **Gunjan Kedia, vice chair, U.S. Bank,** \"\"Investor interest in cryptocurrency and demand from our fund services clients have grown strongly over the last few years and we made it a priority to accelerate our ability to offer custody services.â€\"\n",
    "\"MRFI listing on Mexc!!\n",
    "\n",
    "repeat of avxl performancE? lets see!!\"\n",
    "'''.split('\\n')"
   ]
  },
  {
   "cell_type": "code",
   "execution_count": 2,
   "metadata": {},
   "outputs": [],
   "source": [
    "raw_data = [x for x in raw_data if len(x)>5]"
   ]
  },
  {
   "cell_type": "code",
   "execution_count": 8,
   "metadata": {},
   "outputs": [],
   "source": [
    "vectorizer , model = load_assets(\n",
    "    feature_pkl_path=r\"D:\\Projects\\new-tele\\model-assets\\feature.pkl\",\n",
    "    model_pkl_path=r\"D:\\Projects\\new-tele\\model-assets\\model.pkl\"\n",
    ")"
   ]
  },
  {
   "cell_type": "code",
   "execution_count": 9,
   "metadata": {},
   "outputs": [],
   "source": [
    "df = clean_data(raw_data)"
   ]
  },
  {
   "cell_type": "code",
   "execution_count": 10,
   "metadata": {},
   "outputs": [],
   "source": [
    "X = generate_featue(vectorizer, df)"
   ]
  },
  {
   "cell_type": "code",
   "execution_count": 12,
   "metadata": {},
   "outputs": [],
   "source": [
    "predictions = model.predict(X)"
   ]
  },
  {
   "cell_type": "code",
   "execution_count": 15,
   "metadata": {},
   "outputs": [],
   "source": [
    "sample_count = len(predictions)"
   ]
  },
  {
   "cell_type": "code",
   "execution_count": 20,
   "metadata": {},
   "outputs": [],
   "source": [
    "count_of_each_predictions = collections.Counter(predictions)"
   ]
  },
  {
   "cell_type": "code",
   "execution_count": 21,
   "metadata": {},
   "outputs": [
    {
     "data": {
      "text/plain": [
       "27"
      ]
     },
     "execution_count": 21,
     "metadata": {},
     "output_type": "execute_result"
    }
   ],
   "source": [
    "count_of_each_predictions['positive']"
   ]
  },
  {
   "cell_type": "code",
   "execution_count": 23,
   "metadata": {},
   "outputs": [],
   "source": [
    "sentiment_score = count_of_each_predictions['positive'] / sample_count"
   ]
  },
  {
   "cell_type": "code",
   "execution_count": 24,
   "metadata": {},
   "outputs": [
    {
     "data": {
      "text/plain": [
       "0.20930232558139536"
      ]
     },
     "execution_count": 24,
     "metadata": {},
     "output_type": "execute_result"
    }
   ],
   "source": [
    "sentiment_score"
   ]
  },
  {
   "cell_type": "code",
   "execution_count": null,
   "metadata": {},
   "outputs": [],
   "source": []
  }
 ],
 "metadata": {
  "interpreter": {
   "hash": "a1a90642b4008297c1b85e690cafa1cd860c092cdacc8f7dad7addc1fa08c680"
  },
  "kernelspec": {
   "display_name": "Python 3 (ipykernel)",
   "language": "python",
   "name": "python3"
  },
  "language_info": {
   "codemirror_mode": {
    "name": "ipython",
    "version": 3
   },
   "file_extension": ".py",
   "mimetype": "text/x-python",
   "name": "python",
   "nbconvert_exporter": "python",
   "pygments_lexer": "ipython3",
   "version": "3.9.7"
  }
 },
 "nbformat": 4,
 "nbformat_minor": 4
}
