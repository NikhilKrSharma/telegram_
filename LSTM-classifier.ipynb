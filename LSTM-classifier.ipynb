{
 "cells": [
  {
   "cell_type": "code",
   "execution_count": 1,
   "id": "16bc43b2-ef75-47a6-97e8-bdcf759ee83a",
   "metadata": {},
   "outputs": [],
   "source": [
    "import gensim\n",
    "import os\n",
    "import time\n",
    "import random\n",
    "import re\n",
    "import pandas as pd\n",
    "import numpy as np\n",
    "import multiprocessing\n",
    "import spacy\n",
    "import keras\n",
    "import nltk\n",
    "from sklearn.model_selection import train_test_split\n",
    "from gensim.models import Word2Vec"
   ]
  },
  {
   "cell_type": "code",
   "execution_count": 2,
   "id": "7e8e08ba-51de-45da-afa4-f23242d7e024",
   "metadata": {},
   "outputs": [],
   "source": [
    "# nltk.download()"
   ]
  },
  {
   "cell_type": "code",
   "execution_count": 3,
   "id": "c5a1b29b-6485-40e2-bc6b-f28295a9796c",
   "metadata": {},
   "outputs": [],
   "source": [
    "from keras.datasets import imdb\n",
    "from keras.models import Sequential\n",
    "from keras.layers import Dense\n",
    "from keras.layers import LSTM\n",
    "from keras.layers.embeddings import Embedding\n",
    "from keras.preprocessing import sequence"
   ]
  },
  {
   "cell_type": "code",
   "execution_count": 6,
   "id": "f82ffc5c-9f77-45d9-b753-eb825df26df4",
   "metadata": {},
   "outputs": [],
   "source": [
    "# # Set seed to get the same output everytime\n",
    "# def seed_everything(SEED=13):\n",
    "#     np.random.seed(SEED)\n",
    "#     random.seed(SEED)\n",
    "#     tf.random.set_seed(SEED)\n",
    "#     os.environ[\"TF_CPP_MIN_LOG_LEVEL\"] = '2'\n",
    "#     os.environ['PYTHONHASHSEED'] = str(SEED)\n",
    "\n",
    "# seed_everything()"
   ]
  },
  {
   "cell_type": "code",
   "execution_count": 7,
   "id": "0ef4199a-41ef-4ad4-97d8-9cb5205af18a",
   "metadata": {
    "tags": []
   },
   "outputs": [
    {
     "data": {
      "text/plain": [
       "12"
      ]
     },
     "execution_count": 7,
     "metadata": {},
     "output_type": "execute_result"
    }
   ],
   "source": [
    "cores = multiprocessing.cpu_count()\n",
    "cores"
   ]
  },
  {
   "cell_type": "code",
   "execution_count": 8,
   "id": "a4dc8b0f-aff8-4eea-aa34-8a751da0be6c",
   "metadata": {},
   "outputs": [],
   "source": [
    "# fix random seed for reproducibility\n",
    "np.random.seed(7)"
   ]
  },
  {
   "cell_type": "code",
   "execution_count": 9,
   "id": "9d8ac4d3-7ad1-4008-ae68-11e3aeddaca1",
   "metadata": {},
   "outputs": [
    {
     "data": {
      "text/plain": [
       "['CryptoRobinhooders_chat_data_clean__.xlsx',\n",
       " 'Satoshi_club_chat_data_clean__.xlsx',\n",
       " 'combined-super-clean-data.xlsx',\n",
       " 'telegram_data_8th_NOV.csv',\n",
       " 'telegram-clean-data.xlsx',\n",
       " '.ipynb_checkpoints',\n",
       " 'desktop.ini']"
      ]
     },
     "execution_count": 9,
     "metadata": {},
     "output_type": "execute_result"
    }
   ],
   "source": [
    "os.listdir(os.path.join(os.getcwd(), 'data-labeled'))"
   ]
  },
  {
   "cell_type": "code",
   "execution_count": 10,
   "id": "e2c4b1f2-55c2-4f7c-812b-add685c90df5",
   "metadata": {},
   "outputs": [],
   "source": [
    "df = pd.read_excel(r'data-labeled/telegram-clean-data.xlsx')\n",
    "df['split'] = df['clean'].str.split()"
   ]
  },
  {
   "cell_type": "code",
   "execution_count": 11,
   "id": "af9b01a1-8096-4c69-9821-2e1f29606b49",
   "metadata": {},
   "outputs": [
    {
     "data": {
      "text/html": [
       "<div>\n",
       "<style scoped>\n",
       "    .dataframe tbody tr th:only-of-type {\n",
       "        vertical-align: middle;\n",
       "    }\n",
       "\n",
       "    .dataframe tbody tr th {\n",
       "        vertical-align: top;\n",
       "    }\n",
       "\n",
       "    .dataframe thead th {\n",
       "        text-align: right;\n",
       "    }\n",
       "</style>\n",
       "<table border=\"1\" class=\"dataframe\">\n",
       "  <thead>\n",
       "    <tr style=\"text-align: right;\">\n",
       "      <th></th>\n",
       "      <th>raw_data</th>\n",
       "      <th>clean</th>\n",
       "      <th>label</th>\n",
       "      <th>split</th>\n",
       "    </tr>\n",
       "  </thead>\n",
       "  <tbody>\n",
       "    <tr>\n",
       "      <th>9314</th>\n",
       "      <td>Most of users are still not aware with Blockch...</td>\n",
       "      <td>most of users are still not aware with blockch...</td>\n",
       "      <td>other</td>\n",
       "      <td>[most, of, users, are, still, not, aware, with...</td>\n",
       "    </tr>\n",
       "    <tr>\n",
       "      <th>9315</th>\n",
       "      <td>What are the attractive features in your proje...</td>\n",
       "      <td>what are the attractive features in your proje...</td>\n",
       "      <td>other</td>\n",
       "      <td>[what, are, the, attractive, features, in, you...</td>\n",
       "    </tr>\n",
       "  </tbody>\n",
       "</table>\n",
       "</div>"
      ],
      "text/plain": [
       "                                               raw_data  \\\n",
       "9314  Most of users are still not aware with Blockch...   \n",
       "9315  What are the attractive features in your proje...   \n",
       "\n",
       "                                                  clean  label  \\\n",
       "9314  most of users are still not aware with blockch...  other   \n",
       "9315  what are the attractive features in your proje...  other   \n",
       "\n",
       "                                                  split  \n",
       "9314  [most, of, users, are, still, not, aware, with...  \n",
       "9315  [what, are, the, attractive, features, in, you...  "
      ]
     },
     "execution_count": 11,
     "metadata": {},
     "output_type": "execute_result"
    }
   ],
   "source": [
    "df.tail(2)"
   ]
  },
  {
   "cell_type": "code",
   "execution_count": 12,
   "id": "a87b2145-a21b-44d1-97f9-bb782bf9d99e",
   "metadata": {},
   "outputs": [
    {
     "data": {
      "text/plain": [
       "['feature.pkl',\n",
       " 'model.pkl',\n",
       " 'word-to-vec-model-1000-epochs.bin',\n",
       " 'word-to-vec-model-5000-epochs.bin',\n",
       " 'word-to-vec-model-2000-epochs.bin',\n",
       " 'desktop.ini',\n",
       " 'model-1-10-epochs.bin']"
      ]
     },
     "execution_count": 12,
     "metadata": {},
     "output_type": "execute_result"
    }
   ],
   "source": [
    "os.listdir(os.path.join(os.getcwd(), 'model-assets'))"
   ]
  },
  {
   "cell_type": "code",
   "execution_count": 13,
   "id": "ad587933-7d23-47c4-a862-a3b2fbbbe676",
   "metadata": {},
   "outputs": [],
   "source": [
    "# Loading the saved gensim.models.word2vec.Word2Vec model\n",
    "\n",
    "global word2vec_model\n",
    "word2vec_model = Word2Vec.load(f'model-assets/word-to-vec-model-5000-epochs.bin')"
   ]
  },
  {
   "cell_type": "code",
   "execution_count": 14,
   "id": "92c6e2ee-778d-4e48-bfcc-e6b3a18a119a",
   "metadata": {
    "tags": []
   },
   "outputs": [],
   "source": [
    "def get_vector_representation_of_a_word(word: str):\n",
    "    try:\n",
    "        vector_representation_of_a_word = word2vec_model.wv.get_vector(word).reshape(100, -1)\n",
    "    except Exception as E:\n",
    "        print(f'Vector representation not found for \"{word}\"')\n",
    "        vector_representation_of_a_word = np.zeros(100).reshape(100,-1)\n",
    "    finally:\n",
    "        return vector_representation_of_a_word\n",
    "        \n",
    "\n",
    "def get_vector_representation_of_a_sentence(sentence):\n",
    "    if isinstance(sentence, list):\n",
    "        sentence = sentence\n",
    "    else:\n",
    "        sentence = sentence.split()\n",
    "        \n",
    "    vector_representation_of_a_sentence = []\n",
    "    for word in sentence:\n",
    "        vector_representation_of_a_sentence.append(get_vector_representation_of_a_word(word))\n",
    "    \n",
    "    return vector_representation_of_a_sentence"
   ]
  },
  {
   "cell_type": "code",
   "execution_count": 79,
   "id": "7b773f0f-0d5c-4588-9866-c2e8094495f7",
   "metadata": {},
   "outputs": [
    {
     "data": {
      "text/plain": [
       "40"
      ]
     },
     "execution_count": 79,
     "metadata": {},
     "output_type": "execute_result"
    }
   ],
   "source": [
    "len(df['split'][0])"
   ]
  },
  {
   "cell_type": "code",
   "execution_count": 78,
   "id": "0c6b641c-6052-4484-a78c-95888ec582f5",
   "metadata": {},
   "outputs": [
    {
     "data": {
      "text/plain": [
       "(40, 100, 1)"
      ]
     },
     "execution_count": 78,
     "metadata": {},
     "output_type": "execute_result"
    }
   ],
   "source": [
    "np.array(df['sentence_in_vector_rep'][0]).shape"
   ]
  },
  {
   "cell_type": "code",
   "execution_count": 15,
   "id": "6ed073d5-617e-41d9-a06c-bb8be92eec8e",
   "metadata": {},
   "outputs": [],
   "source": [
    "df['sentence_in_vector_rep'] = df['split'].apply(lambda x: get_vector_representation_of_a_sentence(x))"
   ]
  },
  {
   "cell_type": "code",
   "execution_count": 16,
   "id": "5da2e08f-b662-4385-a8d3-e0eeffb20a7a",
   "metadata": {},
   "outputs": [
    {
     "data": {
      "text/html": [
       "<div>\n",
       "<style scoped>\n",
       "    .dataframe tbody tr th:only-of-type {\n",
       "        vertical-align: middle;\n",
       "    }\n",
       "\n",
       "    .dataframe tbody tr th {\n",
       "        vertical-align: top;\n",
       "    }\n",
       "\n",
       "    .dataframe thead th {\n",
       "        text-align: right;\n",
       "    }\n",
       "</style>\n",
       "<table border=\"1\" class=\"dataframe\">\n",
       "  <thead>\n",
       "    <tr style=\"text-align: right;\">\n",
       "      <th></th>\n",
       "      <th>raw_data</th>\n",
       "      <th>clean</th>\n",
       "      <th>label</th>\n",
       "      <th>split</th>\n",
       "      <th>sentence_in_vector_rep</th>\n",
       "    </tr>\n",
       "  </thead>\n",
       "  <tbody>\n",
       "    <tr>\n",
       "      <th>9314</th>\n",
       "      <td>Most of users are still not aware with Blockch...</td>\n",
       "      <td>most of users are still not aware with blockch...</td>\n",
       "      <td>other</td>\n",
       "      <td>[most, of, users, are, still, not, aware, with...</td>\n",
       "      <td>[[[-5.164155], [2.520065], [-2.1611626], [1.95...</td>\n",
       "    </tr>\n",
       "    <tr>\n",
       "      <th>9315</th>\n",
       "      <td>What are the attractive features in your proje...</td>\n",
       "      <td>what are the attractive features in your proje...</td>\n",
       "      <td>other</td>\n",
       "      <td>[what, are, the, attractive, features, in, you...</td>\n",
       "      <td>[[[0.14095268], [1.760383], [-2.4575827], [3.4...</td>\n",
       "    </tr>\n",
       "  </tbody>\n",
       "</table>\n",
       "</div>"
      ],
      "text/plain": [
       "                                               raw_data  \\\n",
       "9314  Most of users are still not aware with Blockch...   \n",
       "9315  What are the attractive features in your proje...   \n",
       "\n",
       "                                                  clean  label  \\\n",
       "9314  most of users are still not aware with blockch...  other   \n",
       "9315  what are the attractive features in your proje...  other   \n",
       "\n",
       "                                                  split  \\\n",
       "9314  [most, of, users, are, still, not, aware, with...   \n",
       "9315  [what, are, the, attractive, features, in, you...   \n",
       "\n",
       "                                 sentence_in_vector_rep  \n",
       "9314  [[[-5.164155], [2.520065], [-2.1611626], [1.95...  \n",
       "9315  [[[0.14095268], [1.760383], [-2.4575827], [3.4...  "
      ]
     },
     "execution_count": 16,
     "metadata": {},
     "output_type": "execute_result"
    }
   ],
   "source": [
    "df.tail(2)"
   ]
  },
  {
   "cell_type": "code",
   "execution_count": 84,
   "id": "73a51c22-88a2-40bf-b8f4-1cb78e0d0d7e",
   "metadata": {},
   "outputs": [],
   "source": [
    "X, y = df['sentence_in_vector_rep'], df['label']\n",
    "y = pd.get_dummies(y).values\n",
    "\n",
    "X_train, X_test, y_train, y_test = train_test_split(X, y, test_size=0.01, random_state=42)"
   ]
  },
  {
   "cell_type": "code",
   "execution_count": 54,
   "id": "d0055699-fad1-4957-b8f2-9028ef7984c7",
   "metadata": {},
   "outputs": [
    {
     "name": "stdout",
     "output_type": "stream",
     "text": [
      "[224, 111, 165, 162, 101, 233, 171, 162, 171, 129, 121, 120, 115, 123, 115, 105, 162, 161, 160, 115, 192, 128, 115, 132, 197, 108, 124, 101, 187, 103, 116, 440, 220, 198, 183, 171, 183, 119, 127, 131, 171, 171, 143, 165, 152, 491, 126, 104, 150, 150, 126, 123, 169, 194, 194, 193, 108, 115, 119, 131, 108, 124, 124, 157, 154, 154, 157, 115, 135, 108, 192, 134, 123]\n"
     ]
    }
   ],
   "source": [
    "print([len(x) for x in df['split'] if len(x) > 100])"
   ]
  },
  {
   "cell_type": "code",
   "execution_count": 55,
   "id": "4141d0a5-4bc7-411a-8f21-3c2f23a50687",
   "metadata": {},
   "outputs": [
    {
     "data": {
      "text/plain": [
       "Index(['negative', 'neutral', 'other', 'positive'], dtype='object')"
      ]
     },
     "execution_count": 55,
     "metadata": {},
     "output_type": "execute_result"
    }
   ],
   "source": [
    "pd.get_dummies(df['label']).columns"
   ]
  },
  {
   "cell_type": "code",
   "execution_count": 56,
   "id": "27e7c601-b159-4d77-a862-a11512cf844d",
   "metadata": {},
   "outputs": [
    {
     "name": "stdout",
     "output_type": "stream",
     "text": [
      "[85, 6, 16, 4, 10, 3, 6, 5, 30, 9, 15, 6, 13, 5, 12, 67, 4, 6, 9, 4]\n"
     ]
    }
   ],
   "source": [
    "print([len(x) for x in list(X_train)[:20]])"
   ]
  },
  {
   "cell_type": "code",
   "execution_count": 57,
   "id": "29a63cec-08b0-4189-8e48-9ecb6f484de8",
   "metadata": {},
   "outputs": [
    {
     "data": {
      "text/plain": [
       "10237"
      ]
     },
     "execution_count": 57,
     "metadata": {},
     "output_type": "execute_result"
    }
   ],
   "source": [
    "len(word2vec_model.wv.index_to_key)"
   ]
  },
  {
   "cell_type": "code",
   "execution_count": 85,
   "id": "0e71213e-93a3-4696-a87d-75c252a46c04",
   "metadata": {},
   "outputs": [],
   "source": [
    "# truncate and pad input sequences\n",
    "\n",
    "max_vector_length = 150\n",
    "X_train = sequence.pad_sequences(X_train, maxlen=max_vector_length)\n",
    "X_test = sequence.pad_sequences(X_test, maxlen=max_vector_length)"
   ]
  },
  {
   "cell_type": "code",
   "execution_count": 86,
   "id": "92308769-5797-4b99-aa9d-e71e5d91ba67",
   "metadata": {},
   "outputs": [
    {
     "data": {
      "text/plain": [
       "(150, 100, 1)"
      ]
     },
     "execution_count": 86,
     "metadata": {},
     "output_type": "execute_result"
    }
   ],
   "source": [
    "X_train[0].shape"
   ]
  },
  {
   "cell_type": "code",
   "execution_count": 87,
   "id": "9813adf5-8290-49e2-847b-011828326531",
   "metadata": {},
   "outputs": [],
   "source": [
    "X_train = X_train[:, :, :, 0]\n",
    "X_test = X_test[:, :, :, 0]"
   ]
  },
  {
   "cell_type": "code",
   "execution_count": null,
   "id": "8bb1e3b3-55a4-49e4-88e2-b4807dde047a",
   "metadata": {},
   "outputs": [],
   "source": [
    "X"
   ]
  },
  {
   "cell_type": "code",
   "execution_count": 60,
   "id": "2046413d-e959-43c1-9eb6-c8bf300a7578",
   "metadata": {},
   "outputs": [
    {
     "data": {
      "text/plain": [
       "((9222, 150, 100), (94, 150, 100))"
      ]
     },
     "execution_count": 60,
     "metadata": {},
     "output_type": "execute_result"
    }
   ],
   "source": [
    "X_train.shape, X_test.shape"
   ]
  },
  {
   "cell_type": "code",
   "execution_count": 65,
   "id": "e8a787a7-b314-4525-b238-0baad852ab93",
   "metadata": {},
   "outputs": [],
   "source": [
    "from keras.layers import Input, Bidirectional"
   ]
  },
  {
   "cell_type": "code",
   "execution_count": 67,
   "id": "a5eaa960-38e7-4eaf-959a-8902ab4702a3",
   "metadata": {},
   "outputs": [],
   "source": [
    "from keras import optimizers\n",
    "from keras.models import Model"
   ]
  },
  {
   "cell_type": "code",
   "execution_count": 68,
   "id": "bcb13d44-bd18-4af2-ae70-7e074f9fde1f",
   "metadata": {},
   "outputs": [],
   "source": [
    "from tensorflow.keras import optimizers"
   ]
  },
  {
   "cell_type": "code",
   "execution_count": 90,
   "id": "8dcfbcef-d2ba-4ab2-b0c8-af007e179a81",
   "metadata": {},
   "outputs": [
    {
     "name": "stdout",
     "output_type": "stream",
     "text": [
      "Model: \"model_1\"\n",
      "_________________________________________________________________\n",
      " Layer (type)                Output Shape              Param #   \n",
      "=================================================================\n",
      " input_4 (InputLayer)        [(None, 150, 100)]        0         \n",
      "                                                                 \n",
      " bidirectional_4 (Bidirectio  (None, 150, 64)          34048     \n",
      " nal)                                                            \n",
      "                                                                 \n",
      " bidirectional_5 (Bidirectio  (None, 32)               10368     \n",
      " nal)                                                            \n",
      "                                                                 \n",
      " dense_2 (Dense)             (None, 4)                 132       \n",
      "                                                                 \n",
      "=================================================================\n",
      "Total params: 44,548\n",
      "Trainable params: 44,548\n",
      "Non-trainable params: 0\n",
      "_________________________________________________________________\n",
      "None\n"
     ]
    }
   ],
   "source": [
    "seq_lenght = 150\n",
    "vector_dim = 100  # Embedding Dimension\n",
    "lstm_hidden_size_1 = 32\n",
    "lstm_hidden_size_2 = 16\n",
    "\n",
    "inputs_seq = Input(shape=(seq_lenght, vector_dim))\n",
    "lstm_out_1 = Bidirectional(LSTM(lstm_hidden_size_1, return_sequences=True))(inputs_seq)\n",
    "# dense_out_1 = Dense(num_hidden_rep_size_1, activation='softmax')(lstm_out_1)\n",
    "lstm_out_2 = Bidirectional(LSTM(lstm_hidden_size_2, return_sequences=False))(lstm_out_1)\n",
    "dense_1 = Dense(4,activation='softmax')(lstm_out_2)\n",
    "\n",
    "model = Model(inputs_seq, dense_1)\n",
    "# sgd = optimizers.SGD(learning_rate=0.01, decay=1e-6, momentum=0.9, nesterov=True)\n",
    "model.compile(loss='categorical_crossentropy', optimizer='rmsprop', metrics=['accuracy'])\n",
    "\n",
    "print(model.summary())"
   ]
  },
  {
   "cell_type": "code",
   "execution_count": 91,
   "id": "31067ace-be31-42f5-884f-bbcc3f8c95d7",
   "metadata": {
    "tags": []
   },
   "outputs": [
    {
     "name": "stdout",
     "output_type": "stream",
     "text": [
      "Epoch 1/10\n",
      "289/289 - 28s - loss: 0.9886 - accuracy: 0.5797 - val_loss: 0.8355 - val_accuracy: 0.6596 - 28s/epoch - 96ms/step\n",
      "Epoch 2/10\n",
      "289/289 - 20s - loss: 0.7960 - accuracy: 0.6761 - val_loss: 0.8184 - val_accuracy: 0.6596 - 20s/epoch - 71ms/step\n",
      "Epoch 3/10\n",
      "289/289 - 20s - loss: 0.6877 - accuracy: 0.7257 - val_loss: 0.8788 - val_accuracy: 0.6809 - 20s/epoch - 70ms/step\n",
      "Epoch 4/10\n",
      "289/289 - 20s - loss: 0.6009 - accuracy: 0.7671 - val_loss: 0.8915 - val_accuracy: 0.6702 - 20s/epoch - 71ms/step\n",
      "Epoch 5/10\n",
      "289/289 - 20s - loss: 0.5248 - accuracy: 0.7970 - val_loss: 0.8897 - val_accuracy: 0.7021 - 20s/epoch - 71ms/step\n",
      "Epoch 6/10\n",
      "289/289 - 22s - loss: 0.4602 - accuracy: 0.8272 - val_loss: 0.9809 - val_accuracy: 0.6383 - 22s/epoch - 77ms/step\n",
      "Epoch 7/10\n",
      "289/289 - 21s - loss: 0.4070 - accuracy: 0.8495 - val_loss: 1.1301 - val_accuracy: 0.6702 - 21s/epoch - 72ms/step\n",
      "Epoch 8/10\n",
      "289/289 - 21s - loss: 0.3662 - accuracy: 0.8639 - val_loss: 1.0599 - val_accuracy: 0.6809 - 21s/epoch - 74ms/step\n",
      "Epoch 9/10\n",
      "289/289 - 21s - loss: 0.3263 - accuracy: 0.8806 - val_loss: 1.0453 - val_accuracy: 0.6383 - 21s/epoch - 73ms/step\n",
      "Epoch 10/10\n",
      "289/289 - 21s - loss: 0.2981 - accuracy: 0.8921 - val_loss: 1.1847 - val_accuracy: 0.6277 - 21s/epoch - 73ms/step\n"
     ]
    },
    {
     "data": {
      "text/plain": [
       "<keras.callbacks.History at 0x7f86b20ae250>"
      ]
     },
     "execution_count": 91,
     "metadata": {},
     "output_type": "execute_result"
    }
   ],
   "source": [
    "batch_size = 32\n",
    "model.fit(X_train, y_train, epochs=10, batch_size=batch_size, verbose=2, validation_data=[X_test, y_test], workers=cores-1, use_multiprocessing=True)"
   ]
  },
  {
   "cell_type": "code",
   "execution_count": 73,
   "id": "a6841c9e-7ca6-4c6e-98d5-ec6363ee67f6",
   "metadata": {},
   "outputs": [
    {
     "data": {
      "text/plain": [
       "(94, 150, 100)"
      ]
     },
     "execution_count": 73,
     "metadata": {},
     "output_type": "execute_result"
    }
   ],
   "source": [
    "X_test.shape"
   ]
  },
  {
   "cell_type": "code",
   "execution_count": 75,
   "id": "dfd2f060-55f9-4afd-9511-3a48786265ba",
   "metadata": {},
   "outputs": [
    {
     "data": {
      "text/plain": [
       "(150, 100)"
      ]
     },
     "execution_count": 75,
     "metadata": {},
     "output_type": "execute_result"
    }
   ],
   "source": [
    "X_test[0].shape"
   ]
  },
  {
   "cell_type": "code",
   "execution_count": 74,
   "id": "27afafb2-4028-464e-afc1-90781c0c2558",
   "metadata": {},
   "outputs": [
    {
     "data": {
      "text/plain": [
       "(1, 150, 100)"
      ]
     },
     "execution_count": 74,
     "metadata": {},
     "output_type": "execute_result"
    }
   ],
   "source": [
    "X_test[0].reshape(-1,150,100).shape"
   ]
  },
  {
   "cell_type": "code",
   "execution_count": 88,
   "id": "558f6dae-bb48-4662-8453-7a197a0b128f",
   "metadata": {},
   "outputs": [
    {
     "data": {
      "text/plain": [
       "array([[0.0574584 , 0.5808795 , 0.16496773, 0.19669436]], dtype=float32)"
      ]
     },
     "execution_count": 88,
     "metadata": {},
     "output_type": "execute_result"
    }
   ],
   "source": [
    "model.predict([X_test[0].reshape(-1, 150, 100)])"
   ]
  },
  {
   "cell_type": "code",
   "execution_count": null,
   "id": "ad6b681d-d135-4f82-bb69-ee9fedd65f86",
   "metadata": {},
   "outputs": [],
   "source": []
  },
  {
   "cell_type": "code",
   "execution_count": null,
   "id": "6870faad-ecb7-46d6-af5a-705af5351e7d",
   "metadata": {},
   "outputs": [],
   "source": []
  },
  {
   "cell_type": "code",
   "execution_count": null,
   "id": "bb1e2c10-52c6-4009-9b6f-9cf118fb2038",
   "metadata": {},
   "outputs": [],
   "source": []
  },
  {
   "cell_type": "code",
   "execution_count": null,
   "id": "b2e34245-c7b0-445c-82fa-88359792b15c",
   "metadata": {},
   "outputs": [],
   "source": []
  },
  {
   "cell_type": "code",
   "execution_count": 92,
   "id": "02bd348c-9480-4c8b-b6ff-485fb998d5f0",
   "metadata": {},
   "outputs": [
    {
     "name": "stderr",
     "output_type": "stream",
     "text": [
      "WARNING:absl:Found untraced functions such as lstm_cell_13_layer_call_fn, lstm_cell_13_layer_call_and_return_conditional_losses, lstm_cell_14_layer_call_fn, lstm_cell_14_layer_call_and_return_conditional_losses, lstm_cell_16_layer_call_fn while saving (showing 5 of 20). These functions will not be directly callable after loading.\n"
     ]
    },
    {
     "name": "stdout",
     "output_type": "stream",
     "text": [
      "INFO:tensorflow:Assets written to: model-assets/model-3-10-epochs.bin/assets\n"
     ]
    },
    {
     "name": "stderr",
     "output_type": "stream",
     "text": [
      "INFO:tensorflow:Assets written to: model-assets/model-3-10-epochs.bin/assets\n",
      "WARNING:absl:<keras.layers.recurrent.LSTMCell object at 0x7f8697f9b730> has the same name 'LSTMCell' as a built-in Keras object. Consider renaming <class 'keras.layers.recurrent.LSTMCell'> to avoid naming conflicts when loading with `tf.keras.models.load_model`. If renaming is not possible, pass the object in the `custom_objects` parameter of the load function.\n",
      "WARNING:absl:<keras.layers.recurrent.LSTMCell object at 0x7f8673028310> has the same name 'LSTMCell' as a built-in Keras object. Consider renaming <class 'keras.layers.recurrent.LSTMCell'> to avoid naming conflicts when loading with `tf.keras.models.load_model`. If renaming is not possible, pass the object in the `custom_objects` parameter of the load function.\n",
      "WARNING:absl:<keras.layers.recurrent.LSTMCell object at 0x7f8671197040> has the same name 'LSTMCell' as a built-in Keras object. Consider renaming <class 'keras.layers.recurrent.LSTMCell'> to avoid naming conflicts when loading with `tf.keras.models.load_model`. If renaming is not possible, pass the object in the `custom_objects` parameter of the load function.\n",
      "WARNING:absl:<keras.layers.recurrent.LSTMCell object at 0x7f86acfa5160> has the same name 'LSTMCell' as a built-in Keras object. Consider renaming <class 'keras.layers.recurrent.LSTMCell'> to avoid naming conflicts when loading with `tf.keras.models.load_model`. If renaming is not possible, pass the object in the `custom_objects` parameter of the load function.\n"
     ]
    }
   ],
   "source": [
    "model.save('model-assets/model-3-10-epochs.bin')"
   ]
  },
  {
   "cell_type": "code",
   "execution_count": 168,
   "id": "4e365a5a-19a2-4d86-9834-bd3afd33ac71",
   "metadata": {},
   "outputs": [],
   "source": [
    "new = keras.models.load_model('model-assets/model-1-10-epochs.bin')"
   ]
  },
  {
   "cell_type": "code",
   "execution_count": null,
   "id": "78469c9f-dfc1-4998-a874-f85f4f84d93c",
   "metadata": {},
   "outputs": [],
   "source": []
  }
 ],
 "metadata": {
  "kernelspec": {
   "display_name": "Python 3 (ipykernel)",
   "language": "python",
   "name": "python3"
  },
  "language_info": {
   "codemirror_mode": {
    "name": "ipython",
    "version": 3
   },
   "file_extension": ".py",
   "mimetype": "text/x-python",
   "name": "python",
   "nbconvert_exporter": "python",
   "pygments_lexer": "ipython3",
   "version": "3.9.7"
  }
 },
 "nbformat": 4,
 "nbformat_minor": 5
}
