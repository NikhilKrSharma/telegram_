{
 "cells": [
  {
   "cell_type": "code",
   "execution_count": 1,
   "metadata": {},
   "outputs": [],
   "source": [
    "# Tokenize the data\n",
    "# remove punctuations\n",
    "# remove numbers"
   ]
  },
  {
   "cell_type": "code",
   "execution_count": 59,
   "metadata": {},
   "outputs": [],
   "source": [
    "import pandas as pd\n",
    "import numpy as np\n",
    "import time\n",
    "import os\n",
    "import random\n",
    "import gensim\n",
    "import multiprocessing\n",
    "from sklearn.decomposition import PCA\n",
    "from matplotlib import pyplot as plt\n",
    "from gensim.models import Word2Vec"
   ]
  },
  {
   "cell_type": "code",
   "execution_count": 53,
   "metadata": {},
   "outputs": [
    {
     "data": {
      "text/plain": [
       "12"
      ]
     },
     "execution_count": 53,
     "metadata": {},
     "output_type": "execute_result"
    }
   ],
   "source": [
    "cores = multiprocessing.cpu_count()\n",
    "cores"
   ]
  },
  {
   "cell_type": "code",
   "execution_count": 54,
   "metadata": {},
   "outputs": [
    {
     "data": {
      "text/plain": [
       "['CryptoRobinhooders_chat_data_clean__.xlsx',\n",
       " 'Satoshi_club_chat_data_clean__.xlsx',\n",
       " 'combined-super-clean-data.xlsx',\n",
       " 'telegram_data_8th_NOV.csv',\n",
       " 'telegram-clean-data.xlsx',\n",
       " '.ipynb_checkpoints',\n",
       " 'desktop.ini']"
      ]
     },
     "execution_count": 54,
     "metadata": {},
     "output_type": "execute_result"
    }
   ],
   "source": [
    "os.listdir(os.path.join(os.getcwd(), 'data-labeled'))"
   ]
  },
  {
   "cell_type": "code",
   "execution_count": 55,
   "metadata": {},
   "outputs": [],
   "source": [
    "df = pd.read_excel('data-labeled/combined-super-clean-data.xlsx')"
   ]
  },
  {
   "cell_type": "code",
   "execution_count": 56,
   "metadata": {},
   "outputs": [
    {
     "data": {
      "text/html": [
       "<div>\n",
       "<style scoped>\n",
       "    .dataframe tbody tr th:only-of-type {\n",
       "        vertical-align: middle;\n",
       "    }\n",
       "\n",
       "    .dataframe tbody tr th {\n",
       "        vertical-align: top;\n",
       "    }\n",
       "\n",
       "    .dataframe thead th {\n",
       "        text-align: right;\n",
       "    }\n",
       "</style>\n",
       "<table border=\"1\" class=\"dataframe\">\n",
       "  <thead>\n",
       "    <tr style=\"text-align: right;\">\n",
       "      <th></th>\n",
       "      <th>raw_data</th>\n",
       "      <th>clean</th>\n",
       "      <th>label</th>\n",
       "    </tr>\n",
       "  </thead>\n",
       "  <tbody>\n",
       "    <tr>\n",
       "      <th>11868</th>\n",
       "      <td>Most of users are still not aware with Blockch...</td>\n",
       "      <td>most of users are still not aware with blockch...</td>\n",
       "      <td>other</td>\n",
       "    </tr>\n",
       "    <tr>\n",
       "      <th>11869</th>\n",
       "      <td>What are the attractive features in your proje...</td>\n",
       "      <td>what are the attractive features in your proje...</td>\n",
       "      <td>other</td>\n",
       "    </tr>\n",
       "  </tbody>\n",
       "</table>\n",
       "</div>"
      ],
      "text/plain": [
       "                                                raw_data  \\\n",
       "11868  Most of users are still not aware with Blockch...   \n",
       "11869  What are the attractive features in your proje...   \n",
       "\n",
       "                                                   clean  label  \n",
       "11868  most of users are still not aware with blockch...  other  \n",
       "11869  what are the attractive features in your proje...  other  "
      ]
     },
     "execution_count": 56,
     "metadata": {},
     "output_type": "execute_result"
    }
   ],
   "source": [
    "df.tail(2)"
   ]
  },
  {
   "cell_type": "markdown",
   "metadata": {
    "tags": []
   },
   "source": [
    "#### '!\"#$%&\\'()*+,-./:;<=>?@[\\\\]^_`{|}~'"
   ]
  },
  {
   "cell_type": "code",
   "execution_count": 36,
   "metadata": {},
   "outputs": [
    {
     "data": {
      "text/plain": [
       "('Guys is cross swap legit ? I see no communication there ?',\n",
       " 'guys is cross swap legit  i see no communication there ')"
      ]
     },
     "execution_count": 36,
     "metadata": {},
     "output_type": "execute_result"
    }
   ],
   "source": [
    "rand = random.randint(0, 11926)\n",
    "df.loc[rand, 'raw_data'], df.loc[rand, 'clean']"
   ]
  },
  {
   "cell_type": "code",
   "execution_count": 64,
   "metadata": {},
   "outputs": [
    {
     "data": {
      "text/html": [
       "<div>\n",
       "<style scoped>\n",
       "    .dataframe tbody tr th:only-of-type {\n",
       "        vertical-align: middle;\n",
       "    }\n",
       "\n",
       "    .dataframe tbody tr th {\n",
       "        vertical-align: top;\n",
       "    }\n",
       "\n",
       "    .dataframe thead th {\n",
       "        text-align: right;\n",
       "    }\n",
       "</style>\n",
       "<table border=\"1\" class=\"dataframe\">\n",
       "  <thead>\n",
       "    <tr style=\"text-align: right;\">\n",
       "      <th></th>\n",
       "      <th>raw_data</th>\n",
       "      <th>clean</th>\n",
       "      <th>label</th>\n",
       "      <th>split</th>\n",
       "    </tr>\n",
       "  </thead>\n",
       "  <tbody>\n",
       "    <tr>\n",
       "      <th>11865</th>\n",
       "      <td>Do you have an ambassador program available? I...</td>\n",
       "      <td>do you have an ambassador program available if...</td>\n",
       "      <td>other</td>\n",
       "      <td>[do, you, have, an, ambassador, program, avail...</td>\n",
       "    </tr>\n",
       "    <tr>\n",
       "      <th>11866</th>\n",
       "      <td>COVID 19 has slowed many economies around the ...</td>\n",
       "      <td>covid  has slowed many economies around the wo...</td>\n",
       "      <td>other</td>\n",
       "      <td>[covid, has, slowed, many, economies, around, ...</td>\n",
       "    </tr>\n",
       "    <tr>\n",
       "      <th>11867</th>\n",
       "      <td>Are you planning to promote your project in co...</td>\n",
       "      <td>are you planning to promote your project in co...</td>\n",
       "      <td>other</td>\n",
       "      <td>[are, you, planning, to, promote, your, projec...</td>\n",
       "    </tr>\n",
       "    <tr>\n",
       "      <th>11868</th>\n",
       "      <td>Most of users are still not aware with Blockch...</td>\n",
       "      <td>most of users are still not aware with blockch...</td>\n",
       "      <td>other</td>\n",
       "      <td>[most, of, users, are, still, not, aware, with...</td>\n",
       "    </tr>\n",
       "    <tr>\n",
       "      <th>11869</th>\n",
       "      <td>What are the attractive features in your proje...</td>\n",
       "      <td>what are the attractive features in your proje...</td>\n",
       "      <td>other</td>\n",
       "      <td>[what, are, the, attractive, features, in, you...</td>\n",
       "    </tr>\n",
       "  </tbody>\n",
       "</table>\n",
       "</div>"
      ],
      "text/plain": [
       "                                                raw_data  \\\n",
       "11865  Do you have an ambassador program available? I...   \n",
       "11866  COVID 19 has slowed many economies around the ...   \n",
       "11867  Are you planning to promote your project in co...   \n",
       "11868  Most of users are still not aware with Blockch...   \n",
       "11869  What are the attractive features in your proje...   \n",
       "\n",
       "                                                   clean  label  \\\n",
       "11865  do you have an ambassador program available if...  other   \n",
       "11866  covid  has slowed many economies around the wo...  other   \n",
       "11867  are you planning to promote your project in co...  other   \n",
       "11868  most of users are still not aware with blockch...  other   \n",
       "11869  what are the attractive features in your proje...  other   \n",
       "\n",
       "                                                   split  \n",
       "11865  [do, you, have, an, ambassador, program, avail...  \n",
       "11866  [covid, has, slowed, many, economies, around, ...  \n",
       "11867  [are, you, planning, to, promote, your, projec...  \n",
       "11868  [most, of, users, are, still, not, aware, with...  \n",
       "11869  [what, are, the, attractive, features, in, you...  "
      ]
     },
     "execution_count": 64,
     "metadata": {},
     "output_type": "execute_result"
    }
   ],
   "source": [
    "df['split'] = df['clean'].str.split()\n",
    "df.tail()"
   ]
  },
  {
   "cell_type": "code",
   "execution_count": 184,
   "metadata": {},
   "outputs": [
    {
     "name": "stdout",
     "output_type": "stream",
     "text": [
      "Total time taken:  295.9433481693268  seconds\n"
     ]
    }
   ],
   "source": [
    "t1 = time.time()\n",
    "no_of_epochs = 5000\n",
    "\n",
    "model = gensim.models.Word2Vec(\n",
    "    sentences=df['split'], \n",
    "    vector_size=100,\n",
    "    window=5, \n",
    "    min_count=3, \n",
    "    max_vocab_size=None, \n",
    "    seed=1, \n",
    "    workers=cores-1, \n",
    "    epochs=no_of_epochs, \n",
    "    batch_words=10000,\n",
    "    shrink_windows=True\n",
    ")\n",
    "\n",
    "# Saving the model for later use\n",
    "model.save(f'model-assets/word-to-vec-model-{str(no_of_epochs)}-epochs.bin')\n",
    "\n",
    "print('Total time taken: ', time.time() - t1, ' seconds')"
   ]
  },
  {
   "cell_type": "code",
   "execution_count": 172,
   "metadata": {},
   "outputs": [],
   "source": [
    "# Loading the saved gensim.models.word2vec.Word2Vec model\n",
    "\n",
    "# model2 = Word2Vec.load(f'model-assets/word-to-vec-model-{str(no_of_epochs)}-epochs.bin')"
   ]
  },
  {
   "cell_type": "code",
   "execution_count": 213,
   "metadata": {},
   "outputs": [
    {
     "name": "stdout",
     "output_type": "stream",
     "text": [
      ">>>  shop\n"
     ]
    },
    {
     "data": {
      "text/plain": [
       "[('delays', 0.3866698741912842),\n",
       " ('needs', 0.3258574903011322),\n",
       " ('proud', 0.325517475605011),\n",
       " ('format', 0.31522902846336365),\n",
       " ('reflections', 0.3101250231266022),\n",
       " ('waterfall', 0.3100389838218689),\n",
       " ('sphynx', 0.3076106011867523),\n",
       " ('started', 0.30560123920440674),\n",
       " ('region', 0.3024366796016693),\n",
       " ('ix', 0.3022557497024536)]"
      ]
     },
     "execution_count": 213,
     "metadata": {},
     "output_type": "execute_result"
    }
   ],
   "source": [
    "word = random.choice(model.wv.index_to_key)\n",
    "print('>>> ', word)\n",
    "model.wv.most_similar(word)"
   ]
  },
  {
   "cell_type": "code",
   "execution_count": null,
   "metadata": {},
   "outputs": [],
   "source": []
  },
  {
   "cell_type": "code",
   "execution_count": null,
   "metadata": {},
   "outputs": [
    {
     "data": {
      "text/plain": [
       "((10237, 300),\n",
       " array([[-0.19352786,  0.13082226, -1.2502435 , ..., -1.027847  ,\n",
       "          0.45892674, -2.2834935 ],\n",
       "        [ 0.9679163 ,  0.2710122 , -0.77182305, ...,  1.2150706 ,\n",
       "          2.7434988 , -0.82837826],\n",
       "        [ 0.9454165 ,  0.94251513, -2.4841201 , ...,  1.2761592 ,\n",
       "          0.60368425, -1.7130086 ],\n",
       "        ...,\n",
       "        [-0.14473581, -0.06989015, -0.08948798, ..., -0.45702127,\n",
       "          0.42149937,  0.13829957],\n",
       "        [-0.34807694, -0.16060251,  0.21657258, ..., -0.68468654,\n",
       "         -0.03492728,  0.7847276 ],\n",
       "        [ 0.21181831, -1.5025665 ,  0.11914018, ...,  0.5910685 ,\n",
       "         -0.48914686,  1.000466  ]], dtype=float32))"
      ]
     },
     "execution_count": 49,
     "metadata": {},
     "output_type": "execute_result"
    }
   ],
   "source": [
    "model.wv.vectors.shape, model.wv.vectors"
   ]
  },
  {
   "cell_type": "code",
   "execution_count": 50,
   "metadata": {},
   "outputs": [],
   "source": [
    "vectors = np.asarray(model.wv.vectors)\n",
    "labels = np.asarray(model.wv.index_to_key)"
   ]
  },
  {
   "cell_type": "code",
   "execution_count": null,
   "metadata": {},
   "outputs": [],
   "source": []
  },
  {
   "cell_type": "code",
   "execution_count": null,
   "metadata": {},
   "outputs": [],
   "source": []
  },
  {
   "cell_type": "code",
   "execution_count": null,
   "metadata": {},
   "outputs": [],
   "source": []
  },
  {
   "cell_type": "code",
   "execution_count": 51,
   "metadata": {},
   "outputs": [
    {
     "name": "stderr",
     "output_type": "stream",
     "text": [
      "/opt/miniconda3/envs/tele/lib/python3.9/site-packages/sklearn/manifold/_t_sne.py:780: FutureWarning: The default initialization in TSNE will change from 'random' to 'pca' in 1.2.\n",
      "  warnings.warn(\n",
      "/opt/miniconda3/envs/tele/lib/python3.9/site-packages/sklearn/manifold/_t_sne.py:790: FutureWarning: The default learning rate in TSNE will change from 200.0 to 'auto' in 1.2.\n",
      "  warnings.warn(\n"
     ]
    },
    {
     "data": {
      "text/html": [
       "        <script type=\"text/javascript\">\n",
       "        window.PlotlyConfig = {MathJaxConfig: 'local'};\n",
       "        if (window.MathJax) {MathJax.Hub.Config({SVG: {font: \"STIX-Web\"}});}\n",
       "        if (typeof require !== 'undefined') {\n",
       "        require.undef(\"plotly\");\n",
       "        requirejs.config({\n",
       "            paths: {\n",
       "                'plotly': ['https://cdn.plot.ly/plotly-2.6.3.min']\n",
       "            }\n",
       "        });\n",
       "        require(['plotly'], function(Plotly) {\n",
       "            window._Plotly = Plotly;\n",
       "        });\n",
       "        }\n",
       "        </script>\n",
       "        "
      ]
     },
     "metadata": {},
     "output_type": "display_data"
    },
    {
     "data": {
      "application/vnd.plotly.v1+json": {
       "config": {
        "linkText": "Export to plot.ly",
        "plotlyServerURL": "https://plot.ly",
        "showLink": false
       },
       "data": [
        {
         "mode": "text",
         "text": [
          "the",
          "to",
          "and",
          "you",
          "is",
          "of",
          "a",
          "in",
          "are",
          "for",
          "your",
          "on",
          "i",
          "bot",
          "will",
          "it",
          "bnb",
          "can",
          "<<<url>>>",
          "that",
          "how",
          "be",
          "this",
          "what",
          "have",
          "with",
          "private",
          "we",
          "there",
          "project",
          "not",
          "public",
          "<<<percentage>>>",
          "token",
          "about",
          "do",
          "welcome",
          "chat",
          "their",
          "users",
          "new",
          "by",
          "as",
          "community",
          "so",
          "market",
          "join",
          "or",
          "its",
          "shilling",
          "more",
          "from",
          "bots;",
          "any",
          "all",
          "team",
          "our",
          "they",
          "now",
          "at",
          "who",
          "nft",
          "make",
          "but",
          "<<<amount>>>",
          "us",
          "if",
          "solve",
          "doing",
          "here",
          "one",
          "was",
          "good",
          "get",
          "equation",
          "launch",
          "has",
          "people",
          "just",
          "platform",
          "crypto",
          "game",
          "me",
          "official",
          "tokens",
          "out",
          "buy",
          "polygon",
          "hey",
          "an",
          "price",
          "my",
          "also",
          "hours",
          "please",
          "projects",
          "like",
          "does",
          "guys",
          "which"
         ],
         "type": "scatter",
         "x": [
          38.72807312011719,
          -1.4909666776657104,
          -4.261316776275635,
          98.89764404296875,
          -47.584442138671875,
          -43.499786376953125,
          40.83669662475586,
          -21.233234405517578,
          -69.16720581054688,
          -39.52581787109375,
          58.57624053955078,
          -19.861156463623047,
          84.01924133300781,
          14.671100616455078,
          -68.57854461669922,
          61.7053108215332,
          -16.365110397338867,
          -88.37892150878906,
          85.67428588867188,
          16.15409278869629,
          7.371580123901367,
          -42.67164611816406,
          44.07450866699219,
          5.102199554443359,
          -82.04705047607422,
          -29.143056869506836,
          -6.394287109375,
          111.79387664794922,
          -132.5137481689453,
          19.347026824951172,
          -67.0191879272461,
          -27.286415100097656,
          37.84703063964844,
          27.764328002929688,
          5.383430480957031,
          -96.8253173828125,
          72.86785888671875,
          87.90434265136719,
          125.36309814453125,
          164.28106689453125,
          -128.8415985107422,
          -121.71925354003906,
          -21.7347469329834,
          -54.545345306396484,
          -16.110692977905273,
          -90.11952209472656,
          66.32044982910156,
          -12.352899551391602,
          47.85579299926758,
          -170.25978088378906,
          68.45928955078125,
          132.69789123535156,
          3.923373222351074,
          -7.363439559936523,
          102.31306457519531,
          -130.11480712890625,
          181.95980834960938,
          126.59156799316406,
          28.94040870666504,
          -41.380897521972656,
          -197.88804626464844,
          -12.099332809448242,
          -174.72393798828125,
          29.21461296081543,
          43.69386672973633,
          -57.10207748413086,
          16.71312713623047,
          120.64037322998047,
          -36.84290313720703,
          88.5709228515625,
          -93.74175262451172,
          -51.46469497680664,
          -18.276378631591797,
          -56.69346618652344,
          104.52949523925781,
          21.0461368560791,
          167.96897888183594,
          160.48114013671875,
          71.09330749511719,
          -92.22105407714844,
          124.31278991699219,
          105.07099151611328,
          80.50589752197266,
          76.2719955444336,
          100.92748260498047,
          -152.13890075683594,
          196.61087036132812,
          120.97541046142578,
          35.31450653076172,
          46.64531326293945,
          166.9732208251953,
          -74.87983703613281,
          143.966064453125,
          -147.5160369873047,
          -84.63346862792969,
          58.954280853271484,
          59.97239685058594,
          -111.37613677978516,
          74.9171371459961,
          -56.04783630371094
         ],
         "y": [
          -9.659099578857422,
          -1.5251446962356567,
          -20.581748962402344,
          -20.43992805480957,
          25.90627098083496,
          -14.98539924621582,
          -30.326154708862305,
          -7.5430216789245605,
          21.646337509155273,
          4.83139705657959,
          -16.993356704711914,
          12.406259536743164,
          -5.550497055053711,
          85.37301635742188,
          -5.9273505210876465,
          6.354891300201416,
          -84.43102264404297,
          -6.45811128616333,
          113.85604095458984,
          -18.247323989868164,
          50.220306396484375,
          -56.74162292480469,
          11.468315124511719,
          23.484390258789062,
          47.77165985107422,
          -29.676225662231445,
          -102.65940856933594,
          -3.530273199081421,
          -61.48228454589844,
          5.836038112640381,
          -38.9976806640625,
          -102.73444366455078,
          124.75567626953125,
          31.1440372467041,
          -65.27257537841797,
          20.628511428833008,
          134.56100463867188,
          88.46450805664062,
          53.66086196899414,
          -85.83635711669922,
          14.036746978759766,
          55.183555603027344,
          60.055023193359375,
          83.050048828125,
          36.227787017822266,
          -98.99949645996094,
          106.42615509033203,
          -46.28653335571289,
          47.20185470581055,
          45.76648712158203,
          -111.46099090576172,
          -128.50299072265625,
          118.05903625488281,
          164.2466583251953,
          30.993885040283203,
          -113.0460433959961,
          -4.177370071411133,
          -21.894309997558594,
          -121.56299591064453,
          121.1413803100586,
          -6.1541008949279785,
          -144.6282958984375,
          -75.60831451416016,
          -82.30158233642578,
          78.0891342163086,
          171.5884552001953,
          -42.19664764404297,
          160.1748809814453,
          -187.12100219726562,
          -60.43019485473633,
          85.72537994384766,
          48.49769592285156,
          91.33758544921875,
          -76.42431640625,
          134.55462646484375,
          -183.86322021484375,
          70.98121643066406,
          -41.89577865600586,
          28.833175659179688,
          -60.95456314086914,
          -61.431732177734375,
          -96.54437255859375,
          57.0789909362793,
          168.76011657714844,
          -162.95106506347656,
          -19.12442398071289,
          38.06366729736328,
          100.8197021484375,
          189.22938537597656,
          -52.685211181640625,
          118.19560241699219,
          -152.54127502441406,
          18.78911781311035,
          113.3899917602539,
          124.72879028320312,
          -152.7790069580078,
          -80.20841979980469,
          -25.903945922851562,
          -42.32304382324219,
          -120.31859588623047
         ]
        }
       ],
       "layout": {
        "autosize": true,
        "template": {
         "data": {
          "bar": [
           {
            "error_x": {
             "color": "#2a3f5f"
            },
            "error_y": {
             "color": "#2a3f5f"
            },
            "marker": {
             "line": {
              "color": "#E5ECF6",
              "width": 0.5
             },
             "pattern": {
              "fillmode": "overlay",
              "size": 10,
              "solidity": 0.2
             }
            },
            "type": "bar"
           }
          ],
          "barpolar": [
           {
            "marker": {
             "line": {
              "color": "#E5ECF6",
              "width": 0.5
             },
             "pattern": {
              "fillmode": "overlay",
              "size": 10,
              "solidity": 0.2
             }
            },
            "type": "barpolar"
           }
          ],
          "carpet": [
           {
            "aaxis": {
             "endlinecolor": "#2a3f5f",
             "gridcolor": "white",
             "linecolor": "white",
             "minorgridcolor": "white",
             "startlinecolor": "#2a3f5f"
            },
            "baxis": {
             "endlinecolor": "#2a3f5f",
             "gridcolor": "white",
             "linecolor": "white",
             "minorgridcolor": "white",
             "startlinecolor": "#2a3f5f"
            },
            "type": "carpet"
           }
          ],
          "choropleth": [
           {
            "colorbar": {
             "outlinewidth": 0,
             "ticks": ""
            },
            "type": "choropleth"
           }
          ],
          "contour": [
           {
            "colorbar": {
             "outlinewidth": 0,
             "ticks": ""
            },
            "colorscale": [
             [
              0,
              "#0d0887"
             ],
             [
              0.1111111111111111,
              "#46039f"
             ],
             [
              0.2222222222222222,
              "#7201a8"
             ],
             [
              0.3333333333333333,
              "#9c179e"
             ],
             [
              0.4444444444444444,
              "#bd3786"
             ],
             [
              0.5555555555555556,
              "#d8576b"
             ],
             [
              0.6666666666666666,
              "#ed7953"
             ],
             [
              0.7777777777777778,
              "#fb9f3a"
             ],
             [
              0.8888888888888888,
              "#fdca26"
             ],
             [
              1,
              "#f0f921"
             ]
            ],
            "type": "contour"
           }
          ],
          "contourcarpet": [
           {
            "colorbar": {
             "outlinewidth": 0,
             "ticks": ""
            },
            "type": "contourcarpet"
           }
          ],
          "heatmap": [
           {
            "colorbar": {
             "outlinewidth": 0,
             "ticks": ""
            },
            "colorscale": [
             [
              0,
              "#0d0887"
             ],
             [
              0.1111111111111111,
              "#46039f"
             ],
             [
              0.2222222222222222,
              "#7201a8"
             ],
             [
              0.3333333333333333,
              "#9c179e"
             ],
             [
              0.4444444444444444,
              "#bd3786"
             ],
             [
              0.5555555555555556,
              "#d8576b"
             ],
             [
              0.6666666666666666,
              "#ed7953"
             ],
             [
              0.7777777777777778,
              "#fb9f3a"
             ],
             [
              0.8888888888888888,
              "#fdca26"
             ],
             [
              1,
              "#f0f921"
             ]
            ],
            "type": "heatmap"
           }
          ],
          "heatmapgl": [
           {
            "colorbar": {
             "outlinewidth": 0,
             "ticks": ""
            },
            "colorscale": [
             [
              0,
              "#0d0887"
             ],
             [
              0.1111111111111111,
              "#46039f"
             ],
             [
              0.2222222222222222,
              "#7201a8"
             ],
             [
              0.3333333333333333,
              "#9c179e"
             ],
             [
              0.4444444444444444,
              "#bd3786"
             ],
             [
              0.5555555555555556,
              "#d8576b"
             ],
             [
              0.6666666666666666,
              "#ed7953"
             ],
             [
              0.7777777777777778,
              "#fb9f3a"
             ],
             [
              0.8888888888888888,
              "#fdca26"
             ],
             [
              1,
              "#f0f921"
             ]
            ],
            "type": "heatmapgl"
           }
          ],
          "histogram": [
           {
            "marker": {
             "pattern": {
              "fillmode": "overlay",
              "size": 10,
              "solidity": 0.2
             }
            },
            "type": "histogram"
           }
          ],
          "histogram2d": [
           {
            "colorbar": {
             "outlinewidth": 0,
             "ticks": ""
            },
            "colorscale": [
             [
              0,
              "#0d0887"
             ],
             [
              0.1111111111111111,
              "#46039f"
             ],
             [
              0.2222222222222222,
              "#7201a8"
             ],
             [
              0.3333333333333333,
              "#9c179e"
             ],
             [
              0.4444444444444444,
              "#bd3786"
             ],
             [
              0.5555555555555556,
              "#d8576b"
             ],
             [
              0.6666666666666666,
              "#ed7953"
             ],
             [
              0.7777777777777778,
              "#fb9f3a"
             ],
             [
              0.8888888888888888,
              "#fdca26"
             ],
             [
              1,
              "#f0f921"
             ]
            ],
            "type": "histogram2d"
           }
          ],
          "histogram2dcontour": [
           {
            "colorbar": {
             "outlinewidth": 0,
             "ticks": ""
            },
            "colorscale": [
             [
              0,
              "#0d0887"
             ],
             [
              0.1111111111111111,
              "#46039f"
             ],
             [
              0.2222222222222222,
              "#7201a8"
             ],
             [
              0.3333333333333333,
              "#9c179e"
             ],
             [
              0.4444444444444444,
              "#bd3786"
             ],
             [
              0.5555555555555556,
              "#d8576b"
             ],
             [
              0.6666666666666666,
              "#ed7953"
             ],
             [
              0.7777777777777778,
              "#fb9f3a"
             ],
             [
              0.8888888888888888,
              "#fdca26"
             ],
             [
              1,
              "#f0f921"
             ]
            ],
            "type": "histogram2dcontour"
           }
          ],
          "mesh3d": [
           {
            "colorbar": {
             "outlinewidth": 0,
             "ticks": ""
            },
            "type": "mesh3d"
           }
          ],
          "parcoords": [
           {
            "line": {
             "colorbar": {
              "outlinewidth": 0,
              "ticks": ""
             }
            },
            "type": "parcoords"
           }
          ],
          "pie": [
           {
            "automargin": true,
            "type": "pie"
           }
          ],
          "scatter": [
           {
            "marker": {
             "colorbar": {
              "outlinewidth": 0,
              "ticks": ""
             }
            },
            "type": "scatter"
           }
          ],
          "scatter3d": [
           {
            "line": {
             "colorbar": {
              "outlinewidth": 0,
              "ticks": ""
             }
            },
            "marker": {
             "colorbar": {
              "outlinewidth": 0,
              "ticks": ""
             }
            },
            "type": "scatter3d"
           }
          ],
          "scattercarpet": [
           {
            "marker": {
             "colorbar": {
              "outlinewidth": 0,
              "ticks": ""
             }
            },
            "type": "scattercarpet"
           }
          ],
          "scattergeo": [
           {
            "marker": {
             "colorbar": {
              "outlinewidth": 0,
              "ticks": ""
             }
            },
            "type": "scattergeo"
           }
          ],
          "scattergl": [
           {
            "marker": {
             "colorbar": {
              "outlinewidth": 0,
              "ticks": ""
             }
            },
            "type": "scattergl"
           }
          ],
          "scattermapbox": [
           {
            "marker": {
             "colorbar": {
              "outlinewidth": 0,
              "ticks": ""
             }
            },
            "type": "scattermapbox"
           }
          ],
          "scatterpolar": [
           {
            "marker": {
             "colorbar": {
              "outlinewidth": 0,
              "ticks": ""
             }
            },
            "type": "scatterpolar"
           }
          ],
          "scatterpolargl": [
           {
            "marker": {
             "colorbar": {
              "outlinewidth": 0,
              "ticks": ""
             }
            },
            "type": "scatterpolargl"
           }
          ],
          "scatterternary": [
           {
            "marker": {
             "colorbar": {
              "outlinewidth": 0,
              "ticks": ""
             }
            },
            "type": "scatterternary"
           }
          ],
          "surface": [
           {
            "colorbar": {
             "outlinewidth": 0,
             "ticks": ""
            },
            "colorscale": [
             [
              0,
              "#0d0887"
             ],
             [
              0.1111111111111111,
              "#46039f"
             ],
             [
              0.2222222222222222,
              "#7201a8"
             ],
             [
              0.3333333333333333,
              "#9c179e"
             ],
             [
              0.4444444444444444,
              "#bd3786"
             ],
             [
              0.5555555555555556,
              "#d8576b"
             ],
             [
              0.6666666666666666,
              "#ed7953"
             ],
             [
              0.7777777777777778,
              "#fb9f3a"
             ],
             [
              0.8888888888888888,
              "#fdca26"
             ],
             [
              1,
              "#f0f921"
             ]
            ],
            "type": "surface"
           }
          ],
          "table": [
           {
            "cells": {
             "fill": {
              "color": "#EBF0F8"
             },
             "line": {
              "color": "white"
             }
            },
            "header": {
             "fill": {
              "color": "#C8D4E3"
             },
             "line": {
              "color": "white"
             }
            },
            "type": "table"
           }
          ]
         },
         "layout": {
          "annotationdefaults": {
           "arrowcolor": "#2a3f5f",
           "arrowhead": 0,
           "arrowwidth": 1
          },
          "autotypenumbers": "strict",
          "coloraxis": {
           "colorbar": {
            "outlinewidth": 0,
            "ticks": ""
           }
          },
          "colorscale": {
           "diverging": [
            [
             0,
             "#8e0152"
            ],
            [
             0.1,
             "#c51b7d"
            ],
            [
             0.2,
             "#de77ae"
            ],
            [
             0.3,
             "#f1b6da"
            ],
            [
             0.4,
             "#fde0ef"
            ],
            [
             0.5,
             "#f7f7f7"
            ],
            [
             0.6,
             "#e6f5d0"
            ],
            [
             0.7,
             "#b8e186"
            ],
            [
             0.8,
             "#7fbc41"
            ],
            [
             0.9,
             "#4d9221"
            ],
            [
             1,
             "#276419"
            ]
           ],
           "sequential": [
            [
             0,
             "#0d0887"
            ],
            [
             0.1111111111111111,
             "#46039f"
            ],
            [
             0.2222222222222222,
             "#7201a8"
            ],
            [
             0.3333333333333333,
             "#9c179e"
            ],
            [
             0.4444444444444444,
             "#bd3786"
            ],
            [
             0.5555555555555556,
             "#d8576b"
            ],
            [
             0.6666666666666666,
             "#ed7953"
            ],
            [
             0.7777777777777778,
             "#fb9f3a"
            ],
            [
             0.8888888888888888,
             "#fdca26"
            ],
            [
             1,
             "#f0f921"
            ]
           ],
           "sequentialminus": [
            [
             0,
             "#0d0887"
            ],
            [
             0.1111111111111111,
             "#46039f"
            ],
            [
             0.2222222222222222,
             "#7201a8"
            ],
            [
             0.3333333333333333,
             "#9c179e"
            ],
            [
             0.4444444444444444,
             "#bd3786"
            ],
            [
             0.5555555555555556,
             "#d8576b"
            ],
            [
             0.6666666666666666,
             "#ed7953"
            ],
            [
             0.7777777777777778,
             "#fb9f3a"
            ],
            [
             0.8888888888888888,
             "#fdca26"
            ],
            [
             1,
             "#f0f921"
            ]
           ]
          },
          "colorway": [
           "#636efa",
           "#EF553B",
           "#00cc96",
           "#ab63fa",
           "#FFA15A",
           "#19d3f3",
           "#FF6692",
           "#B6E880",
           "#FF97FF",
           "#FECB52"
          ],
          "font": {
           "color": "#2a3f5f"
          },
          "geo": {
           "bgcolor": "white",
           "lakecolor": "white",
           "landcolor": "#E5ECF6",
           "showlakes": true,
           "showland": true,
           "subunitcolor": "white"
          },
          "hoverlabel": {
           "align": "left"
          },
          "hovermode": "closest",
          "mapbox": {
           "style": "light"
          },
          "paper_bgcolor": "white",
          "plot_bgcolor": "#E5ECF6",
          "polar": {
           "angularaxis": {
            "gridcolor": "white",
            "linecolor": "white",
            "ticks": ""
           },
           "bgcolor": "#E5ECF6",
           "radialaxis": {
            "gridcolor": "white",
            "linecolor": "white",
            "ticks": ""
           }
          },
          "scene": {
           "xaxis": {
            "backgroundcolor": "#E5ECF6",
            "gridcolor": "white",
            "gridwidth": 2,
            "linecolor": "white",
            "showbackground": true,
            "ticks": "",
            "zerolinecolor": "white"
           },
           "yaxis": {
            "backgroundcolor": "#E5ECF6",
            "gridcolor": "white",
            "gridwidth": 2,
            "linecolor": "white",
            "showbackground": true,
            "ticks": "",
            "zerolinecolor": "white"
           },
           "zaxis": {
            "backgroundcolor": "#E5ECF6",
            "gridcolor": "white",
            "gridwidth": 2,
            "linecolor": "white",
            "showbackground": true,
            "ticks": "",
            "zerolinecolor": "white"
           }
          },
          "shapedefaults": {
           "line": {
            "color": "#2a3f5f"
           }
          },
          "ternary": {
           "aaxis": {
            "gridcolor": "white",
            "linecolor": "white",
            "ticks": ""
           },
           "baxis": {
            "gridcolor": "white",
            "linecolor": "white",
            "ticks": ""
           },
           "bgcolor": "#E5ECF6",
           "caxis": {
            "gridcolor": "white",
            "linecolor": "white",
            "ticks": ""
           }
          },
          "title": {
           "x": 0.05
          },
          "xaxis": {
           "automargin": true,
           "gridcolor": "white",
           "linecolor": "white",
           "ticks": "",
           "title": {
            "standoff": 15
           },
           "zerolinecolor": "white",
           "zerolinewidth": 2
          },
          "yaxis": {
           "automargin": true,
           "gridcolor": "white",
           "linecolor": "white",
           "ticks": "",
           "title": {
            "standoff": 15
           },
           "zerolinecolor": "white",
           "zerolinewidth": 2
          }
         }
        },
        "xaxis": {
         "autorange": true,
         "range": [
          -219.80465274386935,
          218.52747684054904
         ],
         "type": "linear"
        },
        "yaxis": {
         "autorange": true,
         "range": [
          -208.02935706244574,
          210.13774024115668
         ],
         "type": "linear"
        }
       }
      },
      "image/png": "[encoded data removed]",
      "text/html": [
       "<div>                            <div id=\"6f439b2c-f310-4e02-b192-0f87957e7f27\" class=\"plotly-graph-div\" style=\"height:525px; width:100%;\"></div>            <script type=\"text/javascript\">                require([\"plotly\"], function(Plotly) {                    window.PLOTLYENV=window.PLOTLYENV || {};                                    if (document.getElementById(\"6f439b2c-f310-4e02-b192-0f87957e7f27\")) {                    Plotly.newPlot(                        \"6f439b2c-f310-4e02-b192-0f87957e7f27\",                        [{\"mode\":\"text\",\"text\":[\"the\",\"to\",\"and\",\"you\",\"is\",\"of\",\"a\",\"in\",\"are\",\"for\",\"your\",\"on\",\"i\",\"bot\",\"will\",\"it\",\"bnb\",\"can\",\"<<<url>>>\",\"that\",\"how\",\"be\",\"this\",\"what\",\"have\",\"with\",\"private\",\"we\",\"there\",\"project\",\"not\",\"public\",\"<<<percentage>>>\",\"token\",\"about\",\"do\",\"welcome\",\"chat\",\"their\",\"users\",\"new\",\"by\",\"as\",\"community\",\"so\",\"market\",\"join\",\"or\",\"its\",\"shilling\",\"more\",\"from\",\"bots;\",\"any\",\"all\",\"team\",\"our\",\"they\",\"now\",\"at\",\"who\",\"nft\",\"make\",\"but\",\"<<<amount>>>\",\"us\",\"if\",\"solve\",\"doing\",\"here\",\"one\",\"was\",\"good\",\"get\",\"equation\",\"launch\",\"has\",\"people\",\"just\",\"platform\",\"crypto\",\"game\",\"me\",\"official\",\"tokens\",\"out\",\"buy\",\"polygon\",\"hey\",\"an\",\"price\",\"my\",\"also\",\"hours\",\"please\",\"projects\",\"like\",\"does\",\"guys\",\"which\"],\"x\":[38.72807312011719,-1.4909666776657104,-4.261316776275635,98.89764404296875,-47.584442138671875,-43.499786376953125,40.83669662475586,-21.233234405517578,-69.16720581054688,-39.52581787109375,58.57624053955078,-19.861156463623047,84.01924133300781,14.671100616455078,-68.57854461669922,61.7053108215332,-16.365110397338867,-88.37892150878906,85.67428588867188,16.15409278869629,7.371580123901367,-42.67164611816406,44.07450866699219,5.102199554443359,-82.04705047607422,-29.143056869506836,-6.394287109375,111.79387664794922,-132.5137481689453,19.347026824951172,-67.0191879272461,-27.286415100097656,37.84703063964844,27.764328002929688,5.383430480957031,-96.8253173828125,72.86785888671875,87.90434265136719,125.36309814453125,164.28106689453125,-128.8415985107422,-121.71925354003906,-21.7347469329834,-54.545345306396484,-16.110692977905273,-90.11952209472656,66.32044982910156,-12.352899551391602,47.85579299926758,-170.25978088378906,68.45928955078125,132.69789123535156,3.923373222351074,-7.363439559936523,102.31306457519531,-130.11480712890625,181.95980834960938,126.59156799316406,28.94040870666504,-41.380897521972656,-197.88804626464844,-12.099332809448242,-174.72393798828125,29.21461296081543,43.69386672973633,-57.10207748413086,16.71312713623047,120.64037322998047,-36.84290313720703,88.5709228515625,-93.74175262451172,-51.46469497680664,-18.276378631591797,-56.69346618652344,104.52949523925781,21.0461368560791,167.96897888183594,160.48114013671875,71.09330749511719,-92.22105407714844,124.31278991699219,105.07099151611328,80.50589752197266,76.2719955444336,100.92748260498047,-152.13890075683594,196.61087036132812,120.97541046142578,35.31450653076172,46.64531326293945,166.9732208251953,-74.87983703613281,143.966064453125,-147.5160369873047,-84.63346862792969,58.954280853271484,59.97239685058594,-111.37613677978516,74.9171371459961,-56.04783630371094],\"y\":[-9.659099578857422,-1.5251446962356567,-20.581748962402344,-20.43992805480957,25.90627098083496,-14.98539924621582,-30.326154708862305,-7.5430216789245605,21.646337509155273,4.83139705657959,-16.993356704711914,12.406259536743164,-5.550497055053711,85.37301635742188,-5.9273505210876465,6.354891300201416,-84.43102264404297,-6.45811128616333,113.85604095458984,-18.247323989868164,50.220306396484375,-56.74162292480469,11.468315124511719,23.484390258789062,47.77165985107422,-29.676225662231445,-102.65940856933594,-3.530273199081421,-61.48228454589844,5.836038112640381,-38.9976806640625,-102.73444366455078,124.75567626953125,31.1440372467041,-65.27257537841797,20.628511428833008,134.56100463867188,88.46450805664062,53.66086196899414,-85.83635711669922,14.036746978759766,55.183555603027344,60.055023193359375,83.050048828125,36.227787017822266,-98.99949645996094,106.42615509033203,-46.28653335571289,47.20185470581055,45.76648712158203,-111.46099090576172,-128.50299072265625,118.05903625488281,164.2466583251953,30.993885040283203,-113.0460433959961,-4.177370071411133,-21.894309997558594,-121.56299591064453,121.1413803100586,-6.1541008949279785,-144.6282958984375,-75.60831451416016,-82.30158233642578,78.0891342163086,171.5884552001953,-42.19664764404297,160.1748809814453,-187.12100219726562,-60.43019485473633,85.72537994384766,48.49769592285156,91.33758544921875,-76.42431640625,134.55462646484375,-183.86322021484375,70.98121643066406,-41.89577865600586,28.833175659179688,-60.95456314086914,-61.431732177734375,-96.54437255859375,57.0789909362793,168.76011657714844,-162.95106506347656,-19.12442398071289,38.06366729736328,100.8197021484375,189.22938537597656,-52.685211181640625,118.19560241699219,-152.54127502441406,18.78911781311035,113.3899917602539,124.72879028320312,-152.7790069580078,-80.20841979980469,-25.903945922851562,-42.32304382324219,-120.31859588623047],\"type\":\"scatter\"}],                        {\"template\":{\"data\":{\"barpolar\":[{\"marker\":{\"line\":{\"color\":\"#E5ECF6\",\"width\":0.5},\"pattern\":{\"fillmode\":\"overlay\",\"size\":10,\"solidity\":0.2}},\"type\":\"barpolar\"}],\"bar\":[{\"error_x\":{\"color\":\"#2a3f5f\"},\"error_y\":{\"color\":\"#2a3f5f\"},\"marker\":{\"line\":{\"color\":\"#E5ECF6\",\"width\":0.5},\"pattern\":{\"fillmode\":\"overlay\",\"size\":10,\"solidity\":0.2}},\"type\":\"bar\"}],\"carpet\":[{\"aaxis\":{\"endlinecolor\":\"#2a3f5f\",\"gridcolor\":\"white\",\"linecolor\":\"white\",\"minorgridcolor\":\"white\",\"startlinecolor\":\"#2a3f5f\"},\"baxis\":{\"endlinecolor\":\"#2a3f5f\",\"gridcolor\":\"white\",\"linecolor\":\"white\",\"minorgridcolor\":\"white\",\"startlinecolor\":\"#2a3f5f\"},\"type\":\"carpet\"}],\"choropleth\":[{\"colorbar\":{\"outlinewidth\":0,\"ticks\":\"\"},\"type\":\"choropleth\"}],\"contourcarpet\":[{\"colorbar\":{\"outlinewidth\":0,\"ticks\":\"\"},\"type\":\"contourcarpet\"}],\"contour\":[{\"colorbar\":{\"outlinewidth\":0,\"ticks\":\"\"},\"colorscale\":[[0.0,\"#0d0887\"],[0.1111111111111111,\"#46039f\"],[0.2222222222222222,\"#7201a8\"],[0.3333333333333333,\"#9c179e\"],[0.4444444444444444,\"#bd3786\"],[0.5555555555555556,\"#d8576b\"],[0.6666666666666666,\"#ed7953\"],[0.7777777777777778,\"#fb9f3a\"],[0.8888888888888888,\"#fdca26\"],[1.0,\"#f0f921\"]],\"type\":\"contour\"}],\"heatmapgl\":[{\"colorbar\":{\"outlinewidth\":0,\"ticks\":\"\"},\"colorscale\":[[0.0,\"#0d0887\"],[0.1111111111111111,\"#46039f\"],[0.2222222222222222,\"#7201a8\"],[0.3333333333333333,\"#9c179e\"],[0.4444444444444444,\"#bd3786\"],[0.5555555555555556,\"#d8576b\"],[0.6666666666666666,\"#ed7953\"],[0.7777777777777778,\"#fb9f3a\"],[0.8888888888888888,\"#fdca26\"],[1.0,\"#f0f921\"]],\"type\":\"heatmapgl\"}],\"heatmap\":[{\"colorbar\":{\"outlinewidth\":0,\"ticks\":\"\"},\"colorscale\":[[0.0,\"#0d0887\"],[0.1111111111111111,\"#46039f\"],[0.2222222222222222,\"#7201a8\"],[0.3333333333333333,\"#9c179e\"],[0.4444444444444444,\"#bd3786\"],[0.5555555555555556,\"#d8576b\"],[0.6666666666666666,\"#ed7953\"],[0.7777777777777778,\"#fb9f3a\"],[0.8888888888888888,\"#fdca26\"],[1.0,\"#f0f921\"]],\"type\":\"heatmap\"}],\"histogram2dcontour\":[{\"colorbar\":{\"outlinewidth\":0,\"ticks\":\"\"},\"colorscale\":[[0.0,\"#0d0887\"],[0.1111111111111111,\"#46039f\"],[0.2222222222222222,\"#7201a8\"],[0.3333333333333333,\"#9c179e\"],[0.4444444444444444,\"#bd3786\"],[0.5555555555555556,\"#d8576b\"],[0.6666666666666666,\"#ed7953\"],[0.7777777777777778,\"#fb9f3a\"],[0.8888888888888888,\"#fdca26\"],[1.0,\"#f0f921\"]],\"type\":\"histogram2dcontour\"}],\"histogram2d\":[{\"colorbar\":{\"outlinewidth\":0,\"ticks\":\"\"},\"colorscale\":[[0.0,\"#0d0887\"],[0.1111111111111111,\"#46039f\"],[0.2222222222222222,\"#7201a8\"],[0.3333333333333333,\"#9c179e\"],[0.4444444444444444,\"#bd3786\"],[0.5555555555555556,\"#d8576b\"],[0.6666666666666666,\"#ed7953\"],[0.7777777777777778,\"#fb9f3a\"],[0.8888888888888888,\"#fdca26\"],[1.0,\"#f0f921\"]],\"type\":\"histogram2d\"}],\"histogram\":[{\"marker\":{\"pattern\":{\"fillmode\":\"overlay\",\"size\":10,\"solidity\":0.2}},\"type\":\"histogram\"}],\"mesh3d\":[{\"colorbar\":{\"outlinewidth\":0,\"ticks\":\"\"},\"type\":\"mesh3d\"}],\"parcoords\":[{\"line\":{\"colorbar\":{\"outlinewidth\":0,\"ticks\":\"\"}},\"type\":\"parcoords\"}],\"pie\":[{\"automargin\":true,\"type\":\"pie\"}],\"scatter3d\":[{\"line\":{\"colorbar\":{\"outlinewidth\":0,\"ticks\":\"\"}},\"marker\":{\"colorbar\":{\"outlinewidth\":0,\"ticks\":\"\"}},\"type\":\"scatter3d\"}],\"scattercarpet\":[{\"marker\":{\"colorbar\":{\"outlinewidth\":0,\"ticks\":\"\"}},\"type\":\"scattercarpet\"}],\"scattergeo\":[{\"marker\":{\"colorbar\":{\"outlinewidth\":0,\"ticks\":\"\"}},\"type\":\"scattergeo\"}],\"scattergl\":[{\"marker\":{\"colorbar\":{\"outlinewidth\":0,\"ticks\":\"\"}},\"type\":\"scattergl\"}],\"scattermapbox\":[{\"marker\":{\"colorbar\":{\"outlinewidth\":0,\"ticks\":\"\"}},\"type\":\"scattermapbox\"}],\"scatterpolargl\":[{\"marker\":{\"colorbar\":{\"outlinewidth\":0,\"ticks\":\"\"}},\"type\":\"scatterpolargl\"}],\"scatterpolar\":[{\"marker\":{\"colorbar\":{\"outlinewidth\":0,\"ticks\":\"\"}},\"type\":\"scatterpolar\"}],\"scatter\":[{\"marker\":{\"colorbar\":{\"outlinewidth\":0,\"ticks\":\"\"}},\"type\":\"scatter\"}],\"scatterternary\":[{\"marker\":{\"colorbar\":{\"outlinewidth\":0,\"ticks\":\"\"}},\"type\":\"scatterternary\"}],\"surface\":[{\"colorbar\":{\"outlinewidth\":0,\"ticks\":\"\"},\"colorscale\":[[0.0,\"#0d0887\"],[0.1111111111111111,\"#46039f\"],[0.2222222222222222,\"#7201a8\"],[0.3333333333333333,\"#9c179e\"],[0.4444444444444444,\"#bd3786\"],[0.5555555555555556,\"#d8576b\"],[0.6666666666666666,\"#ed7953\"],[0.7777777777777778,\"#fb9f3a\"],[0.8888888888888888,\"#fdca26\"],[1.0,\"#f0f921\"]],\"type\":\"surface\"}],\"table\":[{\"cells\":{\"fill\":{\"color\":\"#EBF0F8\"},\"line\":{\"color\":\"white\"}},\"header\":{\"fill\":{\"color\":\"#C8D4E3\"},\"line\":{\"color\":\"white\"}},\"type\":\"table\"}]},\"layout\":{\"annotationdefaults\":{\"arrowcolor\":\"#2a3f5f\",\"arrowhead\":0,\"arrowwidth\":1},\"autotypenumbers\":\"strict\",\"coloraxis\":{\"colorbar\":{\"outlinewidth\":0,\"ticks\":\"\"}},\"colorscale\":{\"diverging\":[[0,\"#8e0152\"],[0.1,\"#c51b7d\"],[0.2,\"#de77ae\"],[0.3,\"#f1b6da\"],[0.4,\"#fde0ef\"],[0.5,\"#f7f7f7\"],[0.6,\"#e6f5d0\"],[0.7,\"#b8e186\"],[0.8,\"#7fbc41\"],[0.9,\"#4d9221\"],[1,\"#276419\"]],\"sequential\":[[0.0,\"#0d0887\"],[0.1111111111111111,\"#46039f\"],[0.2222222222222222,\"#7201a8\"],[0.3333333333333333,\"#9c179e\"],[0.4444444444444444,\"#bd3786\"],[0.5555555555555556,\"#d8576b\"],[0.6666666666666666,\"#ed7953\"],[0.7777777777777778,\"#fb9f3a\"],[0.8888888888888888,\"#fdca26\"],[1.0,\"#f0f921\"]],\"sequentialminus\":[[0.0,\"#0d0887\"],[0.1111111111111111,\"#46039f\"],[0.2222222222222222,\"#7201a8\"],[0.3333333333333333,\"#9c179e\"],[0.4444444444444444,\"#bd3786\"],[0.5555555555555556,\"#d8576b\"],[0.6666666666666666,\"#ed7953\"],[0.7777777777777778,\"#fb9f3a\"],[0.8888888888888888,\"#fdca26\"],[1.0,\"#f0f921\"]]},\"colorway\":[\"#636efa\",\"#EF553B\",\"#00cc96\",\"#ab63fa\",\"#FFA15A\",\"#19d3f3\",\"#FF6692\",\"#B6E880\",\"#FF97FF\",\"#FECB52\"],\"font\":{\"color\":\"#2a3f5f\"},\"geo\":{\"bgcolor\":\"white\",\"lakecolor\":\"white\",\"landcolor\":\"#E5ECF6\",\"showlakes\":true,\"showland\":true,\"subunitcolor\":\"white\"},\"hoverlabel\":{\"align\":\"left\"},\"hovermode\":\"closest\",\"mapbox\":{\"style\":\"light\"},\"paper_bgcolor\":\"white\",\"plot_bgcolor\":\"#E5ECF6\",\"polar\":{\"angularaxis\":{\"gridcolor\":\"white\",\"linecolor\":\"white\",\"ticks\":\"\"},\"bgcolor\":\"#E5ECF6\",\"radialaxis\":{\"gridcolor\":\"white\",\"linecolor\":\"white\",\"ticks\":\"\"}},\"scene\":{\"xaxis\":{\"backgroundcolor\":\"#E5ECF6\",\"gridcolor\":\"white\",\"gridwidth\":2,\"linecolor\":\"white\",\"showbackground\":true,\"ticks\":\"\",\"zerolinecolor\":\"white\"},\"yaxis\":{\"backgroundcolor\":\"#E5ECF6\",\"gridcolor\":\"white\",\"gridwidth\":2,\"linecolor\":\"white\",\"showbackground\":true,\"ticks\":\"\",\"zerolinecolor\":\"white\"},\"zaxis\":{\"backgroundcolor\":\"#E5ECF6\",\"gridcolor\":\"white\",\"gridwidth\":2,\"linecolor\":\"white\",\"showbackground\":true,\"ticks\":\"\",\"zerolinecolor\":\"white\"}},\"shapedefaults\":{\"line\":{\"color\":\"#2a3f5f\"}},\"ternary\":{\"aaxis\":{\"gridcolor\":\"white\",\"linecolor\":\"white\",\"ticks\":\"\"},\"baxis\":{\"gridcolor\":\"white\",\"linecolor\":\"white\",\"ticks\":\"\"},\"bgcolor\":\"#E5ECF6\",\"caxis\":{\"gridcolor\":\"white\",\"linecolor\":\"white\",\"ticks\":\"\"}},\"title\":{\"x\":0.05},\"xaxis\":{\"automargin\":true,\"gridcolor\":\"white\",\"linecolor\":\"white\",\"ticks\":\"\",\"title\":{\"standoff\":15},\"zerolinecolor\":\"white\",\"zerolinewidth\":2},\"yaxis\":{\"automargin\":true,\"gridcolor\":\"white\",\"linecolor\":\"white\",\"ticks\":\"\",\"title\":{\"standoff\":15},\"zerolinecolor\":\"white\",\"zerolinewidth\":2}}}},                        {\"responsive\": true}                    ).then(function(){\n",
       "                            \n",
       "var gd = document.getElementById('6f439b2c-f310-4e02-b192-0f87957e7f27');\n",
       "var x = new MutationObserver(function (mutations, observer) {{\n",
       "        var display = window.getComputedStyle(gd).display;\n",
       "        if (!display || display === 'none') {{\n",
       "            console.log([gd, 'removed!']);\n",
       "            Plotly.purge(gd);\n",
       "            observer.disconnect();\n",
       "        }}\n",
       "}});\n",
       "\n",
       "// Listen for the removal of the full notebook cells\n",
       "var notebookContainer = gd.closest('#notebook-container');\n",
       "if (notebookContainer) {{\n",
       "    x.observe(notebookContainer, {childList: true});\n",
       "}}\n",
       "\n",
       "// Listen for the clearing of the current output cell\n",
       "var outputEl = gd.closest('.output');\n",
       "if (outputEl) {{\n",
       "    x.observe(outputEl, {childList: true});\n",
       "}}\n",
       "\n",
       "                        })                };                });            </script>        </div>"
      ]
     },
     "metadata": {},
     "output_type": "display_data"
    }
   ],
   "source": [
    "from sklearn.decomposition import IncrementalPCA    # inital reduction\n",
    "from sklearn.manifold import TSNE                   # final reduction\n",
    "import numpy as np                                  # array handling\n",
    "\n",
    "\n",
    "def reduce_dimensions(model):\n",
    "    num_dimensions = 2  # final num dimensions (2D, 3D, etc)\n",
    "\n",
    "    # extract the words & their vectors, as numpy arrays\n",
    "    vectors = np.asarray(model.wv.vectors[:100])\n",
    "    labels = np.asarray(model.wv.index_to_key[:100])  # fixed-width numpy strings\n",
    "\n",
    "    # reduce using t-SNE\n",
    "    tsne = TSNE(n_components=num_dimensions, random_state=0)\n",
    "    vectors = tsne.fit_transform(vectors)\n",
    "\n",
    "    x_vals = [v[0] for v in vectors]\n",
    "    y_vals = [v[1] for v in vectors]\n",
    "    return x_vals, y_vals, labels\n",
    "\n",
    "\n",
    "x_vals, y_vals, labels = reduce_dimensions(model)\n",
    "\n",
    "def plot_with_plotly(x_vals, y_vals, labels, plot_in_notebook=True):\n",
    "    from plotly.offline import init_notebook_mode, iplot, plot\n",
    "    import plotly.graph_objs as go\n",
    "\n",
    "    trace = go.Scatter(x=x_vals, y=y_vals, mode='text', text=labels)\n",
    "    data = [trace]\n",
    "\n",
    "    if plot_in_notebook:\n",
    "        init_notebook_mode(connected=True)\n",
    "        iplot(data, filename='word-embedding-plot')\n",
    "    else:\n",
    "        plot(data, filename='word-embedding-plot.html')\n",
    "\n",
    "\n",
    "def plot_with_matplotlib(x_vals, y_vals, labels):\n",
    "    import matplotlib.pyplot as plt\n",
    "    import random\n",
    "\n",
    "    random.seed(0)\n",
    "\n",
    "    plt.figure(figsize=(12, 12))\n",
    "    plt.scatter(x_vals, y_vals)\n",
    "\n",
    "    #\n",
    "    # Label randomly subsampled 25 data points\n",
    "    #\n",
    "    indices = list(range(len(labels)))\n",
    "    selected_indices = random.sample(indices, 25)\n",
    "    for i in selected_indices:\n",
    "        plt.annotate(labels[i], (x_vals[i], y_vals[i]))\n",
    "\n",
    "try:\n",
    "    get_ipython()\n",
    "except Exception:\n",
    "    plot_function = plot_with_matplotlib\n",
    "else:\n",
    "    plot_function = plot_with_plotly\n",
    "\n",
    "plot_function(x_vals, y_vals, labels)\n"
   ]
  },
  {
   "cell_type": "code",
   "execution_count": null,
   "metadata": {},
   "outputs": [],
   "source": []
  }
 ],
 "metadata": {
  "interpreter": {
   "hash": "96a2cdacb4cb11b0c8e8d7593b307b3b3d690ce4d07b927b31628364bf118130"
  },
  "kernelspec": {
   "display_name": "Python 3 (ipykernel)",
   "language": "python",
   "name": "python3"
  },
  "language_info": {
   "codemirror_mode": {
    "name": "ipython",
    "version": 3
   },
   "file_extension": ".py",
   "mimetype": "text/x-python",
   "name": "python",
   "nbconvert_exporter": "python",
   "pygments_lexer": "ipython3",
   "version": "3.9.7"
  }
 },
 "nbformat": 4,
 "nbformat_minor": 4
}
