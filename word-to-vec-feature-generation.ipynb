{
 "cells": [
  {
   "cell_type": "code",
   "execution_count": 1,
   "metadata": {},
   "outputs": [],
   "source": [
    "# Tokenize the data\n",
    "# remove punctuations\n",
    "# remove numbers"
   ]
  },
  {
   "cell_type": "code",
   "execution_count": 1,
   "metadata": {},
   "outputs": [],
   "source": [
    "import pandas as pd\n",
    "import numpy as np\n",
    "import time\n",
    "import random\n",
    "import multiprocessing\n",
    "from sklearn.decomposition import PCA\n",
    "from matplotlib import pyplot as plt\n",
    "from gensim.models import Word2Vec"
   ]
  },
  {
   "cell_type": "code",
   "execution_count": 2,
   "metadata": {},
   "outputs": [
    {
     "data": {
      "text/plain": [
       "6"
      ]
     },
     "execution_count": 2,
     "metadata": {},
     "output_type": "execute_result"
    }
   ],
   "source": [
    "cores = multiprocessing.cpu_count()\n",
    "cores"
   ]
  },
  {
   "cell_type": "code",
   "execution_count": 3,
   "metadata": {},
   "outputs": [],
   "source": [
    "df = pd.read_excel('data-labeled/combined-super-clean-data.xlsx')\n",
    "df.columns = ['raw', 'label']"
   ]
  },
  {
   "cell_type": "code",
   "execution_count": 4,
   "metadata": {},
   "outputs": [
    {
     "data": {
      "text/html": [
       "<div>\n",
       "<style scoped>\n",
       "    .dataframe tbody tr th:only-of-type {\n",
       "        vertical-align: middle;\n",
       "    }\n",
       "\n",
       "    .dataframe tbody tr th {\n",
       "        vertical-align: top;\n",
       "    }\n",
       "\n",
       "    .dataframe thead th {\n",
       "        text-align: right;\n",
       "    }\n",
       "</style>\n",
       "<table border=\"1\" class=\"dataframe\">\n",
       "  <thead>\n",
       "    <tr style=\"text-align: right;\">\n",
       "      <th></th>\n",
       "      <th>raw</th>\n",
       "      <th>label</th>\n",
       "    </tr>\n",
       "  </thead>\n",
       "  <tbody>\n",
       "    <tr>\n",
       "      <th>11916</th>\n",
       "      <td>most of users are still not aware with blockch...</td>\n",
       "      <td>other</td>\n",
       "    </tr>\n",
       "    <tr>\n",
       "      <th>11917</th>\n",
       "      <td>what are the attractive features in your proje...</td>\n",
       "      <td>other</td>\n",
       "    </tr>\n",
       "  </tbody>\n",
       "</table>\n",
       "</div>"
      ],
      "text/plain": [
       "                                                     raw  label\n",
       "11916  most of users are still not aware with blockch...  other\n",
       "11917  what are the attractive features in your proje...  other"
      ]
     },
     "execution_count": 4,
     "metadata": {},
     "output_type": "execute_result"
    }
   ],
   "source": [
    "df.tail(2)"
   ]
  },
  {
   "cell_type": "markdown",
   "metadata": {},
   "source": [
    "#### '!\"#$%&\\'()*+,-./:;<=>?@[\\\\]^_`{|}~'"
   ]
  },
  {
   "cell_type": "code",
   "execution_count": 5,
   "metadata": {},
   "outputs": [],
   "source": [
    "df[\"clean\"] = df['raw'].str.replace('[\\',\\?\\(\\)!@#$\\+-\\.\\/\\^*~|\\{\\}=\\d/]+','', regex=True)"
   ]
  },
  {
   "cell_type": "code",
   "execution_count": 6,
   "metadata": {},
   "outputs": [],
   "source": [
    "df['split'] = df['clean'].str.split()"
   ]
  },
  {
   "cell_type": "code",
   "execution_count": 7,
   "metadata": {},
   "outputs": [],
   "source": [
    "df['word_count'] = df['split'].apply(lambda x: len(x))"
   ]
  },
  {
   "cell_type": "code",
   "execution_count": 8,
   "metadata": {},
   "outputs": [],
   "source": [
    "df = df[df['word_count'] > 3]"
   ]
  },
  {
   "cell_type": "code",
   "execution_count": 9,
   "metadata": {},
   "outputs": [],
   "source": [
    "# re.sub(\n",
    "#     string=\"\"\"'/ adrian, .wel~come - to <<<url/>>> sol{ve + ! the (^test @= bracket) #equa|tion $ to * j{}oin the chat 3 9 = ?', i has been warned by drew | <<<url>>> 1/2 reason no investment advice\"\"\",\n",
    "#     repl='',\n",
    "#     pattern='[\\',\\?\\(\\)!@#$\\+-\\.\\/\\^*~|\\{\\}=\\d/]+'\n",
    "# )"
   ]
  },
  {
   "cell_type": "code",
   "execution_count": 10,
   "metadata": {},
   "outputs": [],
   "source": [
    "# rand = random.randint(0, 11917)\n",
    "# df.loc[rand, 'clean'], df.loc[rand, 'new']"
   ]
  },
  {
   "cell_type": "code",
   "execution_count": 11,
   "metadata": {},
   "outputs": [
    {
     "data": {
      "text/html": [
       "<div>\n",
       "<style scoped>\n",
       "    .dataframe tbody tr th:only-of-type {\n",
       "        vertical-align: middle;\n",
       "    }\n",
       "\n",
       "    .dataframe tbody tr th {\n",
       "        vertical-align: top;\n",
       "    }\n",
       "\n",
       "    .dataframe thead th {\n",
       "        text-align: right;\n",
       "    }\n",
       "</style>\n",
       "<table border=\"1\" class=\"dataframe\">\n",
       "  <thead>\n",
       "    <tr style=\"text-align: right;\">\n",
       "      <th></th>\n",
       "      <th>raw</th>\n",
       "      <th>label</th>\n",
       "      <th>clean</th>\n",
       "      <th>split</th>\n",
       "      <th>word_count</th>\n",
       "    </tr>\n",
       "  </thead>\n",
       "  <tbody>\n",
       "    <tr>\n",
       "      <th>11913</th>\n",
       "      <td>do you have an ambassador program available? i...</td>\n",
       "      <td>other</td>\n",
       "      <td>do you have an ambassador program available if...</td>\n",
       "      <td>[do, you, have, an, ambassador, program, avail...</td>\n",
       "      <td>25</td>\n",
       "    </tr>\n",
       "    <tr>\n",
       "      <th>11914</th>\n",
       "      <td>covid 19 has slowed many economies around the ...</td>\n",
       "      <td>other</td>\n",
       "      <td>covid  has slowed many economies around the wo...</td>\n",
       "      <td>[covid, has, slowed, many, economies, around, ...</td>\n",
       "      <td>35</td>\n",
       "    </tr>\n",
       "    <tr>\n",
       "      <th>11915</th>\n",
       "      <td>are you planning to promote your project in co...</td>\n",
       "      <td>other</td>\n",
       "      <td>are you planning to promote your project in co...</td>\n",
       "      <td>[are, you, planning, to, promote, your, projec...</td>\n",
       "      <td>28</td>\n",
       "    </tr>\n",
       "    <tr>\n",
       "      <th>11916</th>\n",
       "      <td>most of users are still not aware with blockch...</td>\n",
       "      <td>other</td>\n",
       "      <td>most of users are still not aware with blockch...</td>\n",
       "      <td>[most, of, users, are, still, not, aware, with...</td>\n",
       "      <td>27</td>\n",
       "    </tr>\n",
       "    <tr>\n",
       "      <th>11917</th>\n",
       "      <td>what are the attractive features in your proje...</td>\n",
       "      <td>other</td>\n",
       "      <td>what are the attractive features in your proje...</td>\n",
       "      <td>[what, are, the, attractive, features, in, you...</td>\n",
       "      <td>25</td>\n",
       "    </tr>\n",
       "  </tbody>\n",
       "</table>\n",
       "</div>"
      ],
      "text/plain": [
       "                                                     raw  label  \\\n",
       "11913  do you have an ambassador program available? i...  other   \n",
       "11914  covid 19 has slowed many economies around the ...  other   \n",
       "11915  are you planning to promote your project in co...  other   \n",
       "11916  most of users are still not aware with blockch...  other   \n",
       "11917  what are the attractive features in your proje...  other   \n",
       "\n",
       "                                                   clean  \\\n",
       "11913  do you have an ambassador program available if...   \n",
       "11914  covid  has slowed many economies around the wo...   \n",
       "11915  are you planning to promote your project in co...   \n",
       "11916  most of users are still not aware with blockch...   \n",
       "11917  what are the attractive features in your proje...   \n",
       "\n",
       "                                                   split  word_count  \n",
       "11913  [do, you, have, an, ambassador, program, avail...          25  \n",
       "11914  [covid, has, slowed, many, economies, around, ...          35  \n",
       "11915  [are, you, planning, to, promote, your, projec...          28  \n",
       "11916  [most, of, users, are, still, not, aware, with...          27  \n",
       "11917  [what, are, the, attractive, features, in, you...          25  "
      ]
     },
     "execution_count": 11,
     "metadata": {},
     "output_type": "execute_result"
    }
   ],
   "source": [
    "df.tail()"
   ]
  },
  {
   "cell_type": "code",
   "execution_count": 22,
   "metadata": {},
   "outputs": [],
   "source": [
    "# model = Word2Vec(sentences=df['clean'].values, vector_size=200, window=5, min_count=1, workers=4)\n",
    "model = Word2Vec(\n",
    "    min_count=1,\n",
    "    window=3,\n",
    "    vector_size=300,\n",
    "    # sample=6e-5, \n",
    "    # alpha=0.03, \n",
    "    # min_alpha=0.0007, \n",
    "    # negative=20,\n",
    "    workers=cores-1\n",
    ")"
   ]
  },
  {
   "cell_type": "code",
   "execution_count": 23,
   "metadata": {},
   "outputs": [
    {
     "name": "stdout",
     "output_type": "stream",
     "text": [
      "Time to build vocab: 0.01 mins\n"
     ]
    }
   ],
   "source": [
    "t = time.time()\n",
    "model.build_vocab(df['split'].values, progress_per=10000)\n",
    "print('Time to build vocab: {} mins'.format(round((time.time() - t) / 60, 2)))"
   ]
  },
  {
   "cell_type": "code",
   "execution_count": null,
   "metadata": {},
   "outputs": [],
   "source": [
    "no_of_epochs = 5000\n",
    "t = time.time()\n",
    "model.train(\n",
    "    df['split'].values, \n",
    "    total_examples=model.corpus_count, \n",
    "    epochs=no_of_epochs, \n",
    "    report_delay=1\n",
    ")\n",
    "print('Time to train the model: {} mins'.format(round((time.time() - t) / 60, 2)))\n",
    "\n",
    "model.wv.save_word2vec_format(f'model-assets/word-to-vec-model-{str(no_of_epochs)}-epochs.bin', binary=True)"
   ]
  },
  {
   "cell_type": "code",
   "execution_count": 38,
   "metadata": {},
   "outputs": [
    {
     "data": {
      "text/plain": [
       "[('great', 0.34327104687690735),\n",
       " ('nice', 0.32686182856559753),\n",
       " ('todaysovryn', 0.30696722865104675),\n",
       " ('takeoff', 0.2868631184101105),\n",
       " ('dfsg', 0.2782213091850281),\n",
       " ('vulnerable', 0.2761835753917694),\n",
       " ('mainland', 0.2661237120628357),\n",
       " ('subme', 0.26081979274749756),\n",
       " ('ambitious', 0.2528322637081146),\n",
       " ('new', 0.2525070905685425)]"
      ]
     },
     "execution_count": 38,
     "metadata": {},
     "output_type": "execute_result"
    }
   ],
   "source": [
    "model.wv.most_similar('good')"
   ]
  },
  {
   "cell_type": "code",
   "execution_count": 40,
   "metadata": {},
   "outputs": [],
   "source": [
    "# model.wv.get_vector('great')"
   ]
  },
  {
   "cell_type": "code",
   "execution_count": 42,
   "metadata": {},
   "outputs": [
    {
     "data": {
      "text/plain": [
       "((10131, 300), (10131, 300))"
      ]
     },
     "execution_count": 42,
     "metadata": {},
     "output_type": "execute_result"
    }
   ],
   "source": [
    "a.shape, b.shape"
   ]
  },
  {
   "cell_type": "code",
   "execution_count": 29,
   "metadata": {},
   "outputs": [
    {
     "data": {
      "text/plain": [
       "(numpy.ndarray, numpy.ndarray)"
      ]
     },
     "execution_count": 29,
     "metadata": {},
     "output_type": "execute_result"
    }
   ],
   "source": [
    "a = model.wv.vectors\n",
    "b = np.asarray(model.wv.vectors)\n",
    "\n",
    "type(a), type(b)"
   ]
  },
  {
   "cell_type": "code",
   "execution_count": 30,
   "metadata": {},
   "outputs": [
    {
     "data": {
      "text/plain": [
       "(10131, 300)"
      ]
     },
     "execution_count": 30,
     "metadata": {},
     "output_type": "execute_result"
    }
   ],
   "source": [
    "b.shape"
   ]
  },
  {
   "cell_type": "code",
   "execution_count": 31,
   "metadata": {},
   "outputs": [
    {
     "data": {
      "text/plain": [
       "((300,), (300,))"
      ]
     },
     "execution_count": 31,
     "metadata": {},
     "output_type": "execute_result"
    }
   ],
   "source": [
    "a[0].shape, b[0].shape"
   ]
  },
  {
   "cell_type": "code",
   "execution_count": null,
   "metadata": {},
   "outputs": [],
   "source": []
  },
  {
   "cell_type": "code",
   "execution_count": 32,
   "metadata": {},
   "outputs": [
    {
     "data": {
      "text/plain": [
       "array([[ 0.91448987,  0.27452567,  0.12849808, ...,  0.56874204,\n",
       "         3.7109952 ,  1.7803175 ],\n",
       "       [-1.1382715 ,  0.8383359 ,  0.6806975 , ...,  0.00783749,\n",
       "         0.21199304, -0.46566764],\n",
       "       [-0.11991718,  1.0925783 ,  0.47009683, ...,  0.08369756,\n",
       "         1.0475109 ,  0.48844162],\n",
       "       ...,\n",
       "       [ 0.5903889 , -0.29436785,  0.8968889 , ...,  0.47306427,\n",
       "         0.36688003, -0.34172437],\n",
       "       [ 0.77332085,  0.196923  ,  1.2287282 , ...,  0.22544411,\n",
       "         0.85723716, -0.24626899],\n",
       "       [ 0.22938271, -0.30860507, -0.06396291, ..., -0.01684824,\n",
       "         0.10719246, -0.19478944]], dtype=float32)"
      ]
     },
     "execution_count": 32,
     "metadata": {},
     "output_type": "execute_result"
    }
   ],
   "source": [
    "b"
   ]
  },
  {
   "cell_type": "code",
   "execution_count": 33,
   "metadata": {},
   "outputs": [
    {
     "name": "stderr",
     "output_type": "stream",
     "text": [
      "d:\\virtualenvs\\tele\\lib\\site-packages\\sklearn\\manifold\\_t_sne.py:780: FutureWarning: The default initialization in TSNE will change from 'random' to 'pca' in 1.2.\n",
      "  warnings.warn(\n",
      "d:\\virtualenvs\\tele\\lib\\site-packages\\sklearn\\manifold\\_t_sne.py:790: FutureWarning: The default learning rate in TSNE will change from 200.0 to 'auto' in 1.2.\n",
      "  warnings.warn(\n"
     ]
    },
    {
     "data": {
      "text/html": [
       "        <script type=\"text/javascript\">\n",
       "        window.PlotlyConfig = {MathJaxConfig: 'local'};\n",
       "        if (window.MathJax) {MathJax.Hub.Config({SVG: {font: \"STIX-Web\"}});}\n",
       "        if (typeof require !== 'undefined') {\n",
       "        require.undef(\"plotly\");\n",
       "        requirejs.config({\n",
       "            paths: {\n",
       "                'plotly': ['https://cdn.plot.ly/plotly-2.4.2.min']\n",
       "            }\n",
       "        });\n",
       "        require(['plotly'], function(Plotly) {\n",
       "            window._Plotly = Plotly;\n",
       "        });\n",
       "        }\n",
       "        </script>\n",
       "        "
      ]
     },
     "metadata": {},
     "output_type": "display_data"
    },
    {
     "data": {
      "application/vnd.plotly.v1+json": {
       "config": {
        "linkText": "Export to plot.ly",
        "plotlyServerURL": "https://plot.ly",
        "showLink": false
       },
       "data": [
        {
         "mode": "text",
         "text": [
          "the",
          "to",
          "and",
          "you",
          "is",
          "of",
          "a",
          "in",
          "are",
          "for",
          "your",
          "on",
          "bot",
          "i",
          "will",
          "it",
          "bnb",
          "can",
          "that",
          "be",
          "how",
          "this",
          "have",
          "what",
          "with",
          "private",
          "we",
          "there",
          "project",
          "public",
          "<<<percentage>>>",
          "token",
          "not",
          "do",
          "about",
          "welcome",
          "chat",
          "their",
          "users",
          "by",
          "new",
          "as",
          "community",
          "market",
          "so",
          "join",
          "or",
          "<<<url>>>",
          "its",
          "shilling",
          "more",
          "from",
          "bots;",
          "team",
          "all",
          "our",
          "any",
          "they",
          "at",
          "now",
          "who",
          "make",
          "nft",
          "us",
          "solve",
          "but",
          "if",
          "<<<amount>>>",
          "doing",
          "here",
          "was",
          "equation",
          "one",
          "get",
          "has",
          "launch",
          "people",
          "platform",
          "crypto",
          "tokens",
          "official",
          "game",
          "just",
          "polygon",
          "buy",
          "hey",
          "me",
          "price",
          "an",
          "out",
          "my",
          "hours",
          "also",
          "good",
          "please",
          "like",
          "does",
          "projects",
          "fast",
          "some"
         ],
         "type": "scatter",
         "x": [
          -12.946992874145508,
          -6.0058393478393555,
          -15.040447235107422,
          1.356006145477295,
          31.08838653564453,
          12.107193946838379,
          -24.488636016845703,
          -6.088971138000488,
          43.806156158447266,
          4.437666416168213,
          -10.597188949584961,
          0.010349530726671219,
          86.02417755126953,
          5.0817461013793945,
          36.265228271484375,
          -6.138469696044922,
          87.26936340332031,
          47.743125915527344,
          -16.583253860473633,
          -2.9892327785491943,
          -40.13968276977539,
          -15.823002815246582,
          -14.039453506469727,
          -27.98444366455078,
          -11.340839385986328,
          97.94121551513672,
          -26.895029067993164,
          40.772972106933594,
          3.8842756748199463,
          97.72621154785156,
          6.031073093414307,
          5.701518535614014,
          -41.21930694580078,
          -28.54285430908203,
          25.063989639282227,
          77.09004211425781,
          68.94740295410156,
          -12.42941665649414,
          85.7148666381836,
          -75.9327621459961,
          25.105772018432617,
          18.08865737915039,
          -23.716489791870117,
          18.310861587524414,
          -39.06400680541992,
          65.32960510253906,
          -39.214176177978516,
          -48.56793975830078,
          16.419158935546875,
          79.8472900390625,
          44.74679946899414,
          -74.85723114013672,
          112.82766723632812,
          33.12680435180664,
          -69.01972961425781,
          -26.868860244750977,
          -8.713295936584473,
          54.968379974365234,
          -99.19706726074219,
          -44.56368637084961,
          18.51477813720703,
          76.00499725341797,
          16.313457489013672,
          -54.29639434814453,
          -81.7548599243164,
          15.747989654541016,
          -26.549898147583008,
          -30.537973403930664,
          -102.49768829345703,
          -55.23322296142578,
          56.94952392578125,
          -72.53425598144531,
          -56.50355911254883,
          -5.131720066070557,
          63.305511474609375,
          -25.17823028564453,
          32.91941833496094,
          25.025285720825195,
          -6.621618270874023,
          -74.90875244140625,
          98.84774017333984,
          15.820030212402344,
          29.504959106445312,
          -50.115169525146484,
          98.91374969482422,
          43.26791000366211,
          -50.63623046875,
          -50.21592330932617,
          -25.096349716186523,
          40.46977615356445,
          -3.493649482727051,
          109.30423736572266,
          -54.40122985839844,
          -26.640222549438477,
          -78.12236785888672,
          -90.20856475830078,
          43.475440979003906,
          3.622016429901123,
          67.43852233886719,
          -59.226837158203125
         ],
         "y": [
          38.912994384765625,
          6.843143939971924,
          -0.07561233639717102,
          40.166404724121094,
          7.019421577453613,
          -10.654094696044922,
          37.00724411010742,
          -5.221985816955566,
          7.366928577423096,
          -1.4167827367782593,
          49.425655364990234,
          -14.172825813293457,
          -16.587162017822266,
          29.761920928955078,
          20.805601119995117,
          24.361047744750977,
          -27.91730499267578,
          24.011289596557617,
          13.751662254333496,
          -42.06483840942383,
          17.472158432006836,
          28.066247940063477,
          -32.77094268798828,
          21.64241600036621,
          -18.215774536132812,
          -31.463350296020508,
          51.472476959228516,
          -66.2726821899414,
          14.02713680267334,
          -20.123411178588867,
          60.79787826538086,
          -25.7017765045166,
          36.132347106933594,
          -26.098493576049805,
          -6.814974784851074,
          3.781899929046631,
          -20.195281982421875,
          62.525489807128906,
          28.33697509765625,
          32.98088836669922,
          35.04616165161133,
          20.632129669189453,
          -10.13004207611084,
          81.2891845703125,
          1.6274504661560059,
          -1.3853838443756104,
          -14.574089050292969,
          -64.349853515625,
          47.672706604003906,
          -52.12730407714844,
          -25.834062576293945,
          -11.084970474243164,
          -17.9915714263916,
          -43.29294967651367,
          13.773579597473145,
          69.1214828491211,
          104.71757507324219,
          -45.10865783691406,
          36.915950775146484,
          57.94430160522461,
          -80.15106964111328,
          72.79925537109375,
          -57.367374420166016,
          97.89498901367188,
          -75.9470443725586,
          7.077541828155518,
          6.150450229644775,
          -44.35651397705078,
          -19.907133102416992,
          2.553169012069702,
          56.648231506347656,
          -62.26395797729492,
          -19.103668212890625,
          -54.75377655029297,
          33.737266540527344,
          -63.17744827270508,
          98.2988510131836,
          -23.59272003173828,
          -76.53421783447266,
          -36.18587875366211,
          3.370800733566284,
          -37.08539581298828,
          63.425086975097656,
          -77.77055358886719,
          50.19556427001953,
          -96.18474578857422,
          81.95784759521484,
          -38.98371124267578,
          89.16338348388672,
          45.83341598510742,
          78.19813537597656,
          -43.84244155883789,
          24.944948196411133,
          -94.25276184082031,
          66.23780059814453,
          7.353422164916992,
          -8.33142375946045,
          -102.8326416015625,
          -77.93009185791016,
          46.99274444580078
         ]
        }
       ],
       "layout": {
        "autosize": true,
        "template": {
         "data": {
          "bar": [
           {
            "error_x": {
             "color": "#2a3f5f"
            },
            "error_y": {
             "color": "#2a3f5f"
            },
            "marker": {
             "line": {
              "color": "#E5ECF6",
              "width": 0.5
             },
             "pattern": {
              "fillmode": "overlay",
              "size": 10,
              "solidity": 0.2
             }
            },
            "type": "bar"
           }
          ],
          "barpolar": [
           {
            "marker": {
             "line": {
              "color": "#E5ECF6",
              "width": 0.5
             },
             "pattern": {
              "fillmode": "overlay",
              "size": 10,
              "solidity": 0.2
             }
            },
            "type": "barpolar"
           }
          ],
          "carpet": [
           {
            "aaxis": {
             "endlinecolor": "#2a3f5f",
             "gridcolor": "white",
             "linecolor": "white",
             "minorgridcolor": "white",
             "startlinecolor": "#2a3f5f"
            },
            "baxis": {
             "endlinecolor": "#2a3f5f",
             "gridcolor": "white",
             "linecolor": "white",
             "minorgridcolor": "white",
             "startlinecolor": "#2a3f5f"
            },
            "type": "carpet"
           }
          ],
          "choropleth": [
           {
            "colorbar": {
             "outlinewidth": 0,
             "ticks": ""
            },
            "type": "choropleth"
           }
          ],
          "contour": [
           {
            "colorbar": {
             "outlinewidth": 0,
             "ticks": ""
            },
            "colorscale": [
             [
              0,
              "#0d0887"
             ],
             [
              0.1111111111111111,
              "#46039f"
             ],
             [
              0.2222222222222222,
              "#7201a8"
             ],
             [
              0.3333333333333333,
              "#9c179e"
             ],
             [
              0.4444444444444444,
              "#bd3786"
             ],
             [
              0.5555555555555556,
              "#d8576b"
             ],
             [
              0.6666666666666666,
              "#ed7953"
             ],
             [
              0.7777777777777778,
              "#fb9f3a"
             ],
             [
              0.8888888888888888,
              "#fdca26"
             ],
             [
              1,
              "#f0f921"
             ]
            ],
            "type": "contour"
           }
          ],
          "contourcarpet": [
           {
            "colorbar": {
             "outlinewidth": 0,
             "ticks": ""
            },
            "type": "contourcarpet"
           }
          ],
          "heatmap": [
           {
            "colorbar": {
             "outlinewidth": 0,
             "ticks": ""
            },
            "colorscale": [
             [
              0,
              "#0d0887"
             ],
             [
              0.1111111111111111,
              "#46039f"
             ],
             [
              0.2222222222222222,
              "#7201a8"
             ],
             [
              0.3333333333333333,
              "#9c179e"
             ],
             [
              0.4444444444444444,
              "#bd3786"
             ],
             [
              0.5555555555555556,
              "#d8576b"
             ],
             [
              0.6666666666666666,
              "#ed7953"
             ],
             [
              0.7777777777777778,
              "#fb9f3a"
             ],
             [
              0.8888888888888888,
              "#fdca26"
             ],
             [
              1,
              "#f0f921"
             ]
            ],
            "type": "heatmap"
           }
          ],
          "heatmapgl": [
           {
            "colorbar": {
             "outlinewidth": 0,
             "ticks": ""
            },
            "colorscale": [
             [
              0,
              "#0d0887"
             ],
             [
              0.1111111111111111,
              "#46039f"
             ],
             [
              0.2222222222222222,
              "#7201a8"
             ],
             [
              0.3333333333333333,
              "#9c179e"
             ],
             [
              0.4444444444444444,
              "#bd3786"
             ],
             [
              0.5555555555555556,
              "#d8576b"
             ],
             [
              0.6666666666666666,
              "#ed7953"
             ],
             [
              0.7777777777777778,
              "#fb9f3a"
             ],
             [
              0.8888888888888888,
              "#fdca26"
             ],
             [
              1,
              "#f0f921"
             ]
            ],
            "type": "heatmapgl"
           }
          ],
          "histogram": [
           {
            "marker": {
             "pattern": {
              "fillmode": "overlay",
              "size": 10,
              "solidity": 0.2
             }
            },
            "type": "histogram"
           }
          ],
          "histogram2d": [
           {
            "colorbar": {
             "outlinewidth": 0,
             "ticks": ""
            },
            "colorscale": [
             [
              0,
              "#0d0887"
             ],
             [
              0.1111111111111111,
              "#46039f"
             ],
             [
              0.2222222222222222,
              "#7201a8"
             ],
             [
              0.3333333333333333,
              "#9c179e"
             ],
             [
              0.4444444444444444,
              "#bd3786"
             ],
             [
              0.5555555555555556,
              "#d8576b"
             ],
             [
              0.6666666666666666,
              "#ed7953"
             ],
             [
              0.7777777777777778,
              "#fb9f3a"
             ],
             [
              0.8888888888888888,
              "#fdca26"
             ],
             [
              1,
              "#f0f921"
             ]
            ],
            "type": "histogram2d"
           }
          ],
          "histogram2dcontour": [
           {
            "colorbar": {
             "outlinewidth": 0,
             "ticks": ""
            },
            "colorscale": [
             [
              0,
              "#0d0887"
             ],
             [
              0.1111111111111111,
              "#46039f"
             ],
             [
              0.2222222222222222,
              "#7201a8"
             ],
             [
              0.3333333333333333,
              "#9c179e"
             ],
             [
              0.4444444444444444,
              "#bd3786"
             ],
             [
              0.5555555555555556,
              "#d8576b"
             ],
             [
              0.6666666666666666,
              "#ed7953"
             ],
             [
              0.7777777777777778,
              "#fb9f3a"
             ],
             [
              0.8888888888888888,
              "#fdca26"
             ],
             [
              1,
              "#f0f921"
             ]
            ],
            "type": "histogram2dcontour"
           }
          ],
          "mesh3d": [
           {
            "colorbar": {
             "outlinewidth": 0,
             "ticks": ""
            },
            "type": "mesh3d"
           }
          ],
          "parcoords": [
           {
            "line": {
             "colorbar": {
              "outlinewidth": 0,
              "ticks": ""
             }
            },
            "type": "parcoords"
           }
          ],
          "pie": [
           {
            "automargin": true,
            "type": "pie"
           }
          ],
          "scatter": [
           {
            "marker": {
             "colorbar": {
              "outlinewidth": 0,
              "ticks": ""
             }
            },
            "type": "scatter"
           }
          ],
          "scatter3d": [
           {
            "line": {
             "colorbar": {
              "outlinewidth": 0,
              "ticks": ""
             }
            },
            "marker": {
             "colorbar": {
              "outlinewidth": 0,
              "ticks": ""
             }
            },
            "type": "scatter3d"
           }
          ],
          "scattercarpet": [
           {
            "marker": {
             "colorbar": {
              "outlinewidth": 0,
              "ticks": ""
             }
            },
            "type": "scattercarpet"
           }
          ],
          "scattergeo": [
           {
            "marker": {
             "colorbar": {
              "outlinewidth": 0,
              "ticks": ""
             }
            },
            "type": "scattergeo"
           }
          ],
          "scattergl": [
           {
            "marker": {
             "colorbar": {
              "outlinewidth": 0,
              "ticks": ""
             }
            },
            "type": "scattergl"
           }
          ],
          "scattermapbox": [
           {
            "marker": {
             "colorbar": {
              "outlinewidth": 0,
              "ticks": ""
             }
            },
            "type": "scattermapbox"
           }
          ],
          "scatterpolar": [
           {
            "marker": {
             "colorbar": {
              "outlinewidth": 0,
              "ticks": ""
             }
            },
            "type": "scatterpolar"
           }
          ],
          "scatterpolargl": [
           {
            "marker": {
             "colorbar": {
              "outlinewidth": 0,
              "ticks": ""
             }
            },
            "type": "scatterpolargl"
           }
          ],
          "scatterternary": [
           {
            "marker": {
             "colorbar": {
              "outlinewidth": 0,
              "ticks": ""
             }
            },
            "type": "scatterternary"
           }
          ],
          "surface": [
           {
            "colorbar": {
             "outlinewidth": 0,
             "ticks": ""
            },
            "colorscale": [
             [
              0,
              "#0d0887"
             ],
             [
              0.1111111111111111,
              "#46039f"
             ],
             [
              0.2222222222222222,
              "#7201a8"
             ],
             [
              0.3333333333333333,
              "#9c179e"
             ],
             [
              0.4444444444444444,
              "#bd3786"
             ],
             [
              0.5555555555555556,
              "#d8576b"
             ],
             [
              0.6666666666666666,
              "#ed7953"
             ],
             [
              0.7777777777777778,
              "#fb9f3a"
             ],
             [
              0.8888888888888888,
              "#fdca26"
             ],
             [
              1,
              "#f0f921"
             ]
            ],
            "type": "surface"
           }
          ],
          "table": [
           {
            "cells": {
             "fill": {
              "color": "#EBF0F8"
             },
             "line": {
              "color": "white"
             }
            },
            "header": {
             "fill": {
              "color": "#C8D4E3"
             },
             "line": {
              "color": "white"
             }
            },
            "type": "table"
           }
          ]
         },
         "layout": {
          "annotationdefaults": {
           "arrowcolor": "#2a3f5f",
           "arrowhead": 0,
           "arrowwidth": 1
          },
          "autotypenumbers": "strict",
          "coloraxis": {
           "colorbar": {
            "outlinewidth": 0,
            "ticks": ""
           }
          },
          "colorscale": {
           "diverging": [
            [
             0,
             "#8e0152"
            ],
            [
             0.1,
             "#c51b7d"
            ],
            [
             0.2,
             "#de77ae"
            ],
            [
             0.3,
             "#f1b6da"
            ],
            [
             0.4,
             "#fde0ef"
            ],
            [
             0.5,
             "#f7f7f7"
            ],
            [
             0.6,
             "#e6f5d0"
            ],
            [
             0.7,
             "#b8e186"
            ],
            [
             0.8,
             "#7fbc41"
            ],
            [
             0.9,
             "#4d9221"
            ],
            [
             1,
             "#276419"
            ]
           ],
           "sequential": [
            [
             0,
             "#0d0887"
            ],
            [
             0.1111111111111111,
             "#46039f"
            ],
            [
             0.2222222222222222,
             "#7201a8"
            ],
            [
             0.3333333333333333,
             "#9c179e"
            ],
            [
             0.4444444444444444,
             "#bd3786"
            ],
            [
             0.5555555555555556,
             "#d8576b"
            ],
            [
             0.6666666666666666,
             "#ed7953"
            ],
            [
             0.7777777777777778,
             "#fb9f3a"
            ],
            [
             0.8888888888888888,
             "#fdca26"
            ],
            [
             1,
             "#f0f921"
            ]
           ],
           "sequentialminus": [
            [
             0,
             "#0d0887"
            ],
            [
             0.1111111111111111,
             "#46039f"
            ],
            [
             0.2222222222222222,
             "#7201a8"
            ],
            [
             0.3333333333333333,
             "#9c179e"
            ],
            [
             0.4444444444444444,
             "#bd3786"
            ],
            [
             0.5555555555555556,
             "#d8576b"
            ],
            [
             0.6666666666666666,
             "#ed7953"
            ],
            [
             0.7777777777777778,
             "#fb9f3a"
            ],
            [
             0.8888888888888888,
             "#fdca26"
            ],
            [
             1,
             "#f0f921"
            ]
           ]
          },
          "colorway": [
           "#636efa",
           "#EF553B",
           "#00cc96",
           "#ab63fa",
           "#FFA15A",
           "#19d3f3",
           "#FF6692",
           "#B6E880",
           "#FF97FF",
           "#FECB52"
          ],
          "font": {
           "color": "#2a3f5f"
          },
          "geo": {
           "bgcolor": "white",
           "lakecolor": "white",
           "landcolor": "#E5ECF6",
           "showlakes": true,
           "showland": true,
           "subunitcolor": "white"
          },
          "hoverlabel": {
           "align": "left"
          },
          "hovermode": "closest",
          "mapbox": {
           "style": "light"
          },
          "paper_bgcolor": "white",
          "plot_bgcolor": "#E5ECF6",
          "polar": {
           "angularaxis": {
            "gridcolor": "white",
            "linecolor": "white",
            "ticks": ""
           },
           "bgcolor": "#E5ECF6",
           "radialaxis": {
            "gridcolor": "white",
            "linecolor": "white",
            "ticks": ""
           }
          },
          "scene": {
           "xaxis": {
            "backgroundcolor": "#E5ECF6",
            "gridcolor": "white",
            "gridwidth": 2,
            "linecolor": "white",
            "showbackground": true,
            "ticks": "",
            "zerolinecolor": "white"
           },
           "yaxis": {
            "backgroundcolor": "#E5ECF6",
            "gridcolor": "white",
            "gridwidth": 2,
            "linecolor": "white",
            "showbackground": true,
            "ticks": "",
            "zerolinecolor": "white"
           },
           "zaxis": {
            "backgroundcolor": "#E5ECF6",
            "gridcolor": "white",
            "gridwidth": 2,
            "linecolor": "white",
            "showbackground": true,
            "ticks": "",
            "zerolinecolor": "white"
           }
          },
          "shapedefaults": {
           "line": {
            "color": "#2a3f5f"
           }
          },
          "ternary": {
           "aaxis": {
            "gridcolor": "white",
            "linecolor": "white",
            "ticks": ""
           },
           "baxis": {
            "gridcolor": "white",
            "linecolor": "white",
            "ticks": ""
           },
           "bgcolor": "#E5ECF6",
           "caxis": {
            "gridcolor": "white",
            "linecolor": "white",
            "ticks": ""
           }
          },
          "title": {
           "x": 0.05
          },
          "xaxis": {
           "automargin": true,
           "gridcolor": "white",
           "linecolor": "white",
           "ticks": "",
           "title": {
            "standoff": 15
           },
           "zerolinecolor": "white",
           "zerolinewidth": 2
          },
          "yaxis": {
           "automargin": true,
           "gridcolor": "white",
           "linecolor": "white",
           "ticks": "",
           "title": {
            "standoff": 15
           },
           "zerolinecolor": "white",
           "zerolinewidth": 2
          }
         }
        },
        "xaxis": {
         "autorange": true,
         "range": [
          -114.46020804511176,
          124.79018698798285
         ],
         "type": "linear"
        },
        "yaxis": {
         "autorange": true,
         "range": [
          -114.36320919460721,
          116.2481426662869
         ],
         "type": "linear"
        }
       }
      },
      "image/png": "[encoded data removed]",
      "text/html": [
       "<div>                            <div id=\"e21c331b-0576-4572-9db7-b346cc27a71e\" class=\"plotly-graph-div\" style=\"height:525px; width:100%;\"></div>            <script type=\"text/javascript\">                require([\"plotly\"], function(Plotly) {                    window.PLOTLYENV=window.PLOTLYENV || {};                                    if (document.getElementById(\"e21c331b-0576-4572-9db7-b346cc27a71e\")) {                    Plotly.newPlot(                        \"e21c331b-0576-4572-9db7-b346cc27a71e\",                        [{\"mode\":\"text\",\"text\":[\"the\",\"to\",\"and\",\"you\",\"is\",\"of\",\"a\",\"in\",\"are\",\"for\",\"your\",\"on\",\"bot\",\"i\",\"will\",\"it\",\"bnb\",\"can\",\"that\",\"be\",\"how\",\"this\",\"have\",\"what\",\"with\",\"private\",\"we\",\"there\",\"project\",\"public\",\"<<<percentage>>>\",\"token\",\"not\",\"do\",\"about\",\"welcome\",\"chat\",\"their\",\"users\",\"by\",\"new\",\"as\",\"community\",\"market\",\"so\",\"join\",\"or\",\"<<<url>>>\",\"its\",\"shilling\",\"more\",\"from\",\"bots;\",\"team\",\"all\",\"our\",\"any\",\"they\",\"at\",\"now\",\"who\",\"make\",\"nft\",\"us\",\"solve\",\"but\",\"if\",\"<<<amount>>>\",\"doing\",\"here\",\"was\",\"equation\",\"one\",\"get\",\"has\",\"launch\",\"people\",\"platform\",\"crypto\",\"tokens\",\"official\",\"game\",\"just\",\"polygon\",\"buy\",\"hey\",\"me\",\"price\",\"an\",\"out\",\"my\",\"hours\",\"also\",\"good\",\"please\",\"like\",\"does\",\"projects\",\"fast\",\"some\"],\"type\":\"scatter\",\"x\":[-12.946992874145508,-6.0058393478393555,-15.040447235107422,1.356006145477295,31.08838653564453,12.107193946838379,-24.488636016845703,-6.088971138000488,43.806156158447266,4.437666416168213,-10.597188949584961,0.010349530726671219,86.02417755126953,5.0817461013793945,36.265228271484375,-6.138469696044922,87.26936340332031,47.743125915527344,-16.583253860473633,-2.9892327785491943,-40.13968276977539,-15.823002815246582,-14.039453506469727,-27.98444366455078,-11.340839385986328,97.94121551513672,-26.895029067993164,40.772972106933594,3.8842756748199463,97.72621154785156,6.031073093414307,5.701518535614014,-41.21930694580078,-28.54285430908203,25.063989639282227,77.09004211425781,68.94740295410156,-12.42941665649414,85.7148666381836,-75.9327621459961,25.105772018432617,18.08865737915039,-23.716489791870117,18.310861587524414,-39.06400680541992,65.32960510253906,-39.214176177978516,-48.56793975830078,16.419158935546875,79.8472900390625,44.74679946899414,-74.85723114013672,112.82766723632812,33.12680435180664,-69.01972961425781,-26.868860244750977,-8.713295936584473,54.968379974365234,-99.19706726074219,-44.56368637084961,18.51477813720703,76.00499725341797,16.313457489013672,-54.29639434814453,-81.7548599243164,15.747989654541016,-26.549898147583008,-30.537973403930664,-102.49768829345703,-55.23322296142578,56.94952392578125,-72.53425598144531,-56.50355911254883,-5.131720066070557,63.305511474609375,-25.17823028564453,32.91941833496094,25.025285720825195,-6.621618270874023,-74.90875244140625,98.84774017333984,15.820030212402344,29.504959106445312,-50.115169525146484,98.91374969482422,43.26791000366211,-50.63623046875,-50.21592330932617,-25.096349716186523,40.46977615356445,-3.493649482727051,109.30423736572266,-54.40122985839844,-26.640222549438477,-78.12236785888672,-90.20856475830078,43.475440979003906,3.622016429901123,67.43852233886719,-59.226837158203125],\"y\":[38.912994384765625,6.843143939971924,-0.07561233639717102,40.166404724121094,7.019421577453613,-10.654094696044922,37.00724411010742,-5.221985816955566,7.366928577423096,-1.4167827367782593,49.425655364990234,-14.172825813293457,-16.587162017822266,29.761920928955078,20.805601119995117,24.361047744750977,-27.91730499267578,24.011289596557617,13.751662254333496,-42.06483840942383,17.472158432006836,28.066247940063477,-32.77094268798828,21.64241600036621,-18.215774536132812,-31.463350296020508,51.472476959228516,-66.2726821899414,14.02713680267334,-20.123411178588867,60.79787826538086,-25.7017765045166,36.132347106933594,-26.098493576049805,-6.814974784851074,3.781899929046631,-20.195281982421875,62.525489807128906,28.33697509765625,32.98088836669922,35.04616165161133,20.632129669189453,-10.13004207611084,81.2891845703125,1.6274504661560059,-1.3853838443756104,-14.574089050292969,-64.349853515625,47.672706604003906,-52.12730407714844,-25.834062576293945,-11.084970474243164,-17.9915714263916,-43.29294967651367,13.773579597473145,69.1214828491211,104.71757507324219,-45.10865783691406,36.915950775146484,57.94430160522461,-80.15106964111328,72.79925537109375,-57.367374420166016,97.89498901367188,-75.9470443725586,7.077541828155518,6.150450229644775,-44.35651397705078,-19.907133102416992,2.553169012069702,56.648231506347656,-62.26395797729492,-19.103668212890625,-54.75377655029297,33.737266540527344,-63.17744827270508,98.2988510131836,-23.59272003173828,-76.53421783447266,-36.18587875366211,3.370800733566284,-37.08539581298828,63.425086975097656,-77.77055358886719,50.19556427001953,-96.18474578857422,81.95784759521484,-38.98371124267578,89.16338348388672,45.83341598510742,78.19813537597656,-43.84244155883789,24.944948196411133,-94.25276184082031,66.23780059814453,7.353422164916992,-8.33142375946045,-102.8326416015625,-77.93009185791016,46.99274444580078]}],                        {\"template\":{\"data\":{\"bar\":[{\"error_x\":{\"color\":\"#2a3f5f\"},\"error_y\":{\"color\":\"#2a3f5f\"},\"marker\":{\"line\":{\"color\":\"#E5ECF6\",\"width\":0.5},\"pattern\":{\"fillmode\":\"overlay\",\"size\":10,\"solidity\":0.2}},\"type\":\"bar\"}],\"barpolar\":[{\"marker\":{\"line\":{\"color\":\"#E5ECF6\",\"width\":0.5},\"pattern\":{\"fillmode\":\"overlay\",\"size\":10,\"solidity\":0.2}},\"type\":\"barpolar\"}],\"carpet\":[{\"aaxis\":{\"endlinecolor\":\"#2a3f5f\",\"gridcolor\":\"white\",\"linecolor\":\"white\",\"minorgridcolor\":\"white\",\"startlinecolor\":\"#2a3f5f\"},\"baxis\":{\"endlinecolor\":\"#2a3f5f\",\"gridcolor\":\"white\",\"linecolor\":\"white\",\"minorgridcolor\":\"white\",\"startlinecolor\":\"#2a3f5f\"},\"type\":\"carpet\"}],\"choropleth\":[{\"colorbar\":{\"outlinewidth\":0,\"ticks\":\"\"},\"type\":\"choropleth\"}],\"contour\":[{\"colorbar\":{\"outlinewidth\":0,\"ticks\":\"\"},\"colorscale\":[[0.0,\"#0d0887\"],[0.1111111111111111,\"#46039f\"],[0.2222222222222222,\"#7201a8\"],[0.3333333333333333,\"#9c179e\"],[0.4444444444444444,\"#bd3786\"],[0.5555555555555556,\"#d8576b\"],[0.6666666666666666,\"#ed7953\"],[0.7777777777777778,\"#fb9f3a\"],[0.8888888888888888,\"#fdca26\"],[1.0,\"#f0f921\"]],\"type\":\"contour\"}],\"contourcarpet\":[{\"colorbar\":{\"outlinewidth\":0,\"ticks\":\"\"},\"type\":\"contourcarpet\"}],\"heatmap\":[{\"colorbar\":{\"outlinewidth\":0,\"ticks\":\"\"},\"colorscale\":[[0.0,\"#0d0887\"],[0.1111111111111111,\"#46039f\"],[0.2222222222222222,\"#7201a8\"],[0.3333333333333333,\"#9c179e\"],[0.4444444444444444,\"#bd3786\"],[0.5555555555555556,\"#d8576b\"],[0.6666666666666666,\"#ed7953\"],[0.7777777777777778,\"#fb9f3a\"],[0.8888888888888888,\"#fdca26\"],[1.0,\"#f0f921\"]],\"type\":\"heatmap\"}],\"heatmapgl\":[{\"colorbar\":{\"outlinewidth\":0,\"ticks\":\"\"},\"colorscale\":[[0.0,\"#0d0887\"],[0.1111111111111111,\"#46039f\"],[0.2222222222222222,\"#7201a8\"],[0.3333333333333333,\"#9c179e\"],[0.4444444444444444,\"#bd3786\"],[0.5555555555555556,\"#d8576b\"],[0.6666666666666666,\"#ed7953\"],[0.7777777777777778,\"#fb9f3a\"],[0.8888888888888888,\"#fdca26\"],[1.0,\"#f0f921\"]],\"type\":\"heatmapgl\"}],\"histogram\":[{\"marker\":{\"pattern\":{\"fillmode\":\"overlay\",\"size\":10,\"solidity\":0.2}},\"type\":\"histogram\"}],\"histogram2d\":[{\"colorbar\":{\"outlinewidth\":0,\"ticks\":\"\"},\"colorscale\":[[0.0,\"#0d0887\"],[0.1111111111111111,\"#46039f\"],[0.2222222222222222,\"#7201a8\"],[0.3333333333333333,\"#9c179e\"],[0.4444444444444444,\"#bd3786\"],[0.5555555555555556,\"#d8576b\"],[0.6666666666666666,\"#ed7953\"],[0.7777777777777778,\"#fb9f3a\"],[0.8888888888888888,\"#fdca26\"],[1.0,\"#f0f921\"]],\"type\":\"histogram2d\"}],\"histogram2dcontour\":[{\"colorbar\":{\"outlinewidth\":0,\"ticks\":\"\"},\"colorscale\":[[0.0,\"#0d0887\"],[0.1111111111111111,\"#46039f\"],[0.2222222222222222,\"#7201a8\"],[0.3333333333333333,\"#9c179e\"],[0.4444444444444444,\"#bd3786\"],[0.5555555555555556,\"#d8576b\"],[0.6666666666666666,\"#ed7953\"],[0.7777777777777778,\"#fb9f3a\"],[0.8888888888888888,\"#fdca26\"],[1.0,\"#f0f921\"]],\"type\":\"histogram2dcontour\"}],\"mesh3d\":[{\"colorbar\":{\"outlinewidth\":0,\"ticks\":\"\"},\"type\":\"mesh3d\"}],\"parcoords\":[{\"line\":{\"colorbar\":{\"outlinewidth\":0,\"ticks\":\"\"}},\"type\":\"parcoords\"}],\"pie\":[{\"automargin\":true,\"type\":\"pie\"}],\"scatter\":[{\"marker\":{\"colorbar\":{\"outlinewidth\":0,\"ticks\":\"\"}},\"type\":\"scatter\"}],\"scatter3d\":[{\"line\":{\"colorbar\":{\"outlinewidth\":0,\"ticks\":\"\"}},\"marker\":{\"colorbar\":{\"outlinewidth\":0,\"ticks\":\"\"}},\"type\":\"scatter3d\"}],\"scattercarpet\":[{\"marker\":{\"colorbar\":{\"outlinewidth\":0,\"ticks\":\"\"}},\"type\":\"scattercarpet\"}],\"scattergeo\":[{\"marker\":{\"colorbar\":{\"outlinewidth\":0,\"ticks\":\"\"}},\"type\":\"scattergeo\"}],\"scattergl\":[{\"marker\":{\"colorbar\":{\"outlinewidth\":0,\"ticks\":\"\"}},\"type\":\"scattergl\"}],\"scattermapbox\":[{\"marker\":{\"colorbar\":{\"outlinewidth\":0,\"ticks\":\"\"}},\"type\":\"scattermapbox\"}],\"scatterpolar\":[{\"marker\":{\"colorbar\":{\"outlinewidth\":0,\"ticks\":\"\"}},\"type\":\"scatterpolar\"}],\"scatterpolargl\":[{\"marker\":{\"colorbar\":{\"outlinewidth\":0,\"ticks\":\"\"}},\"type\":\"scatterpolargl\"}],\"scatterternary\":[{\"marker\":{\"colorbar\":{\"outlinewidth\":0,\"ticks\":\"\"}},\"type\":\"scatterternary\"}],\"surface\":[{\"colorbar\":{\"outlinewidth\":0,\"ticks\":\"\"},\"colorscale\":[[0.0,\"#0d0887\"],[0.1111111111111111,\"#46039f\"],[0.2222222222222222,\"#7201a8\"],[0.3333333333333333,\"#9c179e\"],[0.4444444444444444,\"#bd3786\"],[0.5555555555555556,\"#d8576b\"],[0.6666666666666666,\"#ed7953\"],[0.7777777777777778,\"#fb9f3a\"],[0.8888888888888888,\"#fdca26\"],[1.0,\"#f0f921\"]],\"type\":\"surface\"}],\"table\":[{\"cells\":{\"fill\":{\"color\":\"#EBF0F8\"},\"line\":{\"color\":\"white\"}},\"header\":{\"fill\":{\"color\":\"#C8D4E3\"},\"line\":{\"color\":\"white\"}},\"type\":\"table\"}]},\"layout\":{\"annotationdefaults\":{\"arrowcolor\":\"#2a3f5f\",\"arrowhead\":0,\"arrowwidth\":1},\"autotypenumbers\":\"strict\",\"coloraxis\":{\"colorbar\":{\"outlinewidth\":0,\"ticks\":\"\"}},\"colorscale\":{\"diverging\":[[0,\"#8e0152\"],[0.1,\"#c51b7d\"],[0.2,\"#de77ae\"],[0.3,\"#f1b6da\"],[0.4,\"#fde0ef\"],[0.5,\"#f7f7f7\"],[0.6,\"#e6f5d0\"],[0.7,\"#b8e186\"],[0.8,\"#7fbc41\"],[0.9,\"#4d9221\"],[1,\"#276419\"]],\"sequential\":[[0.0,\"#0d0887\"],[0.1111111111111111,\"#46039f\"],[0.2222222222222222,\"#7201a8\"],[0.3333333333333333,\"#9c179e\"],[0.4444444444444444,\"#bd3786\"],[0.5555555555555556,\"#d8576b\"],[0.6666666666666666,\"#ed7953\"],[0.7777777777777778,\"#fb9f3a\"],[0.8888888888888888,\"#fdca26\"],[1.0,\"#f0f921\"]],\"sequentialminus\":[[0.0,\"#0d0887\"],[0.1111111111111111,\"#46039f\"],[0.2222222222222222,\"#7201a8\"],[0.3333333333333333,\"#9c179e\"],[0.4444444444444444,\"#bd3786\"],[0.5555555555555556,\"#d8576b\"],[0.6666666666666666,\"#ed7953\"],[0.7777777777777778,\"#fb9f3a\"],[0.8888888888888888,\"#fdca26\"],[1.0,\"#f0f921\"]]},\"colorway\":[\"#636efa\",\"#EF553B\",\"#00cc96\",\"#ab63fa\",\"#FFA15A\",\"#19d3f3\",\"#FF6692\",\"#B6E880\",\"#FF97FF\",\"#FECB52\"],\"font\":{\"color\":\"#2a3f5f\"},\"geo\":{\"bgcolor\":\"white\",\"lakecolor\":\"white\",\"landcolor\":\"#E5ECF6\",\"showlakes\":true,\"showland\":true,\"subunitcolor\":\"white\"},\"hoverlabel\":{\"align\":\"left\"},\"hovermode\":\"closest\",\"mapbox\":{\"style\":\"light\"},\"paper_bgcolor\":\"white\",\"plot_bgcolor\":\"#E5ECF6\",\"polar\":{\"angularaxis\":{\"gridcolor\":\"white\",\"linecolor\":\"white\",\"ticks\":\"\"},\"bgcolor\":\"#E5ECF6\",\"radialaxis\":{\"gridcolor\":\"white\",\"linecolor\":\"white\",\"ticks\":\"\"}},\"scene\":{\"xaxis\":{\"backgroundcolor\":\"#E5ECF6\",\"gridcolor\":\"white\",\"gridwidth\":2,\"linecolor\":\"white\",\"showbackground\":true,\"ticks\":\"\",\"zerolinecolor\":\"white\"},\"yaxis\":{\"backgroundcolor\":\"#E5ECF6\",\"gridcolor\":\"white\",\"gridwidth\":2,\"linecolor\":\"white\",\"showbackground\":true,\"ticks\":\"\",\"zerolinecolor\":\"white\"},\"zaxis\":{\"backgroundcolor\":\"#E5ECF6\",\"gridcolor\":\"white\",\"gridwidth\":2,\"linecolor\":\"white\",\"showbackground\":true,\"ticks\":\"\",\"zerolinecolor\":\"white\"}},\"shapedefaults\":{\"line\":{\"color\":\"#2a3f5f\"}},\"ternary\":{\"aaxis\":{\"gridcolor\":\"white\",\"linecolor\":\"white\",\"ticks\":\"\"},\"baxis\":{\"gridcolor\":\"white\",\"linecolor\":\"white\",\"ticks\":\"\"},\"bgcolor\":\"#E5ECF6\",\"caxis\":{\"gridcolor\":\"white\",\"linecolor\":\"white\",\"ticks\":\"\"}},\"title\":{\"x\":0.05},\"xaxis\":{\"automargin\":true,\"gridcolor\":\"white\",\"linecolor\":\"white\",\"ticks\":\"\",\"title\":{\"standoff\":15},\"zerolinecolor\":\"white\",\"zerolinewidth\":2},\"yaxis\":{\"automargin\":true,\"gridcolor\":\"white\",\"linecolor\":\"white\",\"ticks\":\"\",\"title\":{\"standoff\":15},\"zerolinecolor\":\"white\",\"zerolinewidth\":2}}}},                        {\"responsive\": true}                    ).then(function(){\n",
       "                            \n",
       "var gd = document.getElementById('e21c331b-0576-4572-9db7-b346cc27a71e');\n",
       "var x = new MutationObserver(function (mutations, observer) {{\n",
       "        var display = window.getComputedStyle(gd).display;\n",
       "        if (!display || display === 'none') {{\n",
       "            console.log([gd, 'removed!']);\n",
       "            Plotly.purge(gd);\n",
       "            observer.disconnect();\n",
       "        }}\n",
       "}});\n",
       "\n",
       "// Listen for the removal of the full notebook cells\n",
       "var notebookContainer = gd.closest('#notebook-container');\n",
       "if (notebookContainer) {{\n",
       "    x.observe(notebookContainer, {childList: true});\n",
       "}}\n",
       "\n",
       "// Listen for the clearing of the current output cell\n",
       "var outputEl = gd.closest('.output');\n",
       "if (outputEl) {{\n",
       "    x.observe(outputEl, {childList: true});\n",
       "}}\n",
       "\n",
       "                        })                };                });            </script>        </div>"
      ]
     },
     "metadata": {},
     "output_type": "display_data"
    }
   ],
   "source": [
    "from sklearn.decomposition import IncrementalPCA    # inital reduction\n",
    "from sklearn.manifold import TSNE                   # final reduction\n",
    "import numpy as np                                  # array handling\n",
    "\n",
    "\n",
    "def reduce_dimensions(model):\n",
    "    num_dimensions = 2  # final num dimensions (2D, 3D, etc)\n",
    "\n",
    "    # extract the words & their vectors, as numpy arrays\n",
    "    vectors = np.asarray(model.wv.vectors[:100])\n",
    "    labels = np.asarray(model.wv.index_to_key[:100])  # fixed-width numpy strings\n",
    "\n",
    "    # reduce using t-SNE\n",
    "    tsne = TSNE(n_components=num_dimensions, random_state=0)\n",
    "    vectors = tsne.fit_transform(vectors)\n",
    "\n",
    "    x_vals = [v[0] for v in vectors]\n",
    "    y_vals = [v[1] for v in vectors]\n",
    "    return x_vals, y_vals, labels\n",
    "\n",
    "\n",
    "x_vals, y_vals, labels = reduce_dimensions(model)\n",
    "\n",
    "def plot_with_plotly(x_vals, y_vals, labels, plot_in_notebook=True):\n",
    "    from plotly.offline import init_notebook_mode, iplot, plot\n",
    "    import plotly.graph_objs as go\n",
    "\n",
    "    trace = go.Scatter(x=x_vals, y=y_vals, mode='text', text=labels)\n",
    "    data = [trace]\n",
    "\n",
    "    if plot_in_notebook:\n",
    "        init_notebook_mode(connected=True)\n",
    "        iplot(data, filename='word-embedding-plot')\n",
    "    else:\n",
    "        plot(data, filename='word-embedding-plot.html')\n",
    "\n",
    "\n",
    "def plot_with_matplotlib(x_vals, y_vals, labels):\n",
    "    import matplotlib.pyplot as plt\n",
    "    import random\n",
    "\n",
    "    random.seed(0)\n",
    "\n",
    "    plt.figure(figsize=(12, 12))\n",
    "    plt.scatter(x_vals, y_vals)\n",
    "\n",
    "    #\n",
    "    # Label randomly subsampled 25 data points\n",
    "    #\n",
    "    indices = list(range(len(labels)))\n",
    "    selected_indices = random.sample(indices, 25)\n",
    "    for i in selected_indices:\n",
    "        plt.annotate(labels[i], (x_vals[i], y_vals[i]))\n",
    "\n",
    "try:\n",
    "    get_ipython()\n",
    "except Exception:\n",
    "    plot_function = plot_with_matplotlib\n",
    "else:\n",
    "    plot_function = plot_with_plotly\n",
    "\n",
    "plot_function(x_vals, y_vals, labels)\n"
   ]
  },
  {
   "cell_type": "code",
   "execution_count": null,
   "metadata": {},
   "outputs": [],
   "source": []
  }
 ],
 "metadata": {
  "interpreter": {
   "hash": "96a2cdacb4cb11b0c8e8d7593b307b3b3d690ce4d07b927b31628364bf118130"
  },
  "kernelspec": {
   "display_name": "Python 3 (ipykernel)",
   "language": "python",
   "name": "python3"
  },
  "language_info": {
   "codemirror_mode": {
    "name": "ipython",
    "version": 3
   },
   "file_extension": ".py",
   "mimetype": "text/x-python",
   "name": "python",
   "nbconvert_exporter": "python",
   "pygments_lexer": "ipython3",
   "version": "3.8.8"
  }
 },
 "nbformat": 4,
 "nbformat_minor": 4
}
