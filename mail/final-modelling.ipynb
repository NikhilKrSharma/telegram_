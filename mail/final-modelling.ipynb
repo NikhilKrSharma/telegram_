{
 "cells": [
  {
   "cell_type": "code",
   "execution_count": 16,
   "source": [
    "import os\r\n",
    "import emoji\r\n",
    "import pickle\r\n",
    "import collections\r\n",
    "import pandas as pd\r\n",
    "from nltk.corpus import stopwords\r\n",
    "from sklearn.linear_model import RidgeClassifier\r\n",
    "from sklearn.feature_extraction.text import CountVectorizer\r\n"
   ],
   "outputs": [],
   "metadata": {}
  },
  {
   "cell_type": "markdown",
   "source": [
    "# Create Model and save assets"
   ],
   "metadata": {}
  },
  {
   "cell_type": "code",
   "execution_count": 67,
   "source": [
    "df = pd.read_excel(r'data-labeled\\combined-super-clean-data.xlsx')\r\n",
    "df = df[df['label'].isin(['positive', 'negative', 'neutral'])]\r\n",
    "df.columns = ['data', 'label']\r\n",
    "\r\n",
    "stop_words = set(stopwords.words('english'))\r\n",
    "count_vector_one_gram = CountVectorizer(stop_words=stop_words, strip_accents='unicode', ngram_range=(1,1))\r\n",
    "count_vector_one_gram.fit(df['data'].astype('str'))\r\n",
    "X_count_vectorizer_one_gram = count_vector_one_gram.transform(df['data'].astype('str'))\r\n",
    "\r\n",
    "clf = RidgeClassifier(random_state=0)\r\n",
    "clf.fit(X_count_vectorizer_one_gram, df['label'])"
   ],
   "outputs": [
    {
     "output_type": "execute_result",
     "data": {
      "text/plain": [
       "RidgeClassifier(random_state=0)"
      ]
     },
     "metadata": {},
     "execution_count": 67
    }
   ],
   "metadata": {}
  },
  {
   "cell_type": "code",
   "execution_count": 68,
   "source": [
    "if not os.path.isdir('model-assets'):\r\n",
    "    os.makedirs('model-assets')\r\n",
    "\r\n",
    "with open(r'model-assets/feature.pkl', 'wb') as f:\r\n",
    "    pickle.dump(count_vector_one_gram, f)\r\n",
    "\r\n",
    "with open(r'model-assets/model.pkl', 'wb') as f:\r\n",
    "    pickle.dump(clf, f)"
   ],
   "outputs": [],
   "metadata": {}
  },
  {
   "cell_type": "markdown",
   "source": [
    "# Use model for Prediction"
   ],
   "metadata": {}
  },
  {
   "cell_type": "code",
   "execution_count": 5,
   "source": [
    "def clean_data(user_data):\r\n",
    "\r\n",
    "    df = pd.DataFrame(data=user_data, columns=['data'])\r\n",
    "\r\n",
    "    df['clean'] = df['data'].apply(lambda x: str(x).replace('\\n', ' '))\r\n",
    "    df['clean'] = df['clean'].str.replace(pat='(@\\w+)', repl='', regex=True)\r\n",
    "    df['clean'] = df['clean'].replace(to_replace=' +', value=' ', regex=True)\r\n",
    "    \r\n",
    "    df['clean'] = df['data'].astype(str).apply(lambda x: ' '.join([y for y in x.split() if len(y)<15]))\r\n",
    "    df['clean'] = df['clean'].astype(str).str.replace(r\"\"\"[#*+\\\\\\(\\)_!:\\-\\[\\]<>']\"\"\", '', regex=True)\r\n",
    "    df['clean'] = df['clean'].astype(str).str.replace(r\"\"\"(\\.{2,})\"\"\", '.', regex=True)\r\n",
    "    df['clean'] = df['clean'].astype(str).str.replace(r\"\"\"[-a-zA-Z0-9@:%_\\+.~#?&//=]{2,256}\\.[a-z]{2,4}\\b(\\/[-a-zA-Z0-9@:%_\\+.~#?&//=]*)?\"\"\", '<<<URL>>>', regex=True)\r\n",
    "    df['clean'] = df['clean'].astype(str).str.replace(r\"\"\" +\"\"\", ' ', regex=True)\r\n",
    "    df['clean'] = df['clean'].astype(str).str.replace(r\"\"\"\\$(\\d+\\.?,?)+\"\"\", '<<<AMOUNT>>>', regex=True)\r\n",
    "    df['clean'] = df['clean'].astype(str).str.replace(r\"\"\"(\\d+%)\"\"\", '<<<PERCENTAGE>>>', regex=True)\r\n",
    "    df['clean'] = df['clean'].apply(lambda x: emoji.demojize(x, delimiters=(\"_\", \"\")))\r\n",
    "    \r\n",
    "    return df['clean']"
   ],
   "outputs": [],
   "metadata": {}
  },
  {
   "cell_type": "code",
   "execution_count": 6,
   "source": [
    "def load_assets(feature_pkl_path, model_pkl_path):\r\n",
    "    with open(feature_pkl_path, 'rb') as f:\r\n",
    "        vectorizer = pickle.load(f)\r\n",
    "\r\n",
    "    with open(model_pkl_path, 'rb') as f:\r\n",
    "        model = pickle.load(f)\r\n",
    "\r\n",
    "    return (vectorizer, model)"
   ],
   "outputs": [],
   "metadata": {}
  },
  {
   "cell_type": "code",
   "execution_count": 7,
   "source": [
    "def generate_featue(vectorizer, df):\r\n",
    "    \r\n",
    "    features = vectorizer.transform(df)\r\n",
    "    \r\n",
    "    return features"
   ],
   "outputs": [],
   "metadata": {}
  },
  {
   "cell_type": "markdown",
   "source": [
    "# USAGE"
   ],
   "metadata": {}
  },
  {
   "cell_type": "code",
   "execution_count": 1,
   "source": [
    "raw_data = '''**âš¡ï¸Craft Brewing Business Features Launch of 1st Craft Beer NFT on Blingâš¡ï¸\r\n",
    "\r\n",
    "Trace **doing good work!!\r\n",
    "\r\n",
    "https://twitter.com/7bridgesbrewing/status/1445638656966881280?s=21\r\n",
    "\r\n",
    "Read more: https://bit.ly/TraceNFTBeer-CraftBrew\"\r\n",
    "\"âš¡ï¸**#CyberTrade is well on its way to become most anticipated Blockchain game of the year! \r\n",
    "\r\n",
    "https://twitter.com/CyberTradeGame/status/1445765127190368259?s=20 \r\n",
    "**\r\n",
    "**27 000 Pre-Registered users in 24 hours! \r\n",
    "**\r\n",
    "**Go to**ðŸ‘‰**[PRE-REGISTER](https://cybertrade.game/whitelist) and join the New era of #NFTgaming!**\"\r\n",
    "\"NFT farming on kawaii islands marketplace!!\r\n",
    "\r\n",
    "https://twitter.com/kawaii_islands/status/1445797046921965568\"\r\n",
    "\"Wallfair #whitelist is now open \r\n",
    "\r\n",
    "https://twitter.com/joinwallfair/status/1445815427549081602\"\r\n",
    "\"Get ready to watch movies with Crypto ðŸŽ¬ \r\n",
    "\r\n",
    "https://twitter.com/CEOAdam/status/1445538907324497920\"\r\n",
    "JUST IN: The Mexican Stock Exchange (BMV) is now considering listing crypto futures on its derivatives exchange.\r\n",
    "\"**Just another day and another Bitcoin pump** âš¡ï¸\r\n",
    "\r\n",
    "https://twitter.com/BitcoinMagazine/status/1445740489114669063\"\r\n",
    "\"**Uptober is real!!!\r\n",
    "**\r\n",
    "https://twitter.com/CryptoDaku_/status/1445669281740439554\"\r\n",
    "\"ðŸ¤**Amasa x IoTex**ðŸ¤\r\n",
    "\r\n",
    "https://twitter.com/Amasa_io/status/1445751950411173888\"\r\n",
    "\"Time for Next AMA: We have AMA with The Panther Protocol team\r\n",
    "\r\n",
    "Panther is a End-to-end privacy protocol for digital assets.\r\n",
    "\r\n",
    "https://www.pantherprotocol.io/\r\n",
    "https://t.me/pantherprotocol\r\n",
    "\r\n",
    "Reward: as usual :) we always have rewards :)\r\n",
    "Countdown: https://tinyurl.com/c6wsnhxn\r\n",
    "Venue: https://t.me/cryptodakurobinhooders\"\r\n",
    "\"Time for Next AMA: We have AMA with Demole team\r\n",
    "\r\n",
    "Demole is the first playable 3D RPG game in the NFT ecosystem consisting of multiple earning and gameplay mechanics.\r\n",
    "\r\n",
    "https://demole.io/\r\n",
    "https://t.me/demole_ioCommunity\r\n",
    "\r\n",
    "Reward: as usual :) we always have rewards :)\r\n",
    "Countdown: https://tinyurl.com/9vhptb2b \r\n",
    "Venue: https://t.me/cryptodakurobinhooders\"\r\n",
    "\"**Panther announces partnership with Bumper!** ðŸ”¥ðŸ”¥\r\n",
    "\r\n",
    "Another important partnership announcement! We have entered into a partnership agreement that aims to benefit retail and institutional users alike and the benefits to both parties are manyfold.\r\n",
    "\r\n",
    "Together, Panther and Bumper aim to provide DeFi users with a seamless, safe, and private DeFi user experience. We will also create workflows that allow institutions and fintechs (and their users) to enter DeFi and enjoy the Bumper Protocolâ€™s volatility protection systems, all the while staying compliant with world-class KYC and AML standards.\r\n",
    "\r\n",
    "https://twitter.com/ZKPanther/status/1445797651966881803\"\r\n",
    "\"**Demole x GateLabs**ðŸ”¥\r\n",
    "\r\n",
    "https://twitter.com/demoleio/status/1445721329013977099\"\r\n",
    "\"https://bit.ly/3oDcm47\r\n",
    "\r\n",
    "Netvrk spacesip partnership\"\r\n",
    "\"ðŸ’«ðŸ’« **RENA, the governance token for the worldâ€™s first highly-personalized, NFT metaverse game Warena is now available on the CoinMarketCap** ðŸ’«ðŸ’«\r\n",
    "\r\n",
    "â€œObviously itâ€™s an important step for us to take,â€ said Minh Doan, co-founder of Warena, â€œCoinMarketCap is the world's most-referenced price-tracking website for crypto assets. They empower retail users to make informed, detailed conclusions. In the end, being a listed token builds upon the already-sound reputation of Warena.â€\r\n",
    "\r\n",
    "**RENA on CoinMarketCap\r\n",
    "**https://coinmarketcap.com/currencies/warena/\r\n",
    "\r\n",
    "**READ MORE **ðŸ‘‡ðŸ‘‡\r\n",
    "https://teamwarena.medium.com/rena-now-listed-on-coinmarketcap-c588153e3a7\r\n",
    "\r\n",
    "**LIKE AND SHARE** ðŸ‘\r\n",
    "https://twitter.com/WarenaOfficial/status/1445730053019484172?s=20\"\r\n",
    "\"**THE APES ARE COMING THIS OCTOBER!! **ðŸ˜±\r\n",
    "\r\n",
    "Mines of Dalarnia â€œMining Apesâ€ NFT Collection is coming this October 14th. So stay tuned, Miners! \r\n",
    "\r\n",
    "The final 10,000 mining apes are selected randomly, and although everyone is unique, some combinations will be âœ¨rarerâœ¨ than others. \r\n",
    "\r\n",
    "Mining apes are different from each other through physical attributes, accessories, and equipments. ðŸ’\r\n",
    "\r\n",
    "Soooâ€¦. Which mining ape do you think you'll get? ðŸ™Š\"\r\n",
    "\"Geist Finance will launch on October 6th, 2021 at 10:00am UTC. GEIST emissions will begin one hour after the protocol launches, to ensure that all early users have an opportunity to participate.\r\n",
    "\r\n",
    "https://t.me/geist_finance\r\n",
    "\r\n",
    "https://medium.com/@geistfantom/launch-announcement-geist-finance-db160c97313e\r\n",
    "\r\n",
    "- Move funds to FTM Chain or other bridges https://anyswap.exchange\r\n",
    "\r\n",
    "RPC URL: https://rpc.ftm.tools/\r\n",
    "Chain ID: 250\r\n",
    "Currency Symbol: FTM\r\n",
    "Block Explorer URL: https://ftmscan.com/\r\n",
    "\r\n",
    "Ape as usual DYOR!! your money your responsibilty\"\r\n",
    "\"**Realm Tearser App launch on android and ios \r\n",
    "\r\n",
    "**https://twitter.com/Enter_Realm/status/1445708153329315847\"\r\n",
    "\"https://twitter.com/MRPHSupplyChain/status/1445491026299273218\r\n",
    "\r\n",
    "MRPH!! rebrand and move up!!\"\r\n",
    "\"We have got it covered for our developer community on all fronts with our [4 layer solution](https://twitter.com/merkleNetwork/status/1445686502076272641). ðŸ¦¾\r\n",
    "\r\n",
    "ðŸ“œCheck out our whitepaper for detailed information - \r\n",
    "https://merkle.network/files/whitepaper_v1_0.pdf\r\n",
    "\r\n",
    "#Interoperability #oracles #architecture $ETH $BNB $MATIC $DOT $AVAX $SOL $MERKLE\r\n",
    "\r\n",
    "**ðŸ—£ Retweet**: https://twitter.com/merkleNetwork/status/1445686502076272641\"\r\n",
    "\"â˜ ï¸**Latest Episode of the Rugpull Series is here**â˜ ï¸\r\n",
    "\r\n",
    "The developer behind the** NFT project, 'Evil Ape,** suddenly **disappeared** along with its Twitter account, website, and **$2.7 million.** \r\n",
    "\r\n",
    "https://www.vice.com/en/article/y3dyem/investors-spent-millions-on-evolved-apes-nfts-then-they-got-scammed?utm_source=VICE_Twitter\"\r\n",
    "\r\n",
    "\"**Dark Frontiers IGO on GameStarter in live!!!**ðŸš€\r\n",
    "\r\n",
    "IGO ends on Oct 6th, 19:00 UTC\r\n",
    "\r\n",
    "https://twitter.com/gamestarter_co/status/1445464584026951687?s=20\"\r\n",
    "\"Crypto to become legal in Brazil ðŸ‡§ðŸ‡·??\r\n",
    "\r\n",
    "Brazilâ€™s Congress will discuss a bill to regulate the companies operating in the cryptocurrency sector and increases penalties for crypto pyramid schemes and other illegal activities. \r\n",
    "\r\n",
    "**A big step towards mass adoption of crypto **âš¡ï¸\"\r\n",
    "\"**Warena (RENA)** Quadruple IDO will be held on \r\n",
    "\r\n",
    "**ðŸ”¹DAO Maker** (7 Oct) \r\n",
    "**ðŸ”¹Red Kite** (7 Oct) \r\n",
    "**ðŸ”¹GameFi** (7 Oct) \r\n",
    "**ðŸ”¹PAID Ignition** (8 Oct)\r\n",
    "\r\n",
    "ðŸš€Public Sale/IDO Price: $0.165\r\n",
    "ðŸš€Private Sale Price: $0.165\r\n",
    "ðŸš€Initial Marketcap: $420,000\r\n",
    "\r\n",
    "https://twitter.com/WarenaOfficial/status/1445642759130402829?s=20\"\r\n",
    "\"**HeroVerse Marketplace will open at 12:00 UTC 7th Oct \r\n",
    "\r\n",
    "**https://heroverse-game.medium.com/heroverse-sets-to-boost-its-marketplace-as-an-one-stop-shop-4b8644d8b4fb\"\r\n",
    "\"Kevin Oâ€™Leary Now Has More Crypto Than Gold - What about you ðŸ‘€?\r\n",
    "\r\n",
    "https://twitter.com/BTCTN/status/1445321275547824130\"\r\n",
    "\"A nation state buying Bitcoin dips âœ¨ - We have come a long way now!!\r\n",
    "\r\n",
    "https://twitter.com/BitcoinMagazine/status/1445429295627870215\"\r\n",
    "\"\"\"Insufficiently bullish on NFTs\"\"\"\"\r\n",
    "\r\n",
    "https://twitter.com/punk6529/status/1443921334837338114\"\r\n",
    "\"**JUST IN: A**rab Bank Switzerland has announced that they have chosen to partner with **Tezos** to provide its clients with innovative, compliant on-chain digital financial products. \r\n",
    "\r\n",
    "**What does this mean?**\r\n",
    "\r\n",
    "Arab Bank Switzerland will now provide institutional-grade storage, staking, and trading services for tez (XTZ).\"\r\n",
    "\"It's been a wild ride for Bitcoin in 2021!! And it now beats stocks, commodities to become **best-performing asset of 2021**âš¡ï¸\r\n",
    "\r\n",
    "https://twitter.com/Bitcoin/status/1445155518608142336\"\r\n",
    "\"**Polytrade MVP to be Unveiled on 13-14th October!!!\r\n",
    "\r\n",
    "**https://twitter.com/Polytrade_fin/status/1445383162385813517?s=20\"\r\n",
    "\"âš¡ï¸**Pre-Register for alpha test of Revolutionary NFT game #CyberTrade is officialy open! âš¡ï¸\r\n",
    "\r\n",
    "**Everybody who enter event will receive **â€œAlpha event gold chief skinâ€** for their #NFT fighter in **CyberTrade** on launch\r\n",
    "\r\n",
    "https://twitter.com/CyberTradeGame/status/1445400497955954695?s=20\"\r\n",
    "\"**Nasdaq Down, S&P 500 Down, and Bitcoin UP **âš¡ï¸**\r\n",
    "**\r\n",
    "It's the first week of **Uptober** and Bitcoin and alts are showing resilience to other correlated markets.\r\n",
    "\r\n",
    "But can they \"\"keep their head when all about them are losing theirs\"\" and truly become an independent market?\r\n",
    "\r\n",
    "Complete Read hereðŸ‘‡\r\n",
    "\r\n",
    "https://b21.ghost.io/b21-ddd-oct-04-2021\"\r\n",
    "\"**MyMasterWar Testnet will be live on Oct 8 **ðŸ’¥\r\n",
    "\r\n",
    "https://mymasterwar.medium.com/invitation-to-join-the-gamified-mymasterwar-testnet-become-the-lucky-mat-warriors-5d94fac4c167\r\n",
    "\r\n",
    "**Apply Now to Get Testnet Access:** https://forms.gle/uF28saDn2TVxgsn98\"\r\n",
    "\"**ðŸš€Demole X Venture Capitals**ðŸš€\r\n",
    "\r\n",
    "https://twitter.com/demoleio/status/1445393068685991950?s=20\"\r\n",
    "\"**THE APES ARE HERE!! **ðŸ¦\r\n",
    "\r\n",
    "#nftsale\r\n",
    "\r\n",
    "Learn more about this collection by reading through our blog below. ðŸ‘‡\r\n",
    "https://minesofdalarnia.medium.com/mines-of-dalarnia-mining-apes-nft-collection-9aaee00c2fe6\"\r\n",
    "\"**The race to cater to institutional investors who want to wager on cryptocurrency is heating up **ðŸ”¥\r\n",
    "\r\n",
    "Today U.S. Bank - 5th biggest retail bank in the nation, announced today that its cryptocurrency custody services are now live and available to their Global Fund Services clients.\r\n",
    "\r\n",
    "According to **Gunjan Kedia, vice chair, U.S. Bank,** \"\"Investor interest in cryptocurrency and demand from our fund services clients have grown strongly over the last few years and we made it a priority to accelerate our ability to offer custody services.â€\"\r\n",
    "\"MRFI listing on Mexc!!\r\n",
    "\r\n",
    "repeat of avxl performancE? lets see!!\"\r\n",
    "'''.split('\\n')"
   ],
   "outputs": [],
   "metadata": {}
  },
  {
   "cell_type": "code",
   "execution_count": 2,
   "source": [
    "raw_data = [x for x in raw_data if len(x)>5]"
   ],
   "outputs": [],
   "metadata": {}
  },
  {
   "cell_type": "code",
   "execution_count": 8,
   "source": [
    "vectorizer , model = load_assets(\r\n",
    "    feature_pkl_path=r\"D:\\Projects\\new-tele\\model-assets\\feature.pkl\",\r\n",
    "    model_pkl_path=r\"D:\\Projects\\new-tele\\model-assets\\model.pkl\"\r\n",
    ")"
   ],
   "outputs": [],
   "metadata": {}
  },
  {
   "cell_type": "code",
   "execution_count": 9,
   "source": [
    "df = clean_data(raw_data)"
   ],
   "outputs": [],
   "metadata": {}
  },
  {
   "cell_type": "code",
   "execution_count": 10,
   "source": [
    "X = generate_featue(vectorizer, df)"
   ],
   "outputs": [],
   "metadata": {}
  },
  {
   "cell_type": "code",
   "execution_count": 12,
   "source": [
    "predictions = model.predict(X)"
   ],
   "outputs": [],
   "metadata": {}
  },
  {
   "cell_type": "code",
   "execution_count": 15,
   "source": [
    "sample_count = len(predictions)"
   ],
   "outputs": [],
   "metadata": {}
  },
  {
   "cell_type": "code",
   "execution_count": 20,
   "source": [
    "count_of_each_predictions = collections.Counter(predictions)"
   ],
   "outputs": [],
   "metadata": {}
  },
  {
   "cell_type": "code",
   "execution_count": 21,
   "source": [
    "count_of_each_predictions['positive']"
   ],
   "outputs": [
    {
     "output_type": "execute_result",
     "data": {
      "text/plain": [
       "27"
      ]
     },
     "metadata": {},
     "execution_count": 21
    }
   ],
   "metadata": {}
  },
  {
   "cell_type": "code",
   "execution_count": 23,
   "source": [
    "sentiment_score = count_of_each_predictions['positive'] / sample_count"
   ],
   "outputs": [],
   "metadata": {}
  },
  {
   "cell_type": "code",
   "execution_count": 24,
   "source": [
    "sentiment_score"
   ],
   "outputs": [
    {
     "output_type": "execute_result",
     "data": {
      "text/plain": [
       "0.20930232558139536"
      ]
     },
     "metadata": {},
     "execution_count": 24
    }
   ],
   "metadata": {}
  },
  {
   "cell_type": "code",
   "execution_count": null,
   "source": [],
   "outputs": [],
   "metadata": {}
  }
 ],
 "metadata": {
  "orig_nbformat": 4,
  "language_info": {
   "name": "python",
   "version": "3.9.7",
   "mimetype": "text/x-python",
   "codemirror_mode": {
    "name": "ipython",
    "version": 3
   },
   "pygments_lexer": "ipython3",
   "nbconvert_exporter": "python",
   "file_extension": ".py"
  },
  "kernelspec": {
   "name": "python3",
   "display_name": "Python 3.9.7 64-bit ('tele': conda)"
  },
  "interpreter": {
   "hash": "a1a90642b4008297c1b85e690cafa1cd860c092cdacc8f7dad7addc1fa08c680"
  }
 },
 "nbformat": 4,
 "nbformat_minor": 2
}