{
 "cells": [
  {
   "cell_type": "code",
   "execution_count": 3,
   "metadata": {},
   "outputs": [],
   "source": [
    "import os\n",
    "import logging\n",
    "from datetime import datetime\n",
    "\n",
    "\n",
    "\"\"\"\n",
    "level=logging.CRITICAL  # won't show errors (same as disabled)\n",
    "level=logging.ERROR     # will only show errors that you didn't handle\n",
    "level=logging.WARNING   # will also show messages with medium severity, such as internal Telegram issues\n",
    "level=logging.INFO      # will also show informational messages, such as connection or disconnections\n",
    "level=logging.DEBUG     # will show a lot of output to help debugging issues in the library\n",
    "\"\"\"\n",
    "\n",
    "\n",
    "if not os.path.isdir('logs'):\n",
    "    os.makedirs('logs')\n",
    "\n",
    "# SETTING UP THE LOGGING \n",
    "# CURRENT_WORKING_DIR = os.path.dirname(os.path.abspath(__file__))\n",
    "CURRENT_WORKING_DIR = os.getcwd()\n",
    "file_name = str(datetime.today()).replace(':', '-') + '.log'\n",
    "logging.basicConfig(\n",
    "    filename=(CURRENT_WORKING_DIR + f\"/logs/{file_name}\"), \n",
    "    level=logging.DEBUG,\n",
    "    filemode='w', \n",
    "    format='%(name)s - %(levelname)s - %(lineno)d - %(message)s'\n",
    ")\n",
    "logger = logging.getLogger()\n",
    "logger.info('Logger Initialized Successfully')"
   ]
  },
  {
   "cell_type": "code",
   "execution_count": 18,
   "metadata": {},
   "outputs": [],
   "source": [
    "import sys\n",
    "import configparser\n",
    "\n",
    "# READING CREDENTIALS FROM THE CONFIGURATION FILE\n",
    "config_file_name = 'config.ini'\n",
    "try:\n",
    "    logger.info('Reading Configuration File')\n",
    "    config = configparser.ConfigParser()\n",
    "    config.read(config_file_name)\n",
    "    logger.info('Configuration file read successfully.')\n",
    "    account_credentials = config['ACCOUNT CREDENTIALS']\n",
    "    api_id = account_credentials['API_ID']\n",
    "    api_hash = account_credentials['API_HASH']\n",
    "    group_name = account_credentials['CHANNEL_NAME']\n",
    "except Exception as e:\n",
    "    logger.error(e)\n",
    "    logger.error(\"Exception occurred\", exc_info=True)\n",
    "    sys.exit(0)"
   ]
  },
  {
   "cell_type": "code",
   "execution_count": 19,
   "metadata": {},
   "outputs": [],
   "source": [
    "from telethon import TelegramClient, events"
   ]
  },
  {
   "cell_type": "code",
   "execution_count": 20,
   "metadata": {},
   "outputs": [],
   "source": [
    "client = TelegramClient('nikhil', api_id, api_hash)"
   ]
  },
  {
   "cell_type": "code",
   "execution_count": 21,
   "metadata": {},
   "outputs": [
    {
     "ename": "RuntimeError",
     "evalue": "You must use \"async with\" if the event loop is running (i.e. you are inside an \"async def\")",
     "output_type": "error",
     "traceback": [
      "\u001b[1;31m---------------------------------------------------------------------------\u001b[0m",
      "\u001b[1;31mRuntimeError\u001b[0m                              Traceback (most recent call last)",
      "\u001b[1;32m~\\AppData\\Local\\Temp/ipykernel_12756/261590139.py\u001b[0m in \u001b[0;36m<module>\u001b[1;34m\u001b[0m\n\u001b[0;32m     16\u001b[0m \u001b[1;33m\u001b[0m\u001b[0m\n\u001b[0;32m     17\u001b[0m \u001b[1;33m\u001b[0m\u001b[0m\n\u001b[1;32m---> 18\u001b[1;33m \u001b[1;32mwith\u001b[0m \u001b[0mclient\u001b[0m\u001b[1;33m:\u001b[0m\u001b[1;33m\u001b[0m\u001b[1;33m\u001b[0m\u001b[0m\n\u001b[0m\u001b[0;32m     19\u001b[0m     \u001b[0mclient\u001b[0m\u001b[1;33m.\u001b[0m\u001b[0mloop\u001b[0m\u001b[1;33m.\u001b[0m\u001b[0mrun_until_complete\u001b[0m\u001b[1;33m(\u001b[0m\u001b[0mmain\u001b[0m\u001b[1;33m(\u001b[0m\u001b[1;33m)\u001b[0m\u001b[1;33m)\u001b[0m\u001b[1;33m\u001b[0m\u001b[1;33m\u001b[0m\u001b[0m\n",
      "\u001b[1;32mC:\\Anaconda3\\envs\\tele\\lib\\site-packages\\telethon\\helpers.py\u001b[0m in \u001b[0;36m_sync_enter\u001b[1;34m(self)\u001b[0m\n\u001b[0;32m    177\u001b[0m \u001b[1;33m\u001b[0m\u001b[0m\n\u001b[0;32m    178\u001b[0m     \u001b[1;32mif\u001b[0m \u001b[0mloop\u001b[0m\u001b[1;33m.\u001b[0m\u001b[0mis_running\u001b[0m\u001b[1;33m(\u001b[0m\u001b[1;33m)\u001b[0m\u001b[1;33m:\u001b[0m\u001b[1;33m\u001b[0m\u001b[1;33m\u001b[0m\u001b[0m\n\u001b[1;32m--> 179\u001b[1;33m         raise RuntimeError(\n\u001b[0m\u001b[0;32m    180\u001b[0m             \u001b[1;34m'You must use \"async with\" if the event loop '\u001b[0m\u001b[1;33m\u001b[0m\u001b[1;33m\u001b[0m\u001b[0m\n\u001b[0;32m    181\u001b[0m             \u001b[1;34m'is running (i.e. you are inside an \"async def\")'\u001b[0m\u001b[1;33m\u001b[0m\u001b[1;33m\u001b[0m\u001b[0m\n",
      "\u001b[1;31mRuntimeError\u001b[0m: You must use \"async with\" if the event loop is running (i.e. you are inside an \"async def\")"
     ]
    }
   ],
   "source": [
    "async def main():\n",
    "    # Getting information about yourself\n",
    "    me = await client.get_me()\n",
    "\n",
    "    # \"me\" is a user object. You can pretty-print\n",
    "    # any Telegram object with the \"stringify\" method:\n",
    "    print(me.stringify())\n",
    "\n",
    "    # When you print something, you see a representation of it.\n",
    "    # You can access all attributes of Telegram objects with\n",
    "    # the dot operator. For example, to get the username:\n",
    "    username = me.username\n",
    "    print(username)\n",
    "    print(me.phone)\n",
    "\n",
    "    \n",
    "\n",
    "with client:\n",
    "    client.loop.run_until_complete(main())"
   ]
  },
  {
   "cell_type": "code",
   "execution_count": null,
   "metadata": {},
   "outputs": [],
   "source": []
  }
 ],
 "metadata": {
  "interpreter": {
   "hash": "a1a90642b4008297c1b85e690cafa1cd860c092cdacc8f7dad7addc1fa08c680"
  },
  "kernelspec": {
   "display_name": "Python 3 (ipykernel)",
   "language": "python",
   "name": "python3"
  },
  "language_info": {
   "codemirror_mode": {
    "name": "ipython",
    "version": 3
   },
   "file_extension": ".py",
   "mimetype": "text/x-python",
   "name": "python",
   "nbconvert_exporter": "python",
   "pygments_lexer": "ipython3",
   "version": "3.9.7"
  }
 },
 "nbformat": 4,
 "nbformat_minor": 2
}
