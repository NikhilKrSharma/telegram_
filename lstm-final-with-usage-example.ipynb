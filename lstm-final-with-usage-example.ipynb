{
 "cells": [
  {
   "cell_type": "code",
   "execution_count": 1,
   "id": "3204d543-14b4-4b75-84d5-9ffb022a0d20",
   "metadata": {},
   "outputs": [],
   "source": [
    "from tensorflow.keras.models import load_model\n",
    "from tensorflow.keras.preprocessing import sequence\n",
    "from gensim.models import Word2Vec\n",
    "import pandas as pd\n",
    "import numpy as np\n",
    "import emoji"
   ]
  },
  {
   "cell_type": "code",
   "execution_count": 2,
   "id": "516d4a49-5401-4ea3-baf3-b9f9797959e6",
   "metadata": {},
   "outputs": [],
   "source": [
    "def clean_data(df):\n",
    "\n",
    "    df['clean'] = df['raw_data'].apply(lambda x: str(x).replace('\\n', ' '))\n",
    "    df['clean'] = df['clean'].str.replace(pat='(@\\w+)', repl='', regex=True)\n",
    "    df['clean'] = df['clean'].replace(to_replace=' +', value=' ', regex=True)\n",
    "    df['clean'] = df['clean'].astype(str).str.replace(r\"\"\"[#*+\\\\\\(\\)_!:\\-\\[\\]<>']\"\"\", '', regex=True)\n",
    "    df['clean'] = df['clean'].astype(str).str.replace(r\"\"\"(\\.{2,})\"\"\", '.', regex=True)\n",
    "    df['clean'] = df['clean'].astype(str).str.replace(r\"\"\"[-a-zA-Z0-9@:%_\\+.~#?&//=]{2,256}\\.[a-z]{2,4}\\b(\\/[-a-zA-Z0-9@:%_\\+.~#?&//=]*)?\"\"\", '<<<URL>>>', regex=True)\n",
    "    df['clean'] = df['clean'].astype(str).str.replace(r\"\"\"\\$(\\d+\\.?,?)+\"\"\", '<<<AMOUNT>>>', regex=True)\n",
    "    df['clean'] = df['clean'].astype(str).str.replace(r\"\"\"(\\d+%)\"\"\", '<<<PERCENTAGE>>>', regex=True)\n",
    "    df['clean'] = df['clean'].apply(lambda x: emoji.demojize(x, delimiters=(\" ___\", \"___ \")))\n",
    "    df['clean'] = df['clean'].astype(str).str.replace(r'[\\',\\?\\(\\)!@#$\\+-\\.\\/\\^*~|\\{\\}=\\d/]+', '', regex=True)\n",
    "    df['word_count'] = df['clean'].apply(lambda x: len(str(x).split()))\n",
    "    # df = df[df['word_count'] > 2]\n",
    "    df['clean'] = df['clean'].str.lower()    \n",
    "    \n",
    "    return df"
   ]
  },
  {
   "cell_type": "code",
   "execution_count": 3,
   "id": "31e574c9-8d8f-4f35-a85d-e474204b4491",
   "metadata": {},
   "outputs": [],
   "source": [
    "def get_vector_representation_of_a_word(word: str):\n",
    "    try:\n",
    "        vector_representation_of_a_word = word2vec_model.wv.get_vector(word).reshape(100, -1)\n",
    "    except Exception as E:\n",
    "        print(f'Vector representation not found for \"{word}\"')\n",
    "        vector_representation_of_a_word = np.zeros(100).reshape(100,-1)\n",
    "    finally:\n",
    "        return vector_representation_of_a_word\n",
    "        \n",
    "\n",
    "def get_vector_representation_of_a_sentence(sentence):\n",
    "    if isinstance(sentence, list):\n",
    "        sentence = sentence\n",
    "    else:\n",
    "        sentence = sentence.split()\n",
    "        \n",
    "    vector_representation_of_a_sentence = []\n",
    "    for word in sentence:\n",
    "        vector_representation_of_a_sentence.append(get_vector_representation_of_a_word(word))\n",
    "    \n",
    "    return vector_representation_of_a_sentence"
   ]
  },
  {
   "cell_type": "code",
   "execution_count": 4,
   "id": "c3c1a106-e40a-4185-93d0-b4d577f23855",
   "metadata": {},
   "outputs": [],
   "source": [
    "def get_prediction_labels(predictions):\n",
    "    labels = ['negative', 'neutral', 'other', 'positive']\n",
    "    \n",
    "    predicted_labels = []\n",
    "    for pred in predictions:\n",
    "        predicted_labels.append(labels[np.argmax(pred)])\n",
    "        \n",
    "    return predicted_labels"
   ]
  },
  {
   "cell_type": "code",
   "execution_count": 5,
   "id": "532f14e0-a487-4488-9119-7d245896100a",
   "metadata": {
    "tags": []
   },
   "outputs": [],
   "source": [
    "def predict_with_lstm(raw_data):\n",
    "    if isinstance(raw_data, list):\n",
    "        df = pd.DataFrame(data=raw_data, columns=['raw_data'])\n",
    "    else:\n",
    "        raise BaseException(\"Wrong Input: please provide list of texts.\")\n",
    "\n",
    "    df = clean_data(df)\n",
    "    df['split'] = df['clean'].str.split()\n",
    "    df['vec_rep'] = df['split'].apply(\n",
    "        lambda x: get_vector_representation_of_a_sentence(x)\n",
    "    )\n",
    "    X = df['vec_rep']\n",
    "    sentence_padded = sequence.pad_sequences(X, maxlen=150)\n",
    "    sentence_padded = sentence_padded[:, :, :, 0]\n",
    "    \n",
    "    predictions = model.predict(sentence_padded)\n",
    "    predictions_label = get_prediction_labels(predictions=predictions)\n",
    "    \n",
    "    df['prediction'] = predictions_label\n",
    "    \n",
    "    return df"
   ]
  },
  {
   "cell_type": "markdown",
   "id": "2b7b59bb-39a3-4e72-86a1-c568b0362c80",
   "metadata": {},
   "source": [
    "### Usage"
   ]
  },
  {
   "cell_type": "code",
   "execution_count": 6,
   "id": "feba0644-0045-4129-ac4e-fd5668ba413f",
   "metadata": {},
   "outputs": [],
   "source": [
    "from tensorflow.keras.models import load_model\n",
    "from tensorflow.keras.preprocessing import sequence\n",
    "from gensim.models import Word2Vec"
   ]
  },
  {
   "cell_type": "code",
   "execution_count": 7,
   "id": "f5249496-325a-4976-b108-bb5541eee95e",
   "metadata": {},
   "outputs": [
    {
     "name": "stderr",
     "output_type": "stream",
     "text": [
      "2021-11-18 17:25:45.394309: I tensorflow/core/platform/cpu_feature_guard.cc:151] This TensorFlow binary is optimized with oneAPI Deep Neural Network Library (oneDNN) to use the following CPU instructions in performance-critical operations:  AVX2 FMA\n",
      "To enable them in other operations, rebuild TensorFlow with the appropriate compiler flags.\n"
     ]
    }
   ],
   "source": [
    "global model\n",
    "model = load_model('model-assets/model-3-10-epochs.bin')"
   ]
  },
  {
   "cell_type": "code",
   "execution_count": 8,
   "id": "b64e29af-312d-4bdf-81cc-eb79c76eb44c",
   "metadata": {},
   "outputs": [],
   "source": [
    "global word2vec_model\n",
    "word2vec_model = Word2Vec.load(f'model-assets/word-to-vec-model-5000-epochs.bin')"
   ]
  },
  {
   "cell_type": "code",
   "execution_count": 9,
   "id": "9c0bd1e1-b4fe-4152-9a0d-6d426f4f5f6c",
   "metadata": {},
   "outputs": [
    {
     "data": {
      "text/html": [
       "<div>\n",
       "<style scoped>\n",
       "    .dataframe tbody tr th:only-of-type {\n",
       "        vertical-align: middle;\n",
       "    }\n",
       "\n",
       "    .dataframe tbody tr th {\n",
       "        vertical-align: top;\n",
       "    }\n",
       "\n",
       "    .dataframe thead th {\n",
       "        text-align: right;\n",
       "    }\n",
       "</style>\n",
       "<table border=\"1\" class=\"dataframe\">\n",
       "  <thead>\n",
       "    <tr style=\"text-align: right;\">\n",
       "      <th></th>\n",
       "      <th>raw_data</th>\n",
       "      <th>clean</th>\n",
       "      <th>word_count</th>\n",
       "      <th>split</th>\n",
       "      <th>vec_rep</th>\n",
       "      <th>prediction</th>\n",
       "    </tr>\n",
       "  </thead>\n",
       "  <tbody>\n",
       "    <tr>\n",
       "      <th>0</th>\n",
       "      <td>this coin is good</td>\n",
       "      <td>this coin is good</td>\n",
       "      <td>4</td>\n",
       "      <td>[this, coin, is, good]</td>\n",
       "      <td>[[[-1.7857865], [5.0768943], [4.134419], [3.38...</td>\n",
       "      <td>positive</td>\n",
       "    </tr>\n",
       "    <tr>\n",
       "      <th>1</th>\n",
       "      <td>What is this coin?</td>\n",
       "      <td>what is this coin</td>\n",
       "      <td>4</td>\n",
       "      <td>[what, is, this, coin]</td>\n",
       "      <td>[[[0.14095268], [1.760383], [-2.4575827], [3.4...</td>\n",
       "      <td>neutral</td>\n",
       "    </tr>\n",
       "    <tr>\n",
       "      <th>2</th>\n",
       "      <td>shiba performed poor recently</td>\n",
       "      <td>shiba performed poor recently</td>\n",
       "      <td>4</td>\n",
       "      <td>[shiba, performed, poor, recently]</td>\n",
       "      <td>[[[-2.9768016], [-5.9770007], [5.1817427], [-0...</td>\n",
       "      <td>negative</td>\n",
       "    </tr>\n",
       "  </tbody>\n",
       "</table>\n",
       "</div>"
      ],
      "text/plain": [
       "                        raw_data                          clean  word_count  \\\n",
       "0              this coin is good              this coin is good           4   \n",
       "1             What is this coin?              what is this coin           4   \n",
       "2  shiba performed poor recently  shiba performed poor recently           4   \n",
       "\n",
       "                                split  \\\n",
       "0              [this, coin, is, good]   \n",
       "1              [what, is, this, coin]   \n",
       "2  [shiba, performed, poor, recently]   \n",
       "\n",
       "                                             vec_rep prediction  \n",
       "0  [[[-1.7857865], [5.0768943], [4.134419], [3.38...   positive  \n",
       "1  [[[0.14095268], [1.760383], [-2.4575827], [3.4...    neutral  \n",
       "2  [[[-2.9768016], [-5.9770007], [5.1817427], [-0...   negative  "
      ]
     },
     "execution_count": 9,
     "metadata": {},
     "output_type": "execute_result"
    }
   ],
   "source": [
    "sentence = [\n",
    "    \"this coin is good\", \n",
    "    \"What is this coin?\", \n",
    "    \"shiba performed poor recently\"\n",
    "]\n",
    "\n",
    "df = predict_with_lstm(sentence)\n",
    "df"
   ]
  },
  {
   "cell_type": "code",
   "execution_count": null,
   "id": "8d47392a-d393-4e72-9d64-573e33f5a592",
   "metadata": {},
   "outputs": [],
   "source": []
  }
 ],
 "metadata": {
  "kernelspec": {
   "display_name": "Python 3 (ipykernel)",
   "language": "python",
   "name": "python3"
  },
  "language_info": {
   "codemirror_mode": {
    "name": "ipython",
    "version": 3
   },
   "file_extension": ".py",
   "mimetype": "text/x-python",
   "name": "python",
   "nbconvert_exporter": "python",
   "pygments_lexer": "ipython3",
   "version": "3.9.7"
  }
 },
 "nbformat": 4,
 "nbformat_minor": 5
}
